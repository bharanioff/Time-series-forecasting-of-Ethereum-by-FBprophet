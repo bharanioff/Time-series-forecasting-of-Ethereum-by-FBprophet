{
  "nbformat": 4,
  "nbformat_minor": 0,
  "metadata": {
    "colab": {
      "name": "Time Series Forecasting Of Ethereum Prices Using Phrophet.ipynb",
      "provenance": [],
      "collapsed_sections": []
    },
    "kernelspec": {
      "name": "python3",
      "display_name": "Python 3"
    },
    "language_info": {
      "name": "python"
    }
  },
  "cells": [
    {
      "cell_type": "markdown",
      "metadata": {
        "id": "Efxrmhi6iqRP"
      },
      "source": [
        "Prophet is a Python time series forecast library developed by Facebook. Prophet automatically detects yearly, weekly, and daily seasonality. It can quickly decompose the trend and seasonality effects.\n",
        "\n",
        "In this project, we will make a time-series prediction of Ethereum prices. The following topics will be covered:\n",
        "* How to train a time series forecasting model using Prophet?\n",
        "* How to make predictions and do time series decomposition?\n",
        "* How to identify changing points in the trend?\n",
        "* How to do time series cross-validation?\n",
        "* How to evaluate time series model performance using Prophet?"
      ]
    },
    {
      "cell_type": "markdown",
      "metadata": {
        "id": "4neqXVY0OYfi"
      },
      "source": [
        "# Step 1: Install And Import Libraries"
      ]
    },
    {
      "cell_type": "markdown",
      "metadata": {
        "id": "Fz-Unpa2wLsI"
      },
      "source": [
        "In the first step, we will install and import libraries. Two Python packages need to be installed, `yfinance` and `prophet`. \n"
      ]
    },
    {
      "cell_type": "code",
      "source": [
        "pip install prophet"
      ],
      "metadata": {
        "colab": {
          "base_uri": "https://localhost:8080/"
        },
        "id": "AXGDl_DP7JMN",
        "outputId": "e7e6a46d-c241-4a4c-aa41-baa9629d3006"
      },
      "execution_count": null,
      "outputs": [
        {
          "output_type": "stream",
          "name": "stdout",
          "text": [
            "Looking in indexes: https://pypi.org/simple, https://us-python.pkg.dev/colab-wheels/public/simple/\n",
            "Requirement already satisfied: prophet in /usr/local/lib/python3.7/dist-packages (1.1)\n",
            "Requirement already satisfied: setuptools>=42 in /usr/local/lib/python3.7/dist-packages (from prophet) (57.4.0)\n",
            "Requirement already satisfied: setuptools-git>=1.2 in /usr/local/lib/python3.7/dist-packages (from prophet) (1.2)\n",
            "Requirement already satisfied: cmdstanpy>=1.0.1 in /usr/local/lib/python3.7/dist-packages (from prophet) (1.0.4)\n",
            "Requirement already satisfied: holidays>=0.13 in /usr/local/lib/python3.7/dist-packages (from prophet) (0.14.2)\n",
            "Requirement already satisfied: matplotlib>=2.0.0 in /usr/local/lib/python3.7/dist-packages (from prophet) (3.2.2)\n",
            "Requirement already satisfied: LunarCalendar>=0.0.9 in /usr/local/lib/python3.7/dist-packages (from prophet) (0.0.9)\n",
            "Requirement already satisfied: convertdate>=2.1.2 in /usr/local/lib/python3.7/dist-packages (from prophet) (2.4.0)\n",
            "Requirement already satisfied: Cython>=0.22 in /usr/local/lib/python3.7/dist-packages (from prophet) (0.29.30)\n",
            "Requirement already satisfied: python-dateutil>=2.8.0 in /usr/local/lib/python3.7/dist-packages (from prophet) (2.8.2)\n",
            "Requirement already satisfied: tqdm>=4.36.1 in /usr/local/lib/python3.7/dist-packages (from prophet) (4.64.0)\n",
            "Requirement already satisfied: numpy>=1.15.4 in /usr/local/lib/python3.7/dist-packages (from prophet) (1.21.6)\n",
            "Requirement already satisfied: pandas>=1.0.4 in /usr/local/lib/python3.7/dist-packages (from prophet) (1.3.5)\n",
            "Requirement already satisfied: wheel>=0.37.0 in /usr/local/lib/python3.7/dist-packages (from prophet) (0.37.1)\n",
            "Requirement already satisfied: ujson in /usr/local/lib/python3.7/dist-packages (from cmdstanpy>=1.0.1->prophet) (5.4.0)\n",
            "Requirement already satisfied: pymeeus<=1,>=0.3.13 in /usr/local/lib/python3.7/dist-packages (from convertdate>=2.1.2->prophet) (0.5.11)\n",
            "Requirement already satisfied: hijri-converter in /usr/local/lib/python3.7/dist-packages (from holidays>=0.13->prophet) (2.2.4)\n",
            "Requirement already satisfied: korean-lunar-calendar in /usr/local/lib/python3.7/dist-packages (from holidays>=0.13->prophet) (0.2.1)\n",
            "Requirement already satisfied: pytz in /usr/local/lib/python3.7/dist-packages (from LunarCalendar>=0.0.9->prophet) (2022.1)\n",
            "Requirement already satisfied: ephem>=3.7.5.3 in /usr/local/lib/python3.7/dist-packages (from LunarCalendar>=0.0.9->prophet) (4.1.3)\n",
            "Requirement already satisfied: cycler>=0.10 in /usr/local/lib/python3.7/dist-packages (from matplotlib>=2.0.0->prophet) (0.11.0)\n",
            "Requirement already satisfied: pyparsing!=2.0.4,!=2.1.2,!=2.1.6,>=2.0.1 in /usr/local/lib/python3.7/dist-packages (from matplotlib>=2.0.0->prophet) (3.0.9)\n",
            "Requirement already satisfied: kiwisolver>=1.0.1 in /usr/local/lib/python3.7/dist-packages (from matplotlib>=2.0.0->prophet) (1.4.4)\n",
            "Requirement already satisfied: typing-extensions in /usr/local/lib/python3.7/dist-packages (from kiwisolver>=1.0.1->matplotlib>=2.0.0->prophet) (4.1.1)\n",
            "Requirement already satisfied: six>=1.5 in /usr/local/lib/python3.7/dist-packages (from python-dateutil>=2.8.0->prophet) (1.15.0)\n"
          ]
        }
      ]
    },
    {
      "cell_type": "code",
      "source": [
        "pip install yfinance"
      ],
      "metadata": {
        "colab": {
          "base_uri": "https://localhost:8080/"
        },
        "id": "L3-zXPIO7O4D",
        "outputId": "410aedec-dc5a-436b-bea4-67a0b184bbaa"
      },
      "execution_count": null,
      "outputs": [
        {
          "output_type": "stream",
          "name": "stdout",
          "text": [
            "Looking in indexes: https://pypi.org/simple, https://us-python.pkg.dev/colab-wheels/public/simple/\n",
            "Requirement already satisfied: yfinance in /usr/local/lib/python3.7/dist-packages (0.1.74)\n",
            "Requirement already satisfied: numpy>=1.15 in /usr/local/lib/python3.7/dist-packages (from yfinance) (1.21.6)\n",
            "Requirement already satisfied: lxml>=4.5.1 in /usr/local/lib/python3.7/dist-packages (from yfinance) (4.9.1)\n",
            "Requirement already satisfied: multitasking>=0.0.7 in /usr/local/lib/python3.7/dist-packages (from yfinance) (0.0.11)\n",
            "Requirement already satisfied: requests>=2.26 in /usr/local/lib/python3.7/dist-packages (from yfinance) (2.28.1)\n",
            "Requirement already satisfied: pandas>=0.24.0 in /usr/local/lib/python3.7/dist-packages (from yfinance) (1.3.5)\n",
            "Requirement already satisfied: python-dateutil>=2.7.3 in /usr/local/lib/python3.7/dist-packages (from pandas>=0.24.0->yfinance) (2.8.2)\n",
            "Requirement already satisfied: pytz>=2017.3 in /usr/local/lib/python3.7/dist-packages (from pandas>=0.24.0->yfinance) (2022.1)\n",
            "Requirement already satisfied: six>=1.5 in /usr/local/lib/python3.7/dist-packages (from python-dateutil>=2.7.3->pandas>=0.24.0->yfinance) (1.15.0)\n",
            "Requirement already satisfied: certifi>=2017.4.17 in /usr/local/lib/python3.7/dist-packages (from requests>=2.26->yfinance) (2022.6.15)\n",
            "Requirement already satisfied: urllib3<1.27,>=1.21.1 in /usr/local/lib/python3.7/dist-packages (from requests>=2.26->yfinance) (1.24.3)\n",
            "Requirement already satisfied: idna<4,>=2.5 in /usr/local/lib/python3.7/dist-packages (from requests>=2.26->yfinance) (2.10)\n",
            "Requirement already satisfied: charset-normalizer<3,>=2 in /usr/local/lib/python3.7/dist-packages (from requests>=2.26->yfinance) (2.1.0)\n"
          ]
        }
      ]
    },
    {
      "cell_type": "markdown",
      "metadata": {
        "id": "hZVasRb5Wppa"
      },
      "source": [
        "After the package installation, we need to import libraries for this tutorial.\n",
        "\n",
        "`numpy` and `pandas` are for data processing. `yfinance` is for pulling the data.\n",
        "\n",
        "Prophet is for building the time series forecast. `.plot` is for model output visualization, and `.diagnostics` is for model performance evaluation.\n",
        "\n",
        "`plotly` is imported to visualize the Ethereum price trend.\n"
      ]
    },
    {
      "cell_type": "code",
      "metadata": {
        "id": "d17m7wNLPM8o"
      },
      "source": [
        "# Data processing\n",
        "import numpy as np\n",
        "import pandas as pd\n",
        "\n",
        "# Get time series data\n",
        "import yfinance as yf\n",
        "\n",
        "# Prophet model for time series forecast\n",
        "from prophet import Prophet\n",
        "from prophet.plot import plot_plotly, plot_components_plotly, add_changepoints_to_plot, plot_cross_validation_metric\n",
        "from prophet.diagnostics import cross_validation, performance_metrics\n",
        "\n",
        "# Visualization\n",
        "import plotly.graph_objs as go\n",
        "import matplotlib.pyplot as plt"
      ],
      "execution_count": null,
      "outputs": []
    },
    {
      "cell_type": "markdown",
      "metadata": {
        "id": "WGwjIP8jP-bF"
      },
      "source": [
        "# Step 2: Data Extraction"
      ]
    },
    {
      "cell_type": "markdown",
      "metadata": {
        "id": "gxoq41gawsTE"
      },
      "source": [
        "In the 2nd step, the Ethereum price data is downloaded from the Yahoo finance API. We are using two years' daily data from 2020 and 2021.\n",
        "\n",
        "Yahoo finance downloads data with the date as an index. Using `reset_index`, we created a new index and used the date as a column. This is because Prophet requires the date-time variable to be a column for the model input.\n",
        "\n",
        "By default, the date is string type, `pd.to_datetime` changes it to a DateTime format."
      ]
    },
    {
      "cell_type": "code",
      "metadata": {
        "colab": {
          "base_uri": "https://localhost:8080/"
        },
        "id": "1o0FFNvBQaf-",
        "outputId": "6b5fbbb8-81a1-4946-f55a-ab4424d1d087"
      },
      "source": [
        "# Download Ethereum data\n",
        "data = yf.download(tickers='ETH-INR', start='2020-01-01', end='2021-12-31', interval = '1d')\n",
        "\n",
        "# Reset index and have date as a column\n",
        "data.reset_index(inplace=True)\n",
        "\n",
        "# Change date to datetime format\n",
        "data['Date'] = pd.to_datetime(data['Date'])"
      ],
      "execution_count": null,
      "outputs": [
        {
          "output_type": "stream",
          "name": "stdout",
          "text": [
            "\r[*********************100%***********************]  1 of 1 completed\n"
          ]
        }
      ]
    },
    {
      "cell_type": "code",
      "source": [
        "# Take a look at the data\n",
        "data"
      ],
      "metadata": {
        "colab": {
          "base_uri": "https://localhost:8080/",
          "height": 424
        },
        "id": "vNhoJZqsLGRQ",
        "outputId": "4a983e6d-12a0-4eac-8856-37dc7bcd600d"
      },
      "execution_count": null,
      "outputs": [
        {
          "output_type": "execute_result",
          "data": {
            "text/plain": [
              "          Date           Open           High            Low          Close  \\\n",
              "0   2020-01-01    9242.794922    9465.183594    9218.943359    9316.764648   \n",
              "1   2020-01-02    9318.048828    9318.048828    9058.295898    9090.780273   \n",
              "2   2020-01-03    9090.856445    9655.730469    9029.173828    9628.295898   \n",
              "3   2020-01-04    9628.067383    9763.279297    9547.123047    9692.712891   \n",
              "4   2020-01-05    9692.908203   10004.215820    9691.009766    9779.718750   \n",
              "..         ...            ...            ...            ...            ...   \n",
              "726 2021-12-27  306461.531250  309217.656250  302433.437500  302737.500000   \n",
              "727 2021-12-28  302736.781250  302736.781250  281464.406250  284074.343750   \n",
              "728 2021-12-29  283816.000000  286147.937500  269408.218750  270581.656250   \n",
              "729 2021-12-30  270856.687500  280621.031250  268096.437500  276434.843750   \n",
              "730 2021-12-31  276403.406250  282262.875000  270974.062500  274415.250000   \n",
              "\n",
              "         Adj Close         Volume  \n",
              "0      9316.764648   565210538368  \n",
              "1      9090.780273   573137797678  \n",
              "2      9628.295898   751828899741  \n",
              "3      9692.712891   533249138908  \n",
              "4      9779.718750   540141680661  \n",
              "..             ...            ...  \n",
              "726  302737.500000   856604704973  \n",
              "727  284074.343750  1292942564491  \n",
              "728  270581.656250  1172439828295  \n",
              "729  276434.843750   962080477013  \n",
              "730  274415.250000  1054944976868  \n",
              "\n",
              "[731 rows x 7 columns]"
            ],
            "text/html": [
              "\n",
              "  <div id=\"df-8e8c7b33-e3f2-4f39-b439-516583f3c1e3\">\n",
              "    <div class=\"colab-df-container\">\n",
              "      <div>\n",
              "<style scoped>\n",
              "    .dataframe tbody tr th:only-of-type {\n",
              "        vertical-align: middle;\n",
              "    }\n",
              "\n",
              "    .dataframe tbody tr th {\n",
              "        vertical-align: top;\n",
              "    }\n",
              "\n",
              "    .dataframe thead th {\n",
              "        text-align: right;\n",
              "    }\n",
              "</style>\n",
              "<table border=\"1\" class=\"dataframe\">\n",
              "  <thead>\n",
              "    <tr style=\"text-align: right;\">\n",
              "      <th></th>\n",
              "      <th>Date</th>\n",
              "      <th>Open</th>\n",
              "      <th>High</th>\n",
              "      <th>Low</th>\n",
              "      <th>Close</th>\n",
              "      <th>Adj Close</th>\n",
              "      <th>Volume</th>\n",
              "    </tr>\n",
              "  </thead>\n",
              "  <tbody>\n",
              "    <tr>\n",
              "      <th>0</th>\n",
              "      <td>2020-01-01</td>\n",
              "      <td>9242.794922</td>\n",
              "      <td>9465.183594</td>\n",
              "      <td>9218.943359</td>\n",
              "      <td>9316.764648</td>\n",
              "      <td>9316.764648</td>\n",
              "      <td>565210538368</td>\n",
              "    </tr>\n",
              "    <tr>\n",
              "      <th>1</th>\n",
              "      <td>2020-01-02</td>\n",
              "      <td>9318.048828</td>\n",
              "      <td>9318.048828</td>\n",
              "      <td>9058.295898</td>\n",
              "      <td>9090.780273</td>\n",
              "      <td>9090.780273</td>\n",
              "      <td>573137797678</td>\n",
              "    </tr>\n",
              "    <tr>\n",
              "      <th>2</th>\n",
              "      <td>2020-01-03</td>\n",
              "      <td>9090.856445</td>\n",
              "      <td>9655.730469</td>\n",
              "      <td>9029.173828</td>\n",
              "      <td>9628.295898</td>\n",
              "      <td>9628.295898</td>\n",
              "      <td>751828899741</td>\n",
              "    </tr>\n",
              "    <tr>\n",
              "      <th>3</th>\n",
              "      <td>2020-01-04</td>\n",
              "      <td>9628.067383</td>\n",
              "      <td>9763.279297</td>\n",
              "      <td>9547.123047</td>\n",
              "      <td>9692.712891</td>\n",
              "      <td>9692.712891</td>\n",
              "      <td>533249138908</td>\n",
              "    </tr>\n",
              "    <tr>\n",
              "      <th>4</th>\n",
              "      <td>2020-01-05</td>\n",
              "      <td>9692.908203</td>\n",
              "      <td>10004.215820</td>\n",
              "      <td>9691.009766</td>\n",
              "      <td>9779.718750</td>\n",
              "      <td>9779.718750</td>\n",
              "      <td>540141680661</td>\n",
              "    </tr>\n",
              "    <tr>\n",
              "      <th>...</th>\n",
              "      <td>...</td>\n",
              "      <td>...</td>\n",
              "      <td>...</td>\n",
              "      <td>...</td>\n",
              "      <td>...</td>\n",
              "      <td>...</td>\n",
              "      <td>...</td>\n",
              "    </tr>\n",
              "    <tr>\n",
              "      <th>726</th>\n",
              "      <td>2021-12-27</td>\n",
              "      <td>306461.531250</td>\n",
              "      <td>309217.656250</td>\n",
              "      <td>302433.437500</td>\n",
              "      <td>302737.500000</td>\n",
              "      <td>302737.500000</td>\n",
              "      <td>856604704973</td>\n",
              "    </tr>\n",
              "    <tr>\n",
              "      <th>727</th>\n",
              "      <td>2021-12-28</td>\n",
              "      <td>302736.781250</td>\n",
              "      <td>302736.781250</td>\n",
              "      <td>281464.406250</td>\n",
              "      <td>284074.343750</td>\n",
              "      <td>284074.343750</td>\n",
              "      <td>1292942564491</td>\n",
              "    </tr>\n",
              "    <tr>\n",
              "      <th>728</th>\n",
              "      <td>2021-12-29</td>\n",
              "      <td>283816.000000</td>\n",
              "      <td>286147.937500</td>\n",
              "      <td>269408.218750</td>\n",
              "      <td>270581.656250</td>\n",
              "      <td>270581.656250</td>\n",
              "      <td>1172439828295</td>\n",
              "    </tr>\n",
              "    <tr>\n",
              "      <th>729</th>\n",
              "      <td>2021-12-30</td>\n",
              "      <td>270856.687500</td>\n",
              "      <td>280621.031250</td>\n",
              "      <td>268096.437500</td>\n",
              "      <td>276434.843750</td>\n",
              "      <td>276434.843750</td>\n",
              "      <td>962080477013</td>\n",
              "    </tr>\n",
              "    <tr>\n",
              "      <th>730</th>\n",
              "      <td>2021-12-31</td>\n",
              "      <td>276403.406250</td>\n",
              "      <td>282262.875000</td>\n",
              "      <td>270974.062500</td>\n",
              "      <td>274415.250000</td>\n",
              "      <td>274415.250000</td>\n",
              "      <td>1054944976868</td>\n",
              "    </tr>\n",
              "  </tbody>\n",
              "</table>\n",
              "<p>731 rows × 7 columns</p>\n",
              "</div>\n",
              "      <button class=\"colab-df-convert\" onclick=\"convertToInteractive('df-8e8c7b33-e3f2-4f39-b439-516583f3c1e3')\"\n",
              "              title=\"Convert this dataframe to an interactive table.\"\n",
              "              style=\"display:none;\">\n",
              "        \n",
              "  <svg xmlns=\"http://www.w3.org/2000/svg\" height=\"24px\"viewBox=\"0 0 24 24\"\n",
              "       width=\"24px\">\n",
              "    <path d=\"M0 0h24v24H0V0z\" fill=\"none\"/>\n",
              "    <path d=\"M18.56 5.44l.94 2.06.94-2.06 2.06-.94-2.06-.94-.94-2.06-.94 2.06-2.06.94zm-11 1L8.5 8.5l.94-2.06 2.06-.94-2.06-.94L8.5 2.5l-.94 2.06-2.06.94zm10 10l.94 2.06.94-2.06 2.06-.94-2.06-.94-.94-2.06-.94 2.06-2.06.94z\"/><path d=\"M17.41 7.96l-1.37-1.37c-.4-.4-.92-.59-1.43-.59-.52 0-1.04.2-1.43.59L10.3 9.45l-7.72 7.72c-.78.78-.78 2.05 0 2.83L4 21.41c.39.39.9.59 1.41.59.51 0 1.02-.2 1.41-.59l7.78-7.78 2.81-2.81c.8-.78.8-2.07 0-2.86zM5.41 20L4 18.59l7.72-7.72 1.47 1.35L5.41 20z\"/>\n",
              "  </svg>\n",
              "      </button>\n",
              "      \n",
              "  <style>\n",
              "    .colab-df-container {\n",
              "      display:flex;\n",
              "      flex-wrap:wrap;\n",
              "      gap: 12px;\n",
              "    }\n",
              "\n",
              "    .colab-df-convert {\n",
              "      background-color: #E8F0FE;\n",
              "      border: none;\n",
              "      border-radius: 50%;\n",
              "      cursor: pointer;\n",
              "      display: none;\n",
              "      fill: #1967D2;\n",
              "      height: 32px;\n",
              "      padding: 0 0 0 0;\n",
              "      width: 32px;\n",
              "    }\n",
              "\n",
              "    .colab-df-convert:hover {\n",
              "      background-color: #E2EBFA;\n",
              "      box-shadow: 0px 1px 2px rgba(60, 64, 67, 0.3), 0px 1px 3px 1px rgba(60, 64, 67, 0.15);\n",
              "      fill: #174EA6;\n",
              "    }\n",
              "\n",
              "    [theme=dark] .colab-df-convert {\n",
              "      background-color: #3B4455;\n",
              "      fill: #D2E3FC;\n",
              "    }\n",
              "\n",
              "    [theme=dark] .colab-df-convert:hover {\n",
              "      background-color: #434B5C;\n",
              "      box-shadow: 0px 1px 3px 1px rgba(0, 0, 0, 0.15);\n",
              "      filter: drop-shadow(0px 1px 2px rgba(0, 0, 0, 0.3));\n",
              "      fill: #FFFFFF;\n",
              "    }\n",
              "  </style>\n",
              "\n",
              "      <script>\n",
              "        const buttonEl =\n",
              "          document.querySelector('#df-8e8c7b33-e3f2-4f39-b439-516583f3c1e3 button.colab-df-convert');\n",
              "        buttonEl.style.display =\n",
              "          google.colab.kernel.accessAllowed ? 'block' : 'none';\n",
              "\n",
              "        async function convertToInteractive(key) {\n",
              "          const element = document.querySelector('#df-8e8c7b33-e3f2-4f39-b439-516583f3c1e3');\n",
              "          const dataTable =\n",
              "            await google.colab.kernel.invokeFunction('convertToInteractive',\n",
              "                                                     [key], {});\n",
              "          if (!dataTable) return;\n",
              "\n",
              "          const docLinkHtml = 'Like what you see? Visit the ' +\n",
              "            '<a target=\"_blank\" href=https://colab.research.google.com/notebooks/data_table.ipynb>data table notebook</a>'\n",
              "            + ' to learn more about interactive tables.';\n",
              "          element.innerHTML = '';\n",
              "          dataTable['output_type'] = 'display_data';\n",
              "          await google.colab.output.renderOutput(dataTable, element);\n",
              "          const docLink = document.createElement('div');\n",
              "          docLink.innerHTML = docLinkHtml;\n",
              "          element.appendChild(docLink);\n",
              "        }\n",
              "      </script>\n",
              "    </div>\n",
              "  </div>\n",
              "  "
            ]
          },
          "metadata": {},
          "execution_count": 45
        }
      ]
    },
    {
      "cell_type": "code",
      "source": [
        "data.info()"
      ],
      "metadata": {
        "colab": {
          "base_uri": "https://localhost:8080/"
        },
        "id": "IN8IWtQh6qTj",
        "outputId": "6621ef6b-b6b4-402c-ec04-6370d19df818"
      },
      "execution_count": null,
      "outputs": [
        {
          "output_type": "stream",
          "name": "stdout",
          "text": [
            "<class 'pandas.core.frame.DataFrame'>\n",
            "RangeIndex: 731 entries, 0 to 730\n",
            "Data columns (total 7 columns):\n",
            " #   Column     Non-Null Count  Dtype         \n",
            "---  ------     --------------  -----         \n",
            " 0   Date       731 non-null    datetime64[ns]\n",
            " 1   Open       731 non-null    float64       \n",
            " 2   High       731 non-null    float64       \n",
            " 3   Low        731 non-null    float64       \n",
            " 4   Close      731 non-null    float64       \n",
            " 5   Adj Close  731 non-null    float64       \n",
            " 6   Volume     731 non-null    int64         \n",
            "dtypes: datetime64[ns](1), float64(5), int64(1)\n",
            "memory usage: 40.1 KB\n"
          ]
        }
      ]
    },
    {
      "cell_type": "markdown",
      "source": [
        "# Step 3: Visualizing imported data"
      ],
      "metadata": {
        "id": "IX7f-6zRSivK"
      }
    },
    {
      "cell_type": "markdown",
      "source": [
        "From the trend chart, we can see that the Ethereum price started to increase after January 2021."
      ],
      "metadata": {
        "id": "qMKnTPuUUC7E"
      }
    },
    {
      "cell_type": "code",
      "metadata": {
        "colab": {
          "base_uri": "https://localhost:8080/",
          "height": 542
        },
        "id": "aKv7OtsXTkqa",
        "outputId": "7a00d9f0-22c8-41d4-89ba-92db22f7c1bf"
      },
      "source": [
        "# Declare a figure\n",
        "fig = go.Figure()\n",
        "fig.update_layout(\n",
        "    title_text=\"Candle Stick plot of Ethereum Data\",\n",
        ")\n",
        "# Candlestick chart\n",
        "fig.add_trace(go.Candlestick(x=data.Date,\n",
        "                open=data['Open'], \n",
        "                high=data['High'],\n",
        "                low=data['Low'],\n",
        "                close=data['Close'],\n",
        "                name = 'Ethereum Data'))"
      ],
      "execution_count": null,
      "outputs": [
        {
          "output_type": "display_data",
          "data": {
            "text/html": [
              "<html>\n",
              "<head><meta charset=\"utf-8\" /></head>\n",
              "<body>\n",
              "    <div>            <script src=\"https://cdnjs.cloudflare.com/ajax/libs/mathjax/2.7.5/MathJax.js?config=TeX-AMS-MML_SVG\"></script><script type=\"text/javascript\">if (window.MathJax) {MathJax.Hub.Config({SVG: {font: \"STIX-Web\"}});}</script>                <script type=\"text/javascript\">window.PlotlyConfig = {MathJaxConfig: 'local'};</script>\n",
              "        <script src=\"https://cdn.plot.ly/plotly-2.8.3.min.js\"></script>                <div id=\"7f304ca7-dbde-4cff-99b2-a53f41731f7d\" class=\"plotly-graph-div\" style=\"height:525px; width:100%;\"></div>            <script type=\"text/javascript\">                                    window.PLOTLYENV=window.PLOTLYENV || {};                                    if (document.getElementById(\"7f304ca7-dbde-4cff-99b2-a53f41731f7d\")) {                    Plotly.newPlot(                        \"7f304ca7-dbde-4cff-99b2-a53f41731f7d\",                        [{\"close\":[9316.7646484375,9090.7802734375,9628.2958984375,9692.712890625,9779.71875,10360.5751953125,10330.359375,10092.4560546875,9894.7841796875,10220.1328125,10142.177734375,10351.55078125,10200.9892578125,11758.7841796875,11756.4990234375,11664.462890625,12132.83984375,12458.6259765625,11862.9892578125,11871.990234375,12079.0439453125,11967.330078125,11621.8544921875,11629.70703125,11503.6572265625,11988.412109375,12213.01171875,12564.6923828125,12482.83984375,13218.2978515625,12881.2724609375,13132.50390625,13485.9658203125,13541.955078125,13457.6103515625,14539.1513671875,15140.4130859375,15928.4775390625,15958.546875,16346.9765625,15937.2802734375,16812.72265625,18925.076171875,19109.712890625,20329.197265625,18935.21484375,18589.73828125,19007.533203125,20183.0,18605.4375,18541.921875,19093.36328125,18858.37109375,19678.748046875,19108.630859375,17813.12890625,16175.2509765625,16256.8583984375,16366.439453125,15867.56640625,15804.203125,16698.78515625,16482.529296875,16500.94921875,16932.740234375,18020.142578125,17602.390625,14851.7353515625,15034.548828125,14902.451171875,14454.392578125,8362.73828125,9851.47265625,9119.58984375,9256.544921875,8218.6806640625,8434.6005859375,8611.1611328125,10266.421875,10037.9296875,10044.095703125,9315.28125,10330.3173828125,10540.4580078125,10329.9140625,10339.2197265625,10028.7373046875,9807.7451171875,9468.5615234375,10022.33203125,10064.2705078125,10387.7080078125,10818.64453125,10858.6181640625,11097.6650390625,10943.99609375,12850.0830078125,12489.13671875,13115.419921875,12966.1416015625,12067.3056640625,12052.3427734375,12275.2646484375,11917.6826171875,11971.9677734375,11726.5390625,13231.9130859375,13130.3515625,14299.1083984375,13906.2578125,13196.7392578125,13295.603515625,13952.43359375,14061.142578125,14442.1845703125,14918.2080078125,15051.6767578125,15025.919921875,15093.7958984375,16330.89453125,15655.4150390625,16250.447265625,16328.3388671875,15932.466796875,15746.28125,15703.02734375,15554.162109375,16072.876953125,16075.7529296875,15976.6552734375,14245.61328125,14117.7744140625,14268.2939453125,15026.384765625,15321.6396484375,14843.2607421875,15226.77734375,15708.845703125,16220.2392578125,16160.3837890625,15870.70703125,15118.5947265625,15743.8427734375,15859.7509765625,15379.134765625,15580.4013671875,15241.60546875,15851.8359375,16641.91796875,16666.091796875,18302.71484375,17444.0234375,18651.236328125,17807.09765625,18393.52734375,18443.92578125,18227.818359375,18281.419921875,18514.529296875,18572.837890625,18493.298828125,18726.544921875,17603.62109375,18039.271484375,18146.798828125,17782.662109375,17469.595703125,17910.298828125,17799.478515625,17732.6796875,17319.8046875,17482.677734375,17461.01171875,18381.603515625,18460.2109375,17858.419921875,17596.591796875,17369.333984375,16862.001953125,17040.765625,17231.234375,17099.794921875,17438.72265625,17179.181640625,16831.78125,17107.12890625,17001.890625,18018.53515625,17907.62890625,18485.486328125,18259.63671875,18112.119140625,18006.177734375,18198.3125,18021.15234375,18094.47265625,17917.73046875,17565.296875,17434.130859375,17637.158203125,17862.12890625,17652.53125,18264.404296875,19562.05859375,20561.51953125,20864.287109375,22720.55078125,23148.974609375,24049.974609375,23717.787109375,23805.673828125,25016.80859375,25892.375,28862.9765625,27770.005859375,29036.091796875,29264.63671875,30037.986328125,29584.048828125,28473.23828125,29559.1015625,29343.828125,29642.5390625,28382.927734375,29236.5390625,32080.15234375,32741.283203125,32438.65234375,32491.935546875,32106.12890625,31595.837890625,30473.322265625,31228.466796875,29156.96484375,29659.650390625,29323.330078125,30281.75,28507.623046875,28699.380859375,28228.435546875,28949.720703125,29245.658203125,31327.95703125,31951.298828125,34856.44140625,32234.177734375,28328.142578125,28437.1875,24556.52734375,25898.11328125,25902.193359375,24910.662109375,25746.037109375,27068.208984375,27531.3203125,28448.859375,26861.662109375,27691.404296875,26855.943359375,26905.93359375,28625.455078125,28293.130859375,28379.98046875,27285.390625,25148.63671875,25322.103515625,23692.572265625,25826.984375,25955.728515625,26199.294921875,26343.0546875,26198.353515625,26523.654296875,26468.083984375,25873.869140625,25387.13671875,25407.900390625,25852.02734375,25879.921875,25090.31640625,25067.701171875,25704.845703125,26673.919921875,27066.240234375,27391.017578125,28440.49609375,27986.47265625,27814.490234375,27693.474609375,26897.509765625,27090.443359375,27777.546875,27886.248046875,27124.568359375,28914.51953125,30506.32421875,30254.775390625,30453.45703125,29993.537109375,29127.552734375,29817.099609375,28834.583984375,28727.279296875,28563.67578125,28844.99609375,29582.390625,28529.96484375,28939.095703125,29835.216796875,30697.9140625,33640.65625,32234.55859375,33553.07421875,32849.14453125,33404.5859375,34510.81640625,34523.53125,35377.65625,34298.6015625,33360.11328125,34228.0,35813.2734375,35597.015625,34949.27734375,37804.0078125,40751.3828125,41381.41015625,45174.21484375,44665.0625,42111.22265625,38304.93359375,38261.64453125,39808.79296875,42576.94921875,45498.68359375,43268.17578125,44076.33984375,45598.984375,42017.515625,44027.8828125,44422.67578125,43684.04296875,40905.14453125,42332.8203125,41300.1015625,40246.16796875,41925.1875,43482.0546875,43160.984375,43332.81640625,46826.70703125,47270.1796875,48198.80859375,48529.0078125,46975.953125,45087.15234375,47056.34375,43101.49609375,44988.6953125,46078.17578125,46771.48046875,50327.9609375,53717.18359375,53721.41015625,55010.73046875,53901.99609375,53384.20703125,56612.50390625,71296.9453125,76030.3671875,80485.5234375,88291.1484375,90020.5390625,89830.8515625,94003.3984375,92593.8125,80146.1171875,76323.328125,82736.2578125,89057.3515625,85733.1796875,90209.21875,89982.421875,92019.6015625,100807.375,100780.4296875,81824.375,90264.6484375,89861.578125,101581.734375,96643.2734375,98956.8828125,91531.9765625,97190.71875,100795.9375,100328.2421875,95876.3046875,100104.3046875,110485.1328125,121010.96875,116395.8984375,125097.671875,122127.6171875,117507.7890625,127381.03125,128811.6875,126994.0859375,129699.5,133823.78125,131688.140625,131040.1640625,129282.1484375,129902.6015625,134556.390625,140669.75,142212.59375,139301.546875,140451.78125,129119.9140625,113655.0625,117757.328125,107949.796875,106422.8671875,107448.765625,104354.015625,114710.75,109375.015625,115037.359375,112765.5859375,112206.4453125,121095.4765625,126105.9921875,134541.78125,135949.21875,130810.4453125,132653.4375,128812.796875,139903.9375,134808.953125,129926.28125,131033.8984375,132327.8125,129560.5234375,131672.421875,131310.96875,129489.265625,122420.0234375,121890.8984375,115754.8828125,115843.890625,123366.46875,124355.5625,122534.421875,132367.78125,135582.953125,140431.28125,144909.765625,157261.640625,148837.828125,153585.515625,154465.4375,155660.703125,146651.40625,155692.171875,154848.078125,159618.3125,161241.15625,160432.796875,172856.96875,182697.046875,188247.640625,181334.203125,174821.0625,166808.65625,162200.875,175813.140625,178373.609375,180485.90625,176957.6875,165582.875,173399.59375,189617.65625,198583.84375,204089.15625,204301.265625,205482.1875,218277.40625,218732.765625,253343.34375,240050.015625,259976.625,256982.734375,255397.515625,286048.46875,287947.1875,290494.59375,305879.90625,278948.3125,272860.375,298909.65625,266598.3125,262889.40625,240501.125,247179.265625,180179.171875,203315.140625,177229.734375,167392.296875,153809.578125,192550.828125,197056.546875,209929.6875,198898.515625,175185.96875,165022.46875,173043.171875,196799.46875,191865.65625,197442.828125,208550.59375,195995.890625,191794.953125,197957.265625,188596.15625,183711.46875,190365.78125,180451.890625,172370.71875,173741.3125,183694.171875,185725.53125,191503.484375,174791.21875,176130.96875,165469.84375,161522.859375,166554.765625,140000.890625,139369.625,147732.21875,147524.671875,134511.4375,135700.0,146874.53125,154488.703125,160518.8125,169161.40625,157585.140625,160139.40625,165807.5625,172926.765625,163394.34375,173791.265625,173225.40625,158411.859375,159908.5,157279.8125,159398.265625,151821.15625,144845.4375,148516.546875,142458.1875,140336.75,141711.21875,141401.4375,136285.53125,133218.234375,148208.78125,150783.3125,158187.609375,162973.109375,163145.921875,165916.265625,171231.734375,170840.578125,176791.40625,183490.875,188641.53125,190548.875,194018.34375,185710.765625,202139.40625,209428.296875,214629.453125,234300.296875,224497.90625,235899.015625,233854.140625,234471.984375,226005.03125,246564.59375,242351.40625,245695.828125,234029.078125,224198.234375,224302.25,236887.078125,244224.875,239706.75,240894.84375,245977.390625,235221.953125,238974.40625,229908.796875,240378.6875,238453.25,237174.546875,236705.96875,250652.0,279886.25,276949.0625,287643.78125,283790.6875,288485.0,287204.78125,251465.296875,258144.703125,252018.828125,236129.5,240450.796875,250728.609375,241622.9375,252537.421875,265651.5,262722.84375,250468.0625,252935.453125,245368.140625,217957.265625,204002.15625,227377.9375,233004.375,216395.59375,215945.0625,226035.421875,216614.421875,208199.078125,212052.90625,222888.625,245259.765625,251501.765625,253479.375,252063.515625,262352.90625,267710.25,268489.375,268372.4375,268648.9375,257987.453125,267329.84375,263633.90625,271570.625,283933.09375,289459.09375,287042.125,288556.5,282040.78125,291290.46875,310899.15625,303533.96875,297739.21875,312872.625,306568.03125,316721.84375,309375.125,294918.4375,320680.90625,330790.5625,324114.71875,321295.4375,323612.5,342541.96875,342939.90625,337932.34375,332839.5625,335461.3125,342810.84375,355703.53125,351223.5,344955.25,351576.09375,346987.21875,345868.875,343963.03125,339218.4375,313945.71875,318396.09375,296752.125,319410.8125,327705.71875,317327.65625,304304.125,323157.96875,316408.84375,318498.5625,302531.8125,307485.53125,322300.65625,333628.03125,347597.8125,344107.53125,338262.65625,317896.625,309906.25,315909.9375,328612.0,325393.8125,334654.53125,311454.53125,296234.875,309264.53125,313099.8125,286947.125,284831.1875,306248.0,301812.40625,295044.65625,301229.34375,298208.40625,298023.9375,304280.0,300508.15625,308378.875,304066.0625,307468.65625,306656.1875,302737.5,284074.34375,270581.65625,276434.84375,274415.25],\"high\":[9465.18359375,9318.048828125,9655.73046875,9763.279296875,10004.2158203125,10362.3154296875,10433.095703125,10548.931640625,10106.9697265625,10224.70703125,10398.826171875,10370.583984375,10416.37890625,11881.4970703125,12075.4765625,11815.60546875,12298.912109375,12683.345703125,12592.3271484375,12013.498046875,12104.3115234375,12175.099609375,11968.6162109375,11720.275390625,11642.263671875,11998.626953125,12357.50390625,12601.66796875,12732.779296875,13330.7578125,13269.49609375,13144.7734375,13805.0556640625,13841.376953125,13630.8759765625,14730.337890625,15269.2705078125,15937.875,16204.673828125,16438.970703125,16390.318359375,16860.9375,19420.265625,19513.767578125,20389.201171875,20537.068359375,19518.43359375,19043.74609375,20272.59375,20294.794921875,18884.916015625,19170.28125,19149.91015625,19678.748046875,19805.78125,19124.125,17944.8203125,16995.080078125,16799.818359375,16763.123046875,16360.4755859375,16938.7890625,16996.490234375,16695.98046875,17186.53515625,18022.337890625,18499.732421875,17597.03125,15373.185546875,15183.5625,14971.939453125,14475.1181640625,10246.00390625,9946.330078125,9776.0830078125,9240.4150390625,8802.158203125,8594.4755859375,10561.951171875,11331.3837890625,10282.587890625,10296.1416015625,10330.3173828125,10809.2802734375,10745.2734375,10372.740234375,10427.99609375,10035.8349609375,9821.7900390625,10098.263671875,10115.568359375,10387.7080078125,11192.146484375,11201.115234375,11109.7333984375,11167.1416015625,12860.4736328125,13228.787109375,13134.1005859375,13134.8720703125,12980.3876953125,12277.181640625,12532.3251953125,12245.3486328125,12228.5458984375,12252.3759765625,13310.322265625,13332.1064453125,14377.6337890625,14389.755859375,14239.814453125,13437.501953125,14038.8525390625,14358.4619140625,14541.5849609375,15018.80078125,15206.3330078125,15221.9873046875,15119.9833984375,16474.7578125,17069.27734375,16472.265625,16367.9345703125,16535.107421875,16014.4375,15996.1689453125,16090.6455078125,16222.4453125,16396.44921875,16220.3203125,15973.037109375,14518.908203125,14401.71484375,15102.005859375,15385.16015625,15368.2421875,15385.669921875,15860.673828125,16394.466796875,16226.279296875,16257.2822265625,15986.166015625,15851.93359375,15988.3388671875,16004.193359375,15657.0556640625,15613.2421875,15851.8359375,16674.927734375,16973.216796875,18423.3671875,18431.078125,18741.2421875,18956.626953125,18393.52734375,18561.501953125,18691.931640625,18587.43359375,18547.26171875,18598.017578125,18726.1484375,18818.552734375,18882.8203125,18174.380859375,18168.390625,18161.4296875,17769.482421875,17973.732421875,17979.994140625,17882.294921875,17736.95703125,17648.5078125,17717.892578125,18470.373046875,18521.189453125,18811.9296875,17863.931640625,17668.9609375,17583.01171875,17288.431640625,17360.103515625,17339.623046875,17570.3984375,17550.958984375,17196.939453125,17180.31640625,17165.57421875,18064.9765625,18105.97265625,18606.142578125,18539.580078125,18249.705078125,18152.890625,18295.90234375,18377.89453125,18226.57421875,18184.248046875,17961.5234375,17573.779296875,17716.5625,17912.546875,17943.697265625,18347.193359375,19619.169921875,20765.826171875,21385.673828125,22921.12890625,23641.873046875,24736.9296875,24378.56640625,24270.986328125,25325.62109375,26121.416015625,29136.33984375,30813.296875,29821.669921875,30118.44140625,30428.287109375,30216.23828125,29867.681640625,29559.1015625,29990.4765625,29937.224609375,29836.685546875,29258.083984375,32388.7734375,33276.5390625,33067.40625,32656.546875,33094.125,32333.236328125,31846.279296875,31398.447265625,31400.00390625,29706.96484375,29708.75,30372.435546875,30310.21875,29094.45703125,29216.759765625,29113.2734375,29662.115234375,31346.759765625,32206.94921875,35596.84375,35068.51171875,32866.4375,29439.03515625,28871.62109375,26355.904296875,26253.546875,26115.044921875,26345.43359375,27673.771484375,27673.482421875,28474.96875,28579.404296875,28225.7109375,27979.818359375,27389.291015625,28985.34765625,28837.853515625,28492.748046875,28383.92578125,27537.240234375,25467.537109375,25334.431640625,25897.404296875,26368.744140625,26226.318359375,26678.068359375,27037.50390625,26566.15234375,26559.333984375,27009.658203125,25958.4296875,25758.794921875,25959.5546875,26045.306640625,25990.69921875,25107.96484375,25815.494140625,26872.365234375,27598.826171875,27524.37890625,28982.701171875,28414.48828125,28368.8046875,27936.888671875,27885.978515625,27157.439453125,27805.84765625,28116.84765625,27924.05859375,29530.955078125,30961.373046875,30857.361328125,30759.28125,30800.595703125,30341.76171875,30214.787109375,30169.328125,29258.833984375,29095.615234375,29324.001953125,29667.55078125,30125.130859375,29081.939453125,30292.126953125,30954.345703125,33750.24609375,34451.20703125,33867.125,33790.6328125,33682.9375,35286.078125,34906.95703125,35419.3203125,35417.53515625,34361.53125,34476.8203125,35885.578125,36623.46875,35655.06640625,38067.44140625,40806.3203125,42961.15234375,45297.9609375,45947.88671875,44753.55078125,42476.2421875,39182.10546875,40534.7421875,42639.390625,45528.13671875,46781.8046875,44553.6328125,45961.62890625,45717.6953125,44027.8828125,44780.36328125,44497.13671875,43875.2109375,42587.77734375,42415.57421875,41351.625,42277.07421875,43784.41796875,43494.83203125,43907.09375,46860.51953125,49576.24609375,48750.6015625,49226.1875,48575.0703125,47700.890625,47072.83203125,47083.28125,45151.17578125,46571.48046875,47866.44921875,52536.41796875,54849.015625,54274.03515625,55204.890625,55206.91015625,54734.73828125,57508.87109375,73566.828125,84192.6171875,82548.1875,88460.5703125,94204.0,93356.0234375,95676.03125,98908.6640625,92548.0546875,84262.859375,82999.5390625,90941.4296875,91364.765625,94342.265625,92577.09375,92177.828125,104796.7421875,102889.7109375,100810.34375,92821.6796875,92866.265625,101837.359375,107147.640625,100412.2421875,99760.171875,98926.34375,104119.21875,102245.109375,100532.4140625,100455.671875,112510.1796875,121010.96875,123074.3984375,127923.84375,126528.953125,123014.8984375,129071.7421875,132354.671875,133073.9375,131445.75,135115.53125,135861.484375,134159.4375,133202.203125,132503.46875,134914.046875,141534.3125,142857.34375,147735.328125,143241.015625,140513.65625,129077.6015625,123927.40625,121312.296875,115323.953125,112229.5390625,108068.328125,114929.7265625,117123.2734375,120176.6875,118435.8671875,113275.1171875,122146.71875,126674.65625,134605.5625,135949.21875,136437.515625,133931.40625,133619.703125,140846.0,140346.9375,137382.359375,131872.234375,132916.703125,133757.859375,133433.515625,135807.765625,132087.4375,131095.71875,125149.1328125,126360.4921875,118000.859375,123372.3203125,125538.609375,125231.4140625,133539.484375,136638.25,142585.625,145766.8125,157938.640625,157389.078125,154849.609375,156764.671875,157603.234375,156741.609375,155911.546875,157270.28125,164180.875,161804.109375,164762.328125,174416.484375,183790.890625,190126.328125,190320.84375,186213.53125,176354.296875,170169.71875,176990.328125,186091.203125,198361.84375,183190.0625,177268.75,176248.8125,189756.46875,199608.734375,204908.6875,207176.859375,207082.8125,218688.5,221221.625,254742.6875,260008.40625,261357.265625,264818.25,261899.359375,289531.28125,291810.375,308060.96875,306577.53125,320594.96875,296930.59375,305659.90625,302583.0,284242.0,262908.8125,260059.953125,251404.015625,218737.59375,214497.78125,181120.625,173860.328125,194678.28125,200341.140625,211624.78125,209933.578125,200705.140625,185830.1875,178970.828125,196865.421875,198597.125,204379.953125,210709.1875,208699.53125,205422.40625,200023.875,207195.34375,190822.890625,191577.921875,191219.046875,182196.59375,179214.90625,186553.34375,190768.75,193186.3125,187401.15625,181435.140625,176516.578125,168931.03125,168698.546875,167526.25,147790.8125,151951.796875,150800.484375,149598.703125,137253.453125,146953.453125,158935.59375,166472.5625,169755.0625,169150.234375,160553.234375,166740.125,177640.9375,172941.5625,174870.5,179368.40625,173887.203125,162904.859375,163143.765625,161855.828125,161466.203125,151984.125,150078.671875,151849.859375,146068.875,143112.25,148391.546875,143344.796875,137763.5625,150756.609375,152193.46875,158534.875,163600.71875,163361.65625,180754.640625,172469.59375,174194.890625,177929.0,183694.90625,189753.578125,200484.15625,198232.8125,195557.671875,205128.484375,210328.5,218572.640625,235264.359375,237194.234375,237249.46875,240263.671875,242746.984375,240064.46875,246747.15625,247089.234375,246406.6875,247439.25,244376.390625,232077.15625,237008.15625,245258.265625,245741.84375,243172.90625,250077.890625,249008.09375,240764.984375,240946.46875,241204.78125,241425.671875,241307.3125,245339.546875,252852.78125,280035.09375,279758.375,293580.71875,289748.53125,290461.0,290128.28125,288401.09375,262706.75,262145.40625,258442.6875,246057.03125,254581.78125,251932.046875,252537.421875,265651.5,269891.0,263998.78125,260953.09375,254137.03125,246391.21875,228497.578125,227752.515625,234382.3125,233308.609375,219150.6875,230353.953125,233236.453125,219244.34375,218441.609375,226146.03125,246909.46875,256925.484375,258391.359375,256044.140625,264061.09375,271127.625,273135.25,274999.625,272594.875,270717.15625,272810.9375,267414.5625,271686.59375,286432.15625,292272.78125,296939.3125,293375.625,291641.5,291761.6875,311765.90625,326806.09375,311505.0625,312872.625,313927.5625,317880.6875,321577.84375,322120.5,321151.5,334064.5,331697.34375,329269.75,327721.3125,343673.0,347036.1875,342889.5,339715.84375,336159.875,344315.34375,356462.59375,357294.6875,361243.5,355141.375,357409.5,349589.34375,348722.875,354561.375,364228.46875,319351.34375,322437.5,320594.65625,329523.15625,328639.09375,319725.9375,326623.96875,325847.21875,339044.28125,339070.21875,314298.25,322560.53125,334812.34375,356469.53125,358507.40625,346868.09375,349241.15625,319555.125,319485.4375,329890.4375,334004.15625,335955.03125,337894.53125,319647.8125,310112.28125,316015.25,313921.375,294047.25,311815.8125,313384.78125,304133.96875,303736.75,305625.0,302697.0625,306727.15625,308337.34375,311311.84375,310512.96875,310870.1875,308350.75,309217.65625,302736.78125,286147.9375,280621.03125,282262.875],\"low\":[9218.943359375,9058.2958984375,9029.173828125,9547.123046875,9691.009765625,9765.5712890625,10091.80859375,9872.833984375,9693.6279296875,9628.9287109375,10095.4853515625,10126.6044921875,10125.61328125,10189.5546875,11424.91015625,11303.849609375,11549.8720703125,11849.30859375,11628.2099609375,11537.6396484375,11814.9111328125,11862.234375,11443.482421875,11178.37109375,11314.541015625,11432.1318359375,11921.412109375,12199.236328125,12482.83984375,12292.0341796875,12583.3623046875,12851.6005859375,12882.2568359375,13442.7197265625,13206.486328125,13439.6640625,14373.55078125,15137.9267578125,15403.56640625,15946.7978515625,15551.615234375,15567.6513671875,16815.935546875,18475.353515625,18750.751953125,18903.10546875,17344.158203125,17459.724609375,18710.748046875,18605.4375,18000.107421875,18370.75,18612.6171875,18831.685546875,18722.220703125,17738.79296875,15846.9541015625,15242.4091796875,15621.439453125,15867.56640625,15454.8642578125,15682.4931640625,16175.9521484375,16319.6455078125,16510.0546875,16889.283203125,17580.0546875,14845.3662109375,14284.6923828125,14635.9765625,13644.6435546875,8278.1474609375,7185.4619140625,9053.65234375,9012.173828125,7794.255859375,8203.88671875,8296.087890625,8602.95703125,9273.8916015625,9616.4541015625,9284.1748046875,9276.88671875,10138.8720703125,10185.767578125,10334.294921875,10028.7373046875,9506.4208984375,9468.029296875,9455.92578125,9942.4267578125,9936.0927734375,10395.1845703125,10673.5517578125,10708.1103515625,10859.4404296875,10943.8408203125,12436.1025390625,12443.087890625,12817.4169921875,11782.2216796875,11830.083984375,11907.94921875,11571.5966796875,11891.6357421875,11688.8974609375,11513.771484375,12978.4404296875,13128.783203125,13779.4228515625,13055.9765625,13125.3203125,13224.634765625,13727.7998046875,14075.8427734375,14382.8544921875,14857.201171875,14734.048828125,14857.2685546875,15069.2490234375,15539.8896484375,15668.900390625,16142.802734375,15777.3525390625,15073.6357421875,15455.2578125,15553.0263671875,15381.9365234375,15754.7119140625,15785.736328125,13801.087890625,13727.4365234375,14101.7490234375,14264.6728515625,14864.0869140625,14701.599609375,14758.197265625,15183.2001953125,15705.080078125,15922.01171875,15723.4892578125,14618.2451171875,14978.8203125,15601.353515625,15379.134765625,15249.73046875,15130.8662109375,15232.75390625,15615.662109375,16491.484375,16520.28125,17374.326171875,17407.1953125,17522.68359375,17722.822265625,17889.630859375,18187.01953125,18114.6640625,17857.80078125,18231.759765625,18323.09765625,18372.3515625,17507.869140625,17447.294921875,17917.47265625,17694.90625,16835.390625,17331.833984375,17498.767578125,17491.763671875,17282.359375,17281.857421875,17428.958984375,17458.001953125,18170.287109375,17626.22265625,17446.1171875,17348.814453125,16680.857421875,16598.279296875,16792.478515625,16984.955078125,16984.4296875,16861.169921875,16796.451171875,16812.83203125,16766.267578125,16954.5078125,17539.345703125,17840.552734375,18024.375,17817.87890625,17912.666015625,17879.25,17914.490234375,17923.890625,17809.1328125,17433.3125,17443.876953125,17400.5625,17472.078125,17560.5078125,17617.259765625,18129.4609375,19488.470703125,20156.853515625,20850.162109375,22437.423828125,23150.044921875,23037.400390625,23454.578125,23633.966796875,24606.70703125,25744.97265625,26760.736328125,27669.990234375,28800.33203125,28979.1875,29403.181640625,27596.33984375,28310.947265625,28926.01953125,29337.904296875,27695.486328125,27523.5390625,28412.810546875,31689.5546875,32178.1328125,31071.15625,31625.640625,31329.63671875,29742.5859375,30288.826171875,29030.69140625,28684.033203125,28850.763671875,29168.248046875,27792.986328125,28138.357421875,27677.29296875,28208.544921875,28742.236328125,29222.76171875,30871.787109375,31807.505859375,31106.615234375,27994.509765625,27241.41796875,23202.517578125,23368.60546875,23970.97265625,24250.384765625,24502.15234375,25746.1640625,26126.427734375,27027.7578125,26035.67578125,26274.31640625,26766.8984375,26255.61328125,26828.876953125,27740.92578125,27877.935546875,27021.87109375,24741.37890625,24784.646484375,23532.912109375,23493.943359375,24945.63671875,25655.3203125,25782.59765625,26145.708984375,25995.337890625,26055.48046875,25381.521484375,24698.943359375,25271.849609375,25305.904296875,25606.1328125,24882.248046875,24635.935546875,24580.302734375,25478.048828125,26656.669921875,26983.09765625,26877.744140625,27581.853515625,27430.357421875,27281.365234375,26599.42578125,26769.71875,27037.064453125,27429.109375,27006.087890625,27101.89453125,28847.158203125,29760.533203125,30113.38671875,29929.513671875,28390.263671875,28799.3671875,28291.84375,28397.65625,27991.177734375,28449.91015625,28738.68359375,28377.640625,27584.82421875,28259.619140625,29514.369140625,30617.470703125,31697.693359375,32045.21484375,32256.916015625,32545.818359375,33393.09375,33733.5078125,34091.578125,33764.6328125,32815.6328125,33206.7578125,34297.93359375,34668.30859375,34585.296875,34949.3515625,37395.609375,38157.95703125,40859.8046875,44011.41015625,41298.40234375,35836.5234375,36816.81640625,37582.1953125,39347.1015625,42256.93359375,42104.90234375,42635.8828125,43452.0390625,42012.296875,41556.453125,43128.73828125,43208.890625,40740.66015625,39205.17578125,40519.91015625,39695.33984375,40205.484375,41630.13671875,42449.7734375,42758.51953125,42782.9609375,46225.68359375,46497.98828125,47595.546875,45998.859375,44483.97265625,43563.2890625,41380.29296875,41985.1875,44538.046875,45415.51171875,46402.5390625,50369.5,50811.03515625,52777.72265625,53073.95703125,52611.453125,52488.2421875,56395.17578125,66611.515625,72149.625,77917.8984375,85457.2265625,78997.0390625,86754.296875,87666.3203125,67960.1171875,74247.4140625,72752.0078125,79981.9765625,79811.671875,84693.4921875,85921.203125,86909.3984375,91817.8515625,90742.0546875,80142.1328125,76355.03125,87664.4921875,89444.2734375,95202.75,91373.953125,88803.40625,89606.0390625,94356.7109375,96859.3984375,93940.578125,92909.3984375,99520.453125,110183.1875,113914.484375,116398.1328125,120032.90625,109309.8515625,114447.546875,124772.875,122843.890625,124443.53125,126961.5625,128530.59375,129931.75,122187.625,126026.640625,126573.71875,134538.046875,137688.421875,132807.53125,137184.953125,114628.6171875,99823.9375,109371.5546875,107171.109375,103002.6875,105521.5546875,95710.0625,104381.0859375,107046.0390625,108590.71875,110593.359375,105795.3671875,111172.109375,119765.2578125,122218.546875,131718.40625,128816.8984375,126084.0390625,125721.8125,126016.984375,134122.671875,126789.5859375,124815.0546875,126998.3125,123998.2109375,126917.0078125,131245.34375,127797.8671875,121188.7578125,120205.7734375,114119.78125,113312.5390625,115799.3359375,121300.078125,121250.09375,121983.5078125,130532.9609375,131761.015625,140117.078125,143693.734375,148837.828125,147274.140625,149213.0,151186.125,144774.453125,145758.75,153558.171875,154151.5,158416.921875,158231.25,160373.28125,171762.078125,180828.65625,172720.328125,173953.84375,149985.0625,156251.140625,153966.296875,168849.296875,173903.21875,158675.875,161994.1875,162747.65625,172819.953125,185852.609375,190866.5,197950.703125,202174.484375,204200.421875,211952.125,218667.546875,234748.65625,237059.890625,250144.0625,248152.40625,253128.421875,274419.4375,270663.5,278087.53125,278948.3125,260844.171875,271997.5,266598.3125,245554.71875,229475.09375,237863.859375,142973.890625,158911.875,154097.671875,158089.65625,126688.2265625,152429.46875,174236.0625,193086.15625,192303.921875,169137.828125,159880.828125,158457.828125,165041.875,184453.78125,186175.1875,194780.96875,187072.265625,186520.4375,190744.015625,188139.78125,168876.53125,175872.140625,177801.84375,170400.84375,165925.53125,169358.796875,180877.75,184506.984375,173808.40625,171678.671875,159126.515625,160810.03125,151992.625,138424.421875,126951.15625,135847.859375,140016.03125,133066.359375,127563.5390625,134431.546875,145832.328125,154235.265625,155290.21875,155173.359375,151090.984375,157722.4375,163180.0625,160741.21875,163345.0625,171798.984375,156124.46875,153276.328125,155083.84375,155223.890625,149868.171875,143499.296875,139455.265625,140389.171875,138254.109375,138484.59375,140466.03125,135485.734375,128952.3046875,131170.796875,145520.4375,148935.359375,156888.234375,156988.671875,162100.5625,160180.5625,167487.25,169082.53125,172829.71875,180281.734375,187505.15625,186794.953125,181903.1875,182850.5,188360.0625,202132.40625,212965.96875,219850.703125,215308.140625,227723.640625,232394.015625,221718.71875,225579.484375,238572.015625,231393.140625,232864.84375,222833.390625,220048.0,220355.5625,236544.8125,238501.71875,233459.609375,240590.40625,233883.484375,229068.578125,226896.8125,227251.640625,236468.859375,232164.65625,231651.65625,234596.125,247299.4375,272371.40625,271266.84375,280148.4375,280189.03125,282760.25,224899.5625,237417.671875,250306.765625,232126.234375,235942.453125,237864.984375,229732.515625,240749.203125,247975.234375,256776.25,247369.53125,248504.25,242180.75,216736.65625,197510.578125,202226.359375,224437.8125,202705.4375,208076.9375,202586.171875,216507.671875,207165.515625,207229.328125,211097.578125,221303.59375,241738.375,248270.640625,244305.15625,250835.890625,251238.03125,260184.296875,266759.59375,266932.6875,257167.984375,254968.703125,257318.90625,257703.109375,270371.25,280144.0625,285206.4375,274328.21875,277852.3125,281148.78125,287844.65625,301802.375,292925.59375,295823.125,297499.71875,305378.3125,307556.90625,294918.4375,293232.40625,319464.15625,318633.21875,313127.625,312107.875,320921.40625,332487.25,329891.15625,329956.40625,321616.6875,334675.125,342743.71875,349691.875,333675.9375,340850.15625,335534.65625,340717.4375,335866.03125,338342.15625,308245.28125,305084.6875,293678.28125,295437.03125,312792.40625,316266.53125,300281.5,302913.34375,310984.6875,317139.625,294633.40625,302727.3125,299459.21875,321734.15625,327454.84375,339847.65625,333049.96875,308571.40625,265534.40625,303935.46875,296508.59375,321589.03125,319698.9375,308562.71875,295421.71875,291502.25,302344.25,279063.78125,280897.34375,279921.40625,301323.96875,282232.875,287068.90625,296174.84375,285019.71875,296969.53125,298220.375,293279.15625,302645.0,302559.5625,301440.28125,302433.4375,281464.40625,269408.21875,268096.4375,270974.0625],\"name\":\"Ethereum Data\",\"open\":[9242.794921875,9318.048828125,9090.8564453125,9628.0673828125,9692.908203125,9781.783203125,10361.1376953125,10326.31640625,10085.142578125,9893.9189453125,10180.755859375,10149.6591796875,10376.1181640625,10202.71875,11743.142578125,11763.72265625,11671.443359375,12130.5498046875,12465.8671875,11858.3212890625,11867.7255859375,12072.736328125,11967.4404296875,11619.7724609375,11630.85546875,11496.017578125,11983.5439453125,12209.7236328125,12563.09375,12473.3818359375,13221.6201171875,12877.9541015625,13122.390625,13485.2412109375,13541.716796875,13461.0595703125,14531.9931640625,15138.759765625,15913.09375,15946.7978515625,16344.87109375,15927.4580078125,16816.07421875,18899.875,19104.296875,20353.787109375,18947.765625,18589.44140625,19017.90625,20189.564453125,18609.44140625,18537.73046875,19089.837890625,18854.5390625,19675.22265625,19113.455078125,17807.56640625,16175.736328125,16273.6494140625,16371.7041015625,15860.6494140625,15785.51171875,16695.466796875,16488.822265625,16510.0546875,16925.37109375,18036.783203125,17597.03125,14898.31640625,15099.8740234375,14902.5087890625,14444.7783203125,8388.259765625,9879.6259765625,9115.15625,9240.4150390625,8203.88671875,8428.30078125,8610.9775390625,10270.5869140625,10065.501953125,10046.548828125,9318.66796875,10351.9501953125,10552.1201171875,10329.5185546875,10339.845703125,10035.8349609375,9809.904296875,9468.12109375,10016.0263671875,10065.68359375,10395.1845703125,10824.8369140625,10868.083984375,11100.8466796875,10948.689453125,12850.9619140625,12499.6044921875,13124.5009765625,12967.8203125,12076.9453125,12053.58984375,12243.13671875,11923.509765625,11969.6318359375,11719.923828125,13241.29296875,13128.783203125,14295.12890625,13895.94140625,13175.3349609375,13290.4228515625,13954.0078125,14075.8427734375,14439.9306640625,14910.447265625,15063.744140625,15029.6376953125,15097.5849609375,16326.447265625,15678.013671875,16251.2802734375,16330.36328125,15929.271484375,15734.1025390625,15680.7724609375,15543.267578125,16065.9736328125,16087.1181640625,15973.037109375,14248.0771484375,14115.0791015625,14272.9365234375,15003.619140625,15322.115234375,14842.5576171875,15221.5986328125,15710.4453125,16226.279296875,16160.0146484375,15873.15625,15115.0791015625,15745.7646484375,15861.396484375,15349.671875,15575.8349609375,15240.9033203125,15853.505859375,16648.32421875,16669.26953125,18303.15234375,17435.3046875,18638.884765625,17820.3203125,18387.951171875,18438.130859375,18226.259765625,18279.662109375,18515.3828125,18562.66796875,18486.55078125,18734.384765625,17597.755859375,18043.177734375,18151.306640625,17778.37890625,17456.9375,17916.12109375,17789.580078125,17721.509765625,17307.458984375,17478.24609375,17462.044921875,18381.892578125,18463.51953125,17853.146484375,17591.53125,17366.5703125,16858.576171875,17041.84375,17214.134765625,17086.1640625,17451.96484375,17173.697265625,16824.419921875,17099.81640625,17003.416015625,17978.423828125,17913.955078125,18491.3515625,18248.51953125,18116.61328125,18006.287109375,18202.083984375,18049.05859375,18089.36328125,17919.7890625,17569.09375,17440.318359375,17635.248046875,17862.6796875,17663.6953125,18265.935546875,19576.830078125,20564.037109375,20850.162109375,22693.3203125,23150.044921875,24073.5859375,23710.15625,23802.240234375,25020.330078125,25910.654296875,28889.212890625,27804.62890625,29025.666015625,29252.27734375,30037.484375,29603.892578125,28476.14453125,29657.974609375,29337.904296875,29643.076171875,28359.03125,29222.626953125,32075.326171875,32753.646484375,32438.328125,32505.953125,32116.47265625,31601.005859375,30495.447265625,31206.642578125,29149.828125,29639.24609375,29345.392578125,30276.369140625,28505.87109375,28710.0546875,28228.208984375,28936.0390625,29223.369140625,31336.2421875,31936.22265625,34853.2265625,32248.7890625,28254.669921875,28422.337890625,24561.982421875,25904.5625,25941.029296875,24927.103515625,25769.451171875,27069.4296875,27523.95703125,28473.5625,26871.18359375,27682.974609375,26848.93359375,26909.8671875,28648.875,28269.365234375,28383.92578125,27310.931640625,25144.056640625,25328.478515625,23682.884765625,25831.11328125,25968.083984375,26160.3671875,26378.978515625,26139.603515625,26544.37890625,26495.38671875,25855.09765625,25385.650390625,25413.77734375,25863.59765625,25879.900390625,25099.685546875,25085.005859375,25730.25390625,26660.203125,27063.384765625,27365.951171875,28397.341796875,28043.791015625,27793.1015625,27724.779296875,26881.845703125,27081.013671875,27796.345703125,27870.400390625,27118.875,28862.810546875,30526.845703125,30254.81640625,30453.458984375,29993.5546875,29127.544921875,29817.1015625,28834.60546875,28727.2890625,28563.6796875,28844.99609375,29582.2265625,28529.9140625,28939.173828125,29835.287109375,30697.8671875,33640.8984375,32234.978515625,33554.5078125,32849.390625,33404.58984375,34510.7421875,34523.546875,35377.65625,34298.60546875,33360.10546875,34560.37890625,35812.28515625,35596.7890625,34949.3515625,37804.0078125,40751.3828125,41380.7734375,45179.3203125,44665.3828125,42098.55078125,38327.59375,38269.3125,39811.3671875,42576.87890625,45515.5390625,43263.56640625,44084.2109375,45600.0234375,42017.03125,44025.90234375,44414.41796875,43688.28515625,40902.578125,42334.66015625,41300.15625,40230.03515625,41928.32421875,43490.84765625,43161.765625,43334.51171875,46824.671875,47273.71484375,48184.9921875,48520.69921875,46977.7421875,45057.77734375,47054.15234375,43132.5859375,44984.828125,46084.6015625,46775.2578125,50369.5,53714.33984375,53717.9375,55011.2890625,53895.0546875,53386.7734375,56610.81640625,71410.3125,76122.8828125,80558.609375,88361.8125,90041.8203125,89797.34375,93988.265625,92548.0546875,80027.1171875,76345.7421875,82699.0625,89307.625,85704.53125,90203.0625,89992.734375,92030.9453125,100657.5234375,100810.34375,81628.71875,90173.8125,89877.6328125,101510.9609375,96594.15625,99049.875,91392.6640625,99859.890625,100774.7265625,100379.859375,95866.7578125,100138.28125,110454.203125,121029.9609375,116398.1328125,125035.5625,122110.0625,117465.1640625,127403.5859375,128812.03125,126955.5546875,129677.0546875,133856.75,131707.1875,131010.59375,129220.7421875,129923.2109375,134538.046875,140772.171875,142193.609375,139239.0625,140448.65625,129077.6015625,113747.171875,117671.7734375,108165.5546875,106488.796875,107440.46875,104435.2421875,114663.5234375,109290.1875,114947.6171875,112738.3359375,112140.421875,121143.1015625,126184.6953125,134572.59375,135981.25,130728.125,132678.984375,128817.4453125,139844.21875,134774.21875,129977.8671875,131040.0234375,132306.6875,129539.7109375,131665.078125,131308.9375,129499.78125,122386.5703125,121843.875,115733.796875,115833.0625,123380.53125,124349.1171875,122527.6953125,132351.875,135587.703125,140489.5,144884.546875,157237.453125,148782.71875,153595.640625,154583.125,155612.921875,146506.765625,155706.984375,154773.546875,159634.375,161219.078125,160433.625,172869.0,182766.796875,188059.75,181187.640625,174937.171875,166875.453125,161882.6875,175884.765625,177854.59375,180314.765625,177228.1875,165791.609375,173655.515625,189583.9375,198719.59375,204257.8125,204364.78125,205454.84375,218252.765625,218667.546875,253346.703125,239085.359375,260135.125,256925.671875,255196.65625,286694.59375,287622.40625,290198.96875,306315.375,282121.78125,273225.6875,298682.0625,266870.0625,262437.78125,240096.265625,247368.453125,178638.515625,202442.328125,177622.984375,167586.359375,153106.4375,192947.234375,197087.390625,209933.578125,199333.203125,174763.25,164933.75,172818.265625,196264.171875,191933.96875,197607.078125,208699.53125,196245.578125,191734.578125,197808.140625,188912.078125,183183.171875,190575.671875,180549.734375,172442.75,173756.359375,183721.90625,189375.203125,186657.328125,174764.875,176322.90625,165723.859375,160991.90625,166477.15625,139868.953125,139642.796875,146189.453125,147581.015625,134338.359375,135830.40625,147059.46875,154770.34375,160774.953125,169150.234375,157308.328125,160198.59375,165840.046875,172941.5625,163345.0625,173681.296875,173433.953125,158079.1875,159931.40625,157240.5,159461.015625,151625.65625,144926.34375,148544.90625,142862.390625,140075.40625,141813.40625,141215.046875,136419.421875,133126.234375,148495.515625,150776.078125,158126.890625,162818.765625,163141.171875,165680.796875,171510.953125,171024.046875,176909.34375,183090.28125,188214.046875,190245.59375,193963.3125,186170.53125,202217.296875,209441.234375,214686.296875,234596.6875,224434.8125,235541.125,233938.9375,234466.84375,226419.90625,246605.484375,242413.203125,245615.53125,233500.515625,223983.90625,224230.734375,236846.921875,244224.609375,239717.40625,240838.515625,246392.25,235356.40625,239258.390625,229618.140625,240709.703125,238627.28125,237188.5,236954.375,250435.15625,279170.96875,276693.125,287446.375,283681.375,288440.28125,287069.375,251610.890625,254840.359375,251888.296875,235947.5,240451.796875,250532.84375,241682.109375,252688.21875,265489.1875,262595.8125,250385.8125,253029.03125,245384.5625,219306.46875,203911.984375,227385.796875,232933.359375,216337.703125,216002.453125,226299.125,216232.328125,208347.46875,212009.46875,222847.8125,245360.1875,251433.03125,253510.328125,252189.9375,262207.625,267430.0625,268478.75,268089.1875,268596.625,257526.125,267414.5625,263647.53125,271477.03125,284243.59375,289686.28125,287002.90625,288603.40625,281920.59375,291296.46875,311327.15625,303636.0625,297827.3125,312887.09375,306307.25,316681.375,309455.375,294510.125,320783.21875,330752.875,323896.96875,321306.125,323453.4375,342907.0,342752.71875,337939.75,332572.8125,335639.4375,342743.71875,355554.5,351096.96875,344901.625,351124.40625,346957.75,345658.59375,344017.4375,340184.09375,313762.96875,318411.59375,296387.09375,319414.09375,327873.96875,317088.09375,304395.125,323103.8125,318753.0625,336936.5,303439.21875,307841.0625,322487.78125,333827.875,347012.46875,344058.25,338491.59375,318428.09375,309909.375,315960.90625,328600.65625,325138.375,334177.15625,310983.75,296323.6875,309291.71875,313244.1875,286840.65625,293714.375,306402.4375,301549.09375,295105.875,301230.28125,298292.25,298373.90625,304161.625,300497.75,308628.8125,304201.1875,307534.0625,306461.53125,302736.78125,283816.0,270856.6875,276403.40625],\"x\":[\"2020-01-01T00:00:00\",\"2020-01-02T00:00:00\",\"2020-01-03T00:00:00\",\"2020-01-04T00:00:00\",\"2020-01-05T00:00:00\",\"2020-01-06T00:00:00\",\"2020-01-07T00:00:00\",\"2020-01-08T00:00:00\",\"2020-01-09T00:00:00\",\"2020-01-10T00:00:00\",\"2020-01-11T00:00:00\",\"2020-01-12T00:00:00\",\"2020-01-13T00:00:00\",\"2020-01-14T00:00:00\",\"2020-01-15T00:00:00\",\"2020-01-16T00:00:00\",\"2020-01-17T00:00:00\",\"2020-01-18T00:00:00\",\"2020-01-19T00:00:00\",\"2020-01-20T00:00:00\",\"2020-01-21T00:00:00\",\"2020-01-22T00:00:00\",\"2020-01-23T00:00:00\",\"2020-01-24T00:00:00\",\"2020-01-25T00:00:00\",\"2020-01-26T00:00:00\",\"2020-01-27T00:00:00\",\"2020-01-28T00:00:00\",\"2020-01-29T00:00:00\",\"2020-01-30T00:00:00\",\"2020-01-31T00:00:00\",\"2020-02-01T00:00:00\",\"2020-02-02T00:00:00\",\"2020-02-03T00:00:00\",\"2020-02-04T00:00:00\",\"2020-02-05T00:00:00\",\"2020-02-06T00:00:00\",\"2020-02-07T00:00:00\",\"2020-02-08T00:00:00\",\"2020-02-09T00:00:00\",\"2020-02-10T00:00:00\",\"2020-02-11T00:00:00\",\"2020-02-12T00:00:00\",\"2020-02-13T00:00:00\",\"2020-02-14T00:00:00\",\"2020-02-15T00:00:00\",\"2020-02-16T00:00:00\",\"2020-02-17T00:00:00\",\"2020-02-18T00:00:00\",\"2020-02-19T00:00:00\",\"2020-02-20T00:00:00\",\"2020-02-21T00:00:00\",\"2020-02-22T00:00:00\",\"2020-02-23T00:00:00\",\"2020-02-24T00:00:00\",\"2020-02-25T00:00:00\",\"2020-02-26T00:00:00\",\"2020-02-27T00:00:00\",\"2020-02-28T00:00:00\",\"2020-02-29T00:00:00\",\"2020-03-01T00:00:00\",\"2020-03-02T00:00:00\",\"2020-03-03T00:00:00\",\"2020-03-04T00:00:00\",\"2020-03-05T00:00:00\",\"2020-03-06T00:00:00\",\"2020-03-07T00:00:00\",\"2020-03-08T00:00:00\",\"2020-03-09T00:00:00\",\"2020-03-10T00:00:00\",\"2020-03-11T00:00:00\",\"2020-03-12T00:00:00\",\"2020-03-13T00:00:00\",\"2020-03-14T00:00:00\",\"2020-03-15T00:00:00\",\"2020-03-16T00:00:00\",\"2020-03-17T00:00:00\",\"2020-03-18T00:00:00\",\"2020-03-19T00:00:00\",\"2020-03-20T00:00:00\",\"2020-03-21T00:00:00\",\"2020-03-22T00:00:00\",\"2020-03-23T00:00:00\",\"2020-03-24T00:00:00\",\"2020-03-25T00:00:00\",\"2020-03-26T00:00:00\",\"2020-03-27T00:00:00\",\"2020-03-28T00:00:00\",\"2020-03-29T00:00:00\",\"2020-03-30T00:00:00\",\"2020-03-31T00:00:00\",\"2020-04-01T00:00:00\",\"2020-04-02T00:00:00\",\"2020-04-03T00:00:00\",\"2020-04-04T00:00:00\",\"2020-04-05T00:00:00\",\"2020-04-06T00:00:00\",\"2020-04-07T00:00:00\",\"2020-04-08T00:00:00\",\"2020-04-09T00:00:00\",\"2020-04-10T00:00:00\",\"2020-04-11T00:00:00\",\"2020-04-12T00:00:00\",\"2020-04-13T00:00:00\",\"2020-04-14T00:00:00\",\"2020-04-15T00:00:00\",\"2020-04-16T00:00:00\",\"2020-04-17T00:00:00\",\"2020-04-18T00:00:00\",\"2020-04-19T00:00:00\",\"2020-04-20T00:00:00\",\"2020-04-21T00:00:00\",\"2020-04-22T00:00:00\",\"2020-04-23T00:00:00\",\"2020-04-24T00:00:00\",\"2020-04-25T00:00:00\",\"2020-04-26T00:00:00\",\"2020-04-27T00:00:00\",\"2020-04-28T00:00:00\",\"2020-04-29T00:00:00\",\"2020-04-30T00:00:00\",\"2020-05-01T00:00:00\",\"2020-05-02T00:00:00\",\"2020-05-03T00:00:00\",\"2020-05-04T00:00:00\",\"2020-05-05T00:00:00\",\"2020-05-06T00:00:00\",\"2020-05-07T00:00:00\",\"2020-05-08T00:00:00\",\"2020-05-09T00:00:00\",\"2020-05-10T00:00:00\",\"2020-05-11T00:00:00\",\"2020-05-12T00:00:00\",\"2020-05-13T00:00:00\",\"2020-05-14T00:00:00\",\"2020-05-15T00:00:00\",\"2020-05-16T00:00:00\",\"2020-05-17T00:00:00\",\"2020-05-18T00:00:00\",\"2020-05-19T00:00:00\",\"2020-05-20T00:00:00\",\"2020-05-21T00:00:00\",\"2020-05-22T00:00:00\",\"2020-05-23T00:00:00\",\"2020-05-24T00:00:00\",\"2020-05-25T00:00:00\",\"2020-05-26T00:00:00\",\"2020-05-27T00:00:00\",\"2020-05-28T00:00:00\",\"2020-05-29T00:00:00\",\"2020-05-30T00:00:00\",\"2020-05-31T00:00:00\",\"2020-06-01T00:00:00\",\"2020-06-02T00:00:00\",\"2020-06-03T00:00:00\",\"2020-06-04T00:00:00\",\"2020-06-05T00:00:00\",\"2020-06-06T00:00:00\",\"2020-06-07T00:00:00\",\"2020-06-08T00:00:00\",\"2020-06-09T00:00:00\",\"2020-06-10T00:00:00\",\"2020-06-11T00:00:00\",\"2020-06-12T00:00:00\",\"2020-06-13T00:00:00\",\"2020-06-14T00:00:00\",\"2020-06-15T00:00:00\",\"2020-06-16T00:00:00\",\"2020-06-17T00:00:00\",\"2020-06-18T00:00:00\",\"2020-06-19T00:00:00\",\"2020-06-20T00:00:00\",\"2020-06-21T00:00:00\",\"2020-06-22T00:00:00\",\"2020-06-23T00:00:00\",\"2020-06-24T00:00:00\",\"2020-06-25T00:00:00\",\"2020-06-26T00:00:00\",\"2020-06-27T00:00:00\",\"2020-06-28T00:00:00\",\"2020-06-29T00:00:00\",\"2020-06-30T00:00:00\",\"2020-07-01T00:00:00\",\"2020-07-02T00:00:00\",\"2020-07-03T00:00:00\",\"2020-07-04T00:00:00\",\"2020-07-05T00:00:00\",\"2020-07-06T00:00:00\",\"2020-07-07T00:00:00\",\"2020-07-08T00:00:00\",\"2020-07-09T00:00:00\",\"2020-07-10T00:00:00\",\"2020-07-11T00:00:00\",\"2020-07-12T00:00:00\",\"2020-07-13T00:00:00\",\"2020-07-14T00:00:00\",\"2020-07-15T00:00:00\",\"2020-07-16T00:00:00\",\"2020-07-17T00:00:00\",\"2020-07-18T00:00:00\",\"2020-07-19T00:00:00\",\"2020-07-20T00:00:00\",\"2020-07-21T00:00:00\",\"2020-07-22T00:00:00\",\"2020-07-23T00:00:00\",\"2020-07-24T00:00:00\",\"2020-07-25T00:00:00\",\"2020-07-26T00:00:00\",\"2020-07-27T00:00:00\",\"2020-07-28T00:00:00\",\"2020-07-29T00:00:00\",\"2020-07-30T00:00:00\",\"2020-07-31T00:00:00\",\"2020-08-01T00:00:00\",\"2020-08-02T00:00:00\",\"2020-08-03T00:00:00\",\"2020-08-04T00:00:00\",\"2020-08-05T00:00:00\",\"2020-08-06T00:00:00\",\"2020-08-07T00:00:00\",\"2020-08-08T00:00:00\",\"2020-08-09T00:00:00\",\"2020-08-10T00:00:00\",\"2020-08-11T00:00:00\",\"2020-08-12T00:00:00\",\"2020-08-13T00:00:00\",\"2020-08-14T00:00:00\",\"2020-08-15T00:00:00\",\"2020-08-16T00:00:00\",\"2020-08-17T00:00:00\",\"2020-08-18T00:00:00\",\"2020-08-19T00:00:00\",\"2020-08-20T00:00:00\",\"2020-08-21T00:00:00\",\"2020-08-22T00:00:00\",\"2020-08-23T00:00:00\",\"2020-08-24T00:00:00\",\"2020-08-25T00:00:00\",\"2020-08-26T00:00:00\",\"2020-08-27T00:00:00\",\"2020-08-28T00:00:00\",\"2020-08-29T00:00:00\",\"2020-08-30T00:00:00\",\"2020-08-31T00:00:00\",\"2020-09-01T00:00:00\",\"2020-09-02T00:00:00\",\"2020-09-03T00:00:00\",\"2020-09-04T00:00:00\",\"2020-09-05T00:00:00\",\"2020-09-06T00:00:00\",\"2020-09-07T00:00:00\",\"2020-09-08T00:00:00\",\"2020-09-09T00:00:00\",\"2020-09-10T00:00:00\",\"2020-09-11T00:00:00\",\"2020-09-12T00:00:00\",\"2020-09-13T00:00:00\",\"2020-09-14T00:00:00\",\"2020-09-15T00:00:00\",\"2020-09-16T00:00:00\",\"2020-09-17T00:00:00\",\"2020-09-18T00:00:00\",\"2020-09-19T00:00:00\",\"2020-09-20T00:00:00\",\"2020-09-21T00:00:00\",\"2020-09-22T00:00:00\",\"2020-09-23T00:00:00\",\"2020-09-24T00:00:00\",\"2020-09-25T00:00:00\",\"2020-09-26T00:00:00\",\"2020-09-27T00:00:00\",\"2020-09-28T00:00:00\",\"2020-09-29T00:00:00\",\"2020-09-30T00:00:00\",\"2020-10-01T00:00:00\",\"2020-10-02T00:00:00\",\"2020-10-03T00:00:00\",\"2020-10-04T00:00:00\",\"2020-10-05T00:00:00\",\"2020-10-06T00:00:00\",\"2020-10-07T00:00:00\",\"2020-10-08T00:00:00\",\"2020-10-09T00:00:00\",\"2020-10-10T00:00:00\",\"2020-10-11T00:00:00\",\"2020-10-12T00:00:00\",\"2020-10-13T00:00:00\",\"2020-10-14T00:00:00\",\"2020-10-15T00:00:00\",\"2020-10-16T00:00:00\",\"2020-10-17T00:00:00\",\"2020-10-18T00:00:00\",\"2020-10-19T00:00:00\",\"2020-10-20T00:00:00\",\"2020-10-21T00:00:00\",\"2020-10-22T00:00:00\",\"2020-10-23T00:00:00\",\"2020-10-24T00:00:00\",\"2020-10-25T00:00:00\",\"2020-10-26T00:00:00\",\"2020-10-27T00:00:00\",\"2020-10-28T00:00:00\",\"2020-10-29T00:00:00\",\"2020-10-30T00:00:00\",\"2020-10-31T00:00:00\",\"2020-11-01T00:00:00\",\"2020-11-02T00:00:00\",\"2020-11-03T00:00:00\",\"2020-11-04T00:00:00\",\"2020-11-05T00:00:00\",\"2020-11-06T00:00:00\",\"2020-11-07T00:00:00\",\"2020-11-08T00:00:00\",\"2020-11-09T00:00:00\",\"2020-11-10T00:00:00\",\"2020-11-11T00:00:00\",\"2020-11-12T00:00:00\",\"2020-11-13T00:00:00\",\"2020-11-14T00:00:00\",\"2020-11-15T00:00:00\",\"2020-11-16T00:00:00\",\"2020-11-17T00:00:00\",\"2020-11-18T00:00:00\",\"2020-11-19T00:00:00\",\"2020-11-20T00:00:00\",\"2020-11-21T00:00:00\",\"2020-11-22T00:00:00\",\"2020-11-23T00:00:00\",\"2020-11-24T00:00:00\",\"2020-11-25T00:00:00\",\"2020-11-26T00:00:00\",\"2020-11-27T00:00:00\",\"2020-11-28T00:00:00\",\"2020-11-29T00:00:00\",\"2020-11-30T00:00:00\",\"2020-12-01T00:00:00\",\"2020-12-02T00:00:00\",\"2020-12-03T00:00:00\",\"2020-12-04T00:00:00\",\"2020-12-05T00:00:00\",\"2020-12-06T00:00:00\",\"2020-12-07T00:00:00\",\"2020-12-08T00:00:00\",\"2020-12-09T00:00:00\",\"2020-12-10T00:00:00\",\"2020-12-11T00:00:00\",\"2020-12-12T00:00:00\",\"2020-12-13T00:00:00\",\"2020-12-14T00:00:00\",\"2020-12-15T00:00:00\",\"2020-12-16T00:00:00\",\"2020-12-17T00:00:00\",\"2020-12-18T00:00:00\",\"2020-12-19T00:00:00\",\"2020-12-20T00:00:00\",\"2020-12-21T00:00:00\",\"2020-12-22T00:00:00\",\"2020-12-23T00:00:00\",\"2020-12-24T00:00:00\",\"2020-12-25T00:00:00\",\"2020-12-26T00:00:00\",\"2020-12-27T00:00:00\",\"2020-12-28T00:00:00\",\"2020-12-29T00:00:00\",\"2020-12-30T00:00:00\",\"2020-12-31T00:00:00\",\"2021-01-01T00:00:00\",\"2021-01-02T00:00:00\",\"2021-01-03T00:00:00\",\"2021-01-04T00:00:00\",\"2021-01-05T00:00:00\",\"2021-01-06T00:00:00\",\"2021-01-07T00:00:00\",\"2021-01-08T00:00:00\",\"2021-01-09T00:00:00\",\"2021-01-10T00:00:00\",\"2021-01-11T00:00:00\",\"2021-01-12T00:00:00\",\"2021-01-13T00:00:00\",\"2021-01-14T00:00:00\",\"2021-01-15T00:00:00\",\"2021-01-16T00:00:00\",\"2021-01-17T00:00:00\",\"2021-01-18T00:00:00\",\"2021-01-19T00:00:00\",\"2021-01-20T00:00:00\",\"2021-01-21T00:00:00\",\"2021-01-22T00:00:00\",\"2021-01-23T00:00:00\",\"2021-01-24T00:00:00\",\"2021-01-25T00:00:00\",\"2021-01-26T00:00:00\",\"2021-01-27T00:00:00\",\"2021-01-28T00:00:00\",\"2021-01-29T00:00:00\",\"2021-01-30T00:00:00\",\"2021-01-31T00:00:00\",\"2021-02-01T00:00:00\",\"2021-02-02T00:00:00\",\"2021-02-03T00:00:00\",\"2021-02-04T00:00:00\",\"2021-02-05T00:00:00\",\"2021-02-06T00:00:00\",\"2021-02-07T00:00:00\",\"2021-02-08T00:00:00\",\"2021-02-09T00:00:00\",\"2021-02-10T00:00:00\",\"2021-02-11T00:00:00\",\"2021-02-12T00:00:00\",\"2021-02-13T00:00:00\",\"2021-02-14T00:00:00\",\"2021-02-15T00:00:00\",\"2021-02-16T00:00:00\",\"2021-02-17T00:00:00\",\"2021-02-18T00:00:00\",\"2021-02-19T00:00:00\",\"2021-02-20T00:00:00\",\"2021-02-21T00:00:00\",\"2021-02-22T00:00:00\",\"2021-02-23T00:00:00\",\"2021-02-24T00:00:00\",\"2021-02-25T00:00:00\",\"2021-02-26T00:00:00\",\"2021-02-27T00:00:00\",\"2021-02-28T00:00:00\",\"2021-03-01T00:00:00\",\"2021-03-02T00:00:00\",\"2021-03-03T00:00:00\",\"2021-03-04T00:00:00\",\"2021-03-05T00:00:00\",\"2021-03-06T00:00:00\",\"2021-03-07T00:00:00\",\"2021-03-08T00:00:00\",\"2021-03-09T00:00:00\",\"2021-03-10T00:00:00\",\"2021-03-11T00:00:00\",\"2021-03-12T00:00:00\",\"2021-03-13T00:00:00\",\"2021-03-14T00:00:00\",\"2021-03-15T00:00:00\",\"2021-03-16T00:00:00\",\"2021-03-17T00:00:00\",\"2021-03-18T00:00:00\",\"2021-03-19T00:00:00\",\"2021-03-20T00:00:00\",\"2021-03-21T00:00:00\",\"2021-03-22T00:00:00\",\"2021-03-23T00:00:00\",\"2021-03-24T00:00:00\",\"2021-03-25T00:00:00\",\"2021-03-26T00:00:00\",\"2021-03-27T00:00:00\",\"2021-03-28T00:00:00\",\"2021-03-29T00:00:00\",\"2021-03-30T00:00:00\",\"2021-03-31T00:00:00\",\"2021-04-01T00:00:00\",\"2021-04-02T00:00:00\",\"2021-04-03T00:00:00\",\"2021-04-04T00:00:00\",\"2021-04-05T00:00:00\",\"2021-04-06T00:00:00\",\"2021-04-07T00:00:00\",\"2021-04-08T00:00:00\",\"2021-04-09T00:00:00\",\"2021-04-10T00:00:00\",\"2021-04-11T00:00:00\",\"2021-04-12T00:00:00\",\"2021-04-13T00:00:00\",\"2021-04-14T00:00:00\",\"2021-04-15T00:00:00\",\"2021-04-16T00:00:00\",\"2021-04-17T00:00:00\",\"2021-04-18T00:00:00\",\"2021-04-19T00:00:00\",\"2021-04-20T00:00:00\",\"2021-04-21T00:00:00\",\"2021-04-22T00:00:00\",\"2021-04-23T00:00:00\",\"2021-04-24T00:00:00\",\"2021-04-25T00:00:00\",\"2021-04-26T00:00:00\",\"2021-04-27T00:00:00\",\"2021-04-28T00:00:00\",\"2021-04-29T00:00:00\",\"2021-04-30T00:00:00\",\"2021-05-01T00:00:00\",\"2021-05-02T00:00:00\",\"2021-05-03T00:00:00\",\"2021-05-04T00:00:00\",\"2021-05-05T00:00:00\",\"2021-05-06T00:00:00\",\"2021-05-07T00:00:00\",\"2021-05-08T00:00:00\",\"2021-05-09T00:00:00\",\"2021-05-10T00:00:00\",\"2021-05-11T00:00:00\",\"2021-05-12T00:00:00\",\"2021-05-13T00:00:00\",\"2021-05-14T00:00:00\",\"2021-05-15T00:00:00\",\"2021-05-16T00:00:00\",\"2021-05-17T00:00:00\",\"2021-05-18T00:00:00\",\"2021-05-19T00:00:00\",\"2021-05-20T00:00:00\",\"2021-05-21T00:00:00\",\"2021-05-22T00:00:00\",\"2021-05-23T00:00:00\",\"2021-05-24T00:00:00\",\"2021-05-25T00:00:00\",\"2021-05-26T00:00:00\",\"2021-05-27T00:00:00\",\"2021-05-28T00:00:00\",\"2021-05-29T00:00:00\",\"2021-05-30T00:00:00\",\"2021-05-31T00:00:00\",\"2021-06-01T00:00:00\",\"2021-06-02T00:00:00\",\"2021-06-03T00:00:00\",\"2021-06-04T00:00:00\",\"2021-06-05T00:00:00\",\"2021-06-06T00:00:00\",\"2021-06-07T00:00:00\",\"2021-06-08T00:00:00\",\"2021-06-09T00:00:00\",\"2021-06-10T00:00:00\",\"2021-06-11T00:00:00\",\"2021-06-12T00:00:00\",\"2021-06-13T00:00:00\",\"2021-06-14T00:00:00\",\"2021-06-15T00:00:00\",\"2021-06-16T00:00:00\",\"2021-06-17T00:00:00\",\"2021-06-18T00:00:00\",\"2021-06-19T00:00:00\",\"2021-06-20T00:00:00\",\"2021-06-21T00:00:00\",\"2021-06-22T00:00:00\",\"2021-06-23T00:00:00\",\"2021-06-24T00:00:00\",\"2021-06-25T00:00:00\",\"2021-06-26T00:00:00\",\"2021-06-27T00:00:00\",\"2021-06-28T00:00:00\",\"2021-06-29T00:00:00\",\"2021-06-30T00:00:00\",\"2021-07-01T00:00:00\",\"2021-07-02T00:00:00\",\"2021-07-03T00:00:00\",\"2021-07-04T00:00:00\",\"2021-07-05T00:00:00\",\"2021-07-06T00:00:00\",\"2021-07-07T00:00:00\",\"2021-07-08T00:00:00\",\"2021-07-09T00:00:00\",\"2021-07-10T00:00:00\",\"2021-07-11T00:00:00\",\"2021-07-12T00:00:00\",\"2021-07-13T00:00:00\",\"2021-07-14T00:00:00\",\"2021-07-15T00:00:00\",\"2021-07-16T00:00:00\",\"2021-07-17T00:00:00\",\"2021-07-18T00:00:00\",\"2021-07-19T00:00:00\",\"2021-07-20T00:00:00\",\"2021-07-21T00:00:00\",\"2021-07-22T00:00:00\",\"2021-07-23T00:00:00\",\"2021-07-24T00:00:00\",\"2021-07-25T00:00:00\",\"2021-07-26T00:00:00\",\"2021-07-27T00:00:00\",\"2021-07-28T00:00:00\",\"2021-07-29T00:00:00\",\"2021-07-30T00:00:00\",\"2021-07-31T00:00:00\",\"2021-08-01T00:00:00\",\"2021-08-02T00:00:00\",\"2021-08-03T00:00:00\",\"2021-08-04T00:00:00\",\"2021-08-05T00:00:00\",\"2021-08-06T00:00:00\",\"2021-08-07T00:00:00\",\"2021-08-08T00:00:00\",\"2021-08-09T00:00:00\",\"2021-08-10T00:00:00\",\"2021-08-11T00:00:00\",\"2021-08-12T00:00:00\",\"2021-08-13T00:00:00\",\"2021-08-14T00:00:00\",\"2021-08-15T00:00:00\",\"2021-08-16T00:00:00\",\"2021-08-17T00:00:00\",\"2021-08-18T00:00:00\",\"2021-08-19T00:00:00\",\"2021-08-20T00:00:00\",\"2021-08-21T00:00:00\",\"2021-08-22T00:00:00\",\"2021-08-23T00:00:00\",\"2021-08-24T00:00:00\",\"2021-08-25T00:00:00\",\"2021-08-26T00:00:00\",\"2021-08-27T00:00:00\",\"2021-08-28T00:00:00\",\"2021-08-29T00:00:00\",\"2021-08-30T00:00:00\",\"2021-08-31T00:00:00\",\"2021-09-01T00:00:00\",\"2021-09-02T00:00:00\",\"2021-09-03T00:00:00\",\"2021-09-04T00:00:00\",\"2021-09-05T00:00:00\",\"2021-09-06T00:00:00\",\"2021-09-07T00:00:00\",\"2021-09-08T00:00:00\",\"2021-09-09T00:00:00\",\"2021-09-10T00:00:00\",\"2021-09-11T00:00:00\",\"2021-09-12T00:00:00\",\"2021-09-13T00:00:00\",\"2021-09-14T00:00:00\",\"2021-09-15T00:00:00\",\"2021-09-16T00:00:00\",\"2021-09-17T00:00:00\",\"2021-09-18T00:00:00\",\"2021-09-19T00:00:00\",\"2021-09-20T00:00:00\",\"2021-09-21T00:00:00\",\"2021-09-22T00:00:00\",\"2021-09-23T00:00:00\",\"2021-09-24T00:00:00\",\"2021-09-25T00:00:00\",\"2021-09-26T00:00:00\",\"2021-09-27T00:00:00\",\"2021-09-28T00:00:00\",\"2021-09-29T00:00:00\",\"2021-09-30T00:00:00\",\"2021-10-01T00:00:00\",\"2021-10-02T00:00:00\",\"2021-10-03T00:00:00\",\"2021-10-04T00:00:00\",\"2021-10-05T00:00:00\",\"2021-10-06T00:00:00\",\"2021-10-07T00:00:00\",\"2021-10-08T00:00:00\",\"2021-10-09T00:00:00\",\"2021-10-10T00:00:00\",\"2021-10-11T00:00:00\",\"2021-10-12T00:00:00\",\"2021-10-13T00:00:00\",\"2021-10-14T00:00:00\",\"2021-10-15T00:00:00\",\"2021-10-16T00:00:00\",\"2021-10-17T00:00:00\",\"2021-10-18T00:00:00\",\"2021-10-19T00:00:00\",\"2021-10-20T00:00:00\",\"2021-10-21T00:00:00\",\"2021-10-22T00:00:00\",\"2021-10-23T00:00:00\",\"2021-10-24T00:00:00\",\"2021-10-25T00:00:00\",\"2021-10-26T00:00:00\",\"2021-10-27T00:00:00\",\"2021-10-28T00:00:00\",\"2021-10-29T00:00:00\",\"2021-10-30T00:00:00\",\"2021-10-31T00:00:00\",\"2021-11-01T00:00:00\",\"2021-11-02T00:00:00\",\"2021-11-03T00:00:00\",\"2021-11-04T00:00:00\",\"2021-11-05T00:00:00\",\"2021-11-06T00:00:00\",\"2021-11-07T00:00:00\",\"2021-11-08T00:00:00\",\"2021-11-09T00:00:00\",\"2021-11-10T00:00:00\",\"2021-11-11T00:00:00\",\"2021-11-12T00:00:00\",\"2021-11-13T00:00:00\",\"2021-11-14T00:00:00\",\"2021-11-15T00:00:00\",\"2021-11-16T00:00:00\",\"2021-11-17T00:00:00\",\"2021-11-18T00:00:00\",\"2021-11-19T00:00:00\",\"2021-11-20T00:00:00\",\"2021-11-21T00:00:00\",\"2021-11-22T00:00:00\",\"2021-11-23T00:00:00\",\"2021-11-24T00:00:00\",\"2021-11-25T00:00:00\",\"2021-11-26T00:00:00\",\"2021-11-27T00:00:00\",\"2021-11-28T00:00:00\",\"2021-11-29T00:00:00\",\"2021-11-30T00:00:00\",\"2021-12-01T00:00:00\",\"2021-12-02T00:00:00\",\"2021-12-03T00:00:00\",\"2021-12-04T00:00:00\",\"2021-12-05T00:00:00\",\"2021-12-06T00:00:00\",\"2021-12-07T00:00:00\",\"2021-12-08T00:00:00\",\"2021-12-09T00:00:00\",\"2021-12-10T00:00:00\",\"2021-12-11T00:00:00\",\"2021-12-12T00:00:00\",\"2021-12-13T00:00:00\",\"2021-12-14T00:00:00\",\"2021-12-15T00:00:00\",\"2021-12-16T00:00:00\",\"2021-12-17T00:00:00\",\"2021-12-18T00:00:00\",\"2021-12-19T00:00:00\",\"2021-12-20T00:00:00\",\"2021-12-21T00:00:00\",\"2021-12-22T00:00:00\",\"2021-12-23T00:00:00\",\"2021-12-24T00:00:00\",\"2021-12-25T00:00:00\",\"2021-12-26T00:00:00\",\"2021-12-27T00:00:00\",\"2021-12-28T00:00:00\",\"2021-12-29T00:00:00\",\"2021-12-30T00:00:00\",\"2021-12-31T00:00:00\"],\"type\":\"candlestick\"}],                        {\"template\":{\"data\":{\"bar\":[{\"error_x\":{\"color\":\"#2a3f5f\"},\"error_y\":{\"color\":\"#2a3f5f\"},\"marker\":{\"line\":{\"color\":\"#E5ECF6\",\"width\":0.5},\"pattern\":{\"fillmode\":\"overlay\",\"size\":10,\"solidity\":0.2}},\"type\":\"bar\"}],\"barpolar\":[{\"marker\":{\"line\":{\"color\":\"#E5ECF6\",\"width\":0.5},\"pattern\":{\"fillmode\":\"overlay\",\"size\":10,\"solidity\":0.2}},\"type\":\"barpolar\"}],\"carpet\":[{\"aaxis\":{\"endlinecolor\":\"#2a3f5f\",\"gridcolor\":\"white\",\"linecolor\":\"white\",\"minorgridcolor\":\"white\",\"startlinecolor\":\"#2a3f5f\"},\"baxis\":{\"endlinecolor\":\"#2a3f5f\",\"gridcolor\":\"white\",\"linecolor\":\"white\",\"minorgridcolor\":\"white\",\"startlinecolor\":\"#2a3f5f\"},\"type\":\"carpet\"}],\"choropleth\":[{\"colorbar\":{\"outlinewidth\":0,\"ticks\":\"\"},\"type\":\"choropleth\"}],\"contour\":[{\"colorbar\":{\"outlinewidth\":0,\"ticks\":\"\"},\"colorscale\":[[0.0,\"#0d0887\"],[0.1111111111111111,\"#46039f\"],[0.2222222222222222,\"#7201a8\"],[0.3333333333333333,\"#9c179e\"],[0.4444444444444444,\"#bd3786\"],[0.5555555555555556,\"#d8576b\"],[0.6666666666666666,\"#ed7953\"],[0.7777777777777778,\"#fb9f3a\"],[0.8888888888888888,\"#fdca26\"],[1.0,\"#f0f921\"]],\"type\":\"contour\"}],\"contourcarpet\":[{\"colorbar\":{\"outlinewidth\":0,\"ticks\":\"\"},\"type\":\"contourcarpet\"}],\"heatmap\":[{\"colorbar\":{\"outlinewidth\":0,\"ticks\":\"\"},\"colorscale\":[[0.0,\"#0d0887\"],[0.1111111111111111,\"#46039f\"],[0.2222222222222222,\"#7201a8\"],[0.3333333333333333,\"#9c179e\"],[0.4444444444444444,\"#bd3786\"],[0.5555555555555556,\"#d8576b\"],[0.6666666666666666,\"#ed7953\"],[0.7777777777777778,\"#fb9f3a\"],[0.8888888888888888,\"#fdca26\"],[1.0,\"#f0f921\"]],\"type\":\"heatmap\"}],\"heatmapgl\":[{\"colorbar\":{\"outlinewidth\":0,\"ticks\":\"\"},\"colorscale\":[[0.0,\"#0d0887\"],[0.1111111111111111,\"#46039f\"],[0.2222222222222222,\"#7201a8\"],[0.3333333333333333,\"#9c179e\"],[0.4444444444444444,\"#bd3786\"],[0.5555555555555556,\"#d8576b\"],[0.6666666666666666,\"#ed7953\"],[0.7777777777777778,\"#fb9f3a\"],[0.8888888888888888,\"#fdca26\"],[1.0,\"#f0f921\"]],\"type\":\"heatmapgl\"}],\"histogram\":[{\"marker\":{\"pattern\":{\"fillmode\":\"overlay\",\"size\":10,\"solidity\":0.2}},\"type\":\"histogram\"}],\"histogram2d\":[{\"colorbar\":{\"outlinewidth\":0,\"ticks\":\"\"},\"colorscale\":[[0.0,\"#0d0887\"],[0.1111111111111111,\"#46039f\"],[0.2222222222222222,\"#7201a8\"],[0.3333333333333333,\"#9c179e\"],[0.4444444444444444,\"#bd3786\"],[0.5555555555555556,\"#d8576b\"],[0.6666666666666666,\"#ed7953\"],[0.7777777777777778,\"#fb9f3a\"],[0.8888888888888888,\"#fdca26\"],[1.0,\"#f0f921\"]],\"type\":\"histogram2d\"}],\"histogram2dcontour\":[{\"colorbar\":{\"outlinewidth\":0,\"ticks\":\"\"},\"colorscale\":[[0.0,\"#0d0887\"],[0.1111111111111111,\"#46039f\"],[0.2222222222222222,\"#7201a8\"],[0.3333333333333333,\"#9c179e\"],[0.4444444444444444,\"#bd3786\"],[0.5555555555555556,\"#d8576b\"],[0.6666666666666666,\"#ed7953\"],[0.7777777777777778,\"#fb9f3a\"],[0.8888888888888888,\"#fdca26\"],[1.0,\"#f0f921\"]],\"type\":\"histogram2dcontour\"}],\"mesh3d\":[{\"colorbar\":{\"outlinewidth\":0,\"ticks\":\"\"},\"type\":\"mesh3d\"}],\"parcoords\":[{\"line\":{\"colorbar\":{\"outlinewidth\":0,\"ticks\":\"\"}},\"type\":\"parcoords\"}],\"pie\":[{\"automargin\":true,\"type\":\"pie\"}],\"scatter\":[{\"marker\":{\"colorbar\":{\"outlinewidth\":0,\"ticks\":\"\"}},\"type\":\"scatter\"}],\"scatter3d\":[{\"line\":{\"colorbar\":{\"outlinewidth\":0,\"ticks\":\"\"}},\"marker\":{\"colorbar\":{\"outlinewidth\":0,\"ticks\":\"\"}},\"type\":\"scatter3d\"}],\"scattercarpet\":[{\"marker\":{\"colorbar\":{\"outlinewidth\":0,\"ticks\":\"\"}},\"type\":\"scattercarpet\"}],\"scattergeo\":[{\"marker\":{\"colorbar\":{\"outlinewidth\":0,\"ticks\":\"\"}},\"type\":\"scattergeo\"}],\"scattergl\":[{\"marker\":{\"colorbar\":{\"outlinewidth\":0,\"ticks\":\"\"}},\"type\":\"scattergl\"}],\"scattermapbox\":[{\"marker\":{\"colorbar\":{\"outlinewidth\":0,\"ticks\":\"\"}},\"type\":\"scattermapbox\"}],\"scatterpolar\":[{\"marker\":{\"colorbar\":{\"outlinewidth\":0,\"ticks\":\"\"}},\"type\":\"scatterpolar\"}],\"scatterpolargl\":[{\"marker\":{\"colorbar\":{\"outlinewidth\":0,\"ticks\":\"\"}},\"type\":\"scatterpolargl\"}],\"scatterternary\":[{\"marker\":{\"colorbar\":{\"outlinewidth\":0,\"ticks\":\"\"}},\"type\":\"scatterternary\"}],\"surface\":[{\"colorbar\":{\"outlinewidth\":0,\"ticks\":\"\"},\"colorscale\":[[0.0,\"#0d0887\"],[0.1111111111111111,\"#46039f\"],[0.2222222222222222,\"#7201a8\"],[0.3333333333333333,\"#9c179e\"],[0.4444444444444444,\"#bd3786\"],[0.5555555555555556,\"#d8576b\"],[0.6666666666666666,\"#ed7953\"],[0.7777777777777778,\"#fb9f3a\"],[0.8888888888888888,\"#fdca26\"],[1.0,\"#f0f921\"]],\"type\":\"surface\"}],\"table\":[{\"cells\":{\"fill\":{\"color\":\"#EBF0F8\"},\"line\":{\"color\":\"white\"}},\"header\":{\"fill\":{\"color\":\"#C8D4E3\"},\"line\":{\"color\":\"white\"}},\"type\":\"table\"}]},\"layout\":{\"annotationdefaults\":{\"arrowcolor\":\"#2a3f5f\",\"arrowhead\":0,\"arrowwidth\":1},\"autotypenumbers\":\"strict\",\"coloraxis\":{\"colorbar\":{\"outlinewidth\":0,\"ticks\":\"\"}},\"colorscale\":{\"diverging\":[[0,\"#8e0152\"],[0.1,\"#c51b7d\"],[0.2,\"#de77ae\"],[0.3,\"#f1b6da\"],[0.4,\"#fde0ef\"],[0.5,\"#f7f7f7\"],[0.6,\"#e6f5d0\"],[0.7,\"#b8e186\"],[0.8,\"#7fbc41\"],[0.9,\"#4d9221\"],[1,\"#276419\"]],\"sequential\":[[0.0,\"#0d0887\"],[0.1111111111111111,\"#46039f\"],[0.2222222222222222,\"#7201a8\"],[0.3333333333333333,\"#9c179e\"],[0.4444444444444444,\"#bd3786\"],[0.5555555555555556,\"#d8576b\"],[0.6666666666666666,\"#ed7953\"],[0.7777777777777778,\"#fb9f3a\"],[0.8888888888888888,\"#fdca26\"],[1.0,\"#f0f921\"]],\"sequentialminus\":[[0.0,\"#0d0887\"],[0.1111111111111111,\"#46039f\"],[0.2222222222222222,\"#7201a8\"],[0.3333333333333333,\"#9c179e\"],[0.4444444444444444,\"#bd3786\"],[0.5555555555555556,\"#d8576b\"],[0.6666666666666666,\"#ed7953\"],[0.7777777777777778,\"#fb9f3a\"],[0.8888888888888888,\"#fdca26\"],[1.0,\"#f0f921\"]]},\"colorway\":[\"#636efa\",\"#EF553B\",\"#00cc96\",\"#ab63fa\",\"#FFA15A\",\"#19d3f3\",\"#FF6692\",\"#B6E880\",\"#FF97FF\",\"#FECB52\"],\"font\":{\"color\":\"#2a3f5f\"},\"geo\":{\"bgcolor\":\"white\",\"lakecolor\":\"white\",\"landcolor\":\"#E5ECF6\",\"showlakes\":true,\"showland\":true,\"subunitcolor\":\"white\"},\"hoverlabel\":{\"align\":\"left\"},\"hovermode\":\"closest\",\"mapbox\":{\"style\":\"light\"},\"paper_bgcolor\":\"white\",\"plot_bgcolor\":\"#E5ECF6\",\"polar\":{\"angularaxis\":{\"gridcolor\":\"white\",\"linecolor\":\"white\",\"ticks\":\"\"},\"bgcolor\":\"#E5ECF6\",\"radialaxis\":{\"gridcolor\":\"white\",\"linecolor\":\"white\",\"ticks\":\"\"}},\"scene\":{\"xaxis\":{\"backgroundcolor\":\"#E5ECF6\",\"gridcolor\":\"white\",\"gridwidth\":2,\"linecolor\":\"white\",\"showbackground\":true,\"ticks\":\"\",\"zerolinecolor\":\"white\"},\"yaxis\":{\"backgroundcolor\":\"#E5ECF6\",\"gridcolor\":\"white\",\"gridwidth\":2,\"linecolor\":\"white\",\"showbackground\":true,\"ticks\":\"\",\"zerolinecolor\":\"white\"},\"zaxis\":{\"backgroundcolor\":\"#E5ECF6\",\"gridcolor\":\"white\",\"gridwidth\":2,\"linecolor\":\"white\",\"showbackground\":true,\"ticks\":\"\",\"zerolinecolor\":\"white\"}},\"shapedefaults\":{\"line\":{\"color\":\"#2a3f5f\"}},\"ternary\":{\"aaxis\":{\"gridcolor\":\"white\",\"linecolor\":\"white\",\"ticks\":\"\"},\"baxis\":{\"gridcolor\":\"white\",\"linecolor\":\"white\",\"ticks\":\"\"},\"bgcolor\":\"#E5ECF6\",\"caxis\":{\"gridcolor\":\"white\",\"linecolor\":\"white\",\"ticks\":\"\"}},\"title\":{\"x\":0.05},\"xaxis\":{\"automargin\":true,\"gridcolor\":\"white\",\"linecolor\":\"white\",\"ticks\":\"\",\"title\":{\"standoff\":15},\"zerolinecolor\":\"white\",\"zerolinewidth\":2},\"yaxis\":{\"automargin\":true,\"gridcolor\":\"white\",\"linecolor\":\"white\",\"ticks\":\"\",\"title\":{\"standoff\":15},\"zerolinecolor\":\"white\",\"zerolinewidth\":2}}},\"title\":{\"text\":\"Candle Stick plot of Ethereum Data\"}},                        {\"responsive\": true}                    ).then(function(){\n",
              "                            \n",
              "var gd = document.getElementById('7f304ca7-dbde-4cff-99b2-a53f41731f7d');\n",
              "var x = new MutationObserver(function (mutations, observer) {{\n",
              "        var display = window.getComputedStyle(gd).display;\n",
              "        if (!display || display === 'none') {{\n",
              "            console.log([gd, 'removed!']);\n",
              "            Plotly.purge(gd);\n",
              "            observer.disconnect();\n",
              "        }}\n",
              "}});\n",
              "\n",
              "// Listen for the removal of the full notebook cells\n",
              "var notebookContainer = gd.closest('#notebook-container');\n",
              "if (notebookContainer) {{\n",
              "    x.observe(notebookContainer, {childList: true});\n",
              "}}\n",
              "\n",
              "// Listen for the clearing of the current output cell\n",
              "var outputEl = gd.closest('.output');\n",
              "if (outputEl) {{\n",
              "    x.observe(outputEl, {childList: true});\n",
              "}}\n",
              "\n",
              "                        })                };                            </script>        </div>\n",
              "</body>\n",
              "</html>"
            ]
          },
          "metadata": {}
        }
      ]
    },
    {
      "cell_type": "markdown",
      "source": [
        "# Step 4: Data Preprocessing"
      ],
      "metadata": {
        "id": "H0hPYibnVF4W"
      }
    },
    {
      "cell_type": "markdown",
      "source": [
        "we will forecast the Ethereum close price. Prophet takes two columns as inputs, a datetime column called `ds` and a value column called `y`. Therefore, we need to drop all the other columns, rename `Date` to `ds` and `Close` to `y`."
      ],
      "metadata": {
        "id": "tlgV-SREVRyu"
      }
    },
    {
      "cell_type": "code",
      "metadata": {
        "id": "PpAnqmjFyxMB"
      },
      "source": [
        "# Keep only date and close price\n",
        "df = data.drop(['Open', 'High', 'Low', 'Adj Close', 'Volume'], axis=1)\n",
        "\n",
        "# Rename date to ds and close price to y\n",
        "df.rename(columns={'Date': 'ds', 'Close': 'y'}, inplace=True)"
      ],
      "execution_count": null,
      "outputs": []
    },
    {
      "cell_type": "code",
      "source": [
        "# Take a look at the data\n",
        "df.head()"
      ],
      "metadata": {
        "colab": {
          "base_uri": "https://localhost:8080/",
          "height": 206
        },
        "id": "u_OqbPusL-oG",
        "outputId": "70000043-e6b6-4166-f073-8f84da2ee264"
      },
      "execution_count": null,
      "outputs": [
        {
          "output_type": "execute_result",
          "data": {
            "text/plain": [
              "          ds            y\n",
              "0 2020-01-01  9316.764648\n",
              "1 2020-01-02  9090.780273\n",
              "2 2020-01-03  9628.295898\n",
              "3 2020-01-04  9692.712891\n",
              "4 2020-01-05  9779.718750"
            ],
            "text/html": [
              "\n",
              "  <div id=\"df-9a9d1f94-59a3-4a4f-ac30-28a7cf515b97\">\n",
              "    <div class=\"colab-df-container\">\n",
              "      <div>\n",
              "<style scoped>\n",
              "    .dataframe tbody tr th:only-of-type {\n",
              "        vertical-align: middle;\n",
              "    }\n",
              "\n",
              "    .dataframe tbody tr th {\n",
              "        vertical-align: top;\n",
              "    }\n",
              "\n",
              "    .dataframe thead th {\n",
              "        text-align: right;\n",
              "    }\n",
              "</style>\n",
              "<table border=\"1\" class=\"dataframe\">\n",
              "  <thead>\n",
              "    <tr style=\"text-align: right;\">\n",
              "      <th></th>\n",
              "      <th>ds</th>\n",
              "      <th>y</th>\n",
              "    </tr>\n",
              "  </thead>\n",
              "  <tbody>\n",
              "    <tr>\n",
              "      <th>0</th>\n",
              "      <td>2020-01-01</td>\n",
              "      <td>9316.764648</td>\n",
              "    </tr>\n",
              "    <tr>\n",
              "      <th>1</th>\n",
              "      <td>2020-01-02</td>\n",
              "      <td>9090.780273</td>\n",
              "    </tr>\n",
              "    <tr>\n",
              "      <th>2</th>\n",
              "      <td>2020-01-03</td>\n",
              "      <td>9628.295898</td>\n",
              "    </tr>\n",
              "    <tr>\n",
              "      <th>3</th>\n",
              "      <td>2020-01-04</td>\n",
              "      <td>9692.712891</td>\n",
              "    </tr>\n",
              "    <tr>\n",
              "      <th>4</th>\n",
              "      <td>2020-01-05</td>\n",
              "      <td>9779.718750</td>\n",
              "    </tr>\n",
              "  </tbody>\n",
              "</table>\n",
              "</div>\n",
              "      <button class=\"colab-df-convert\" onclick=\"convertToInteractive('df-9a9d1f94-59a3-4a4f-ac30-28a7cf515b97')\"\n",
              "              title=\"Convert this dataframe to an interactive table.\"\n",
              "              style=\"display:none;\">\n",
              "        \n",
              "  <svg xmlns=\"http://www.w3.org/2000/svg\" height=\"24px\"viewBox=\"0 0 24 24\"\n",
              "       width=\"24px\">\n",
              "    <path d=\"M0 0h24v24H0V0z\" fill=\"none\"/>\n",
              "    <path d=\"M18.56 5.44l.94 2.06.94-2.06 2.06-.94-2.06-.94-.94-2.06-.94 2.06-2.06.94zm-11 1L8.5 8.5l.94-2.06 2.06-.94-2.06-.94L8.5 2.5l-.94 2.06-2.06.94zm10 10l.94 2.06.94-2.06 2.06-.94-2.06-.94-.94-2.06-.94 2.06-2.06.94z\"/><path d=\"M17.41 7.96l-1.37-1.37c-.4-.4-.92-.59-1.43-.59-.52 0-1.04.2-1.43.59L10.3 9.45l-7.72 7.72c-.78.78-.78 2.05 0 2.83L4 21.41c.39.39.9.59 1.41.59.51 0 1.02-.2 1.41-.59l7.78-7.78 2.81-2.81c.8-.78.8-2.07 0-2.86zM5.41 20L4 18.59l7.72-7.72 1.47 1.35L5.41 20z\"/>\n",
              "  </svg>\n",
              "      </button>\n",
              "      \n",
              "  <style>\n",
              "    .colab-df-container {\n",
              "      display:flex;\n",
              "      flex-wrap:wrap;\n",
              "      gap: 12px;\n",
              "    }\n",
              "\n",
              "    .colab-df-convert {\n",
              "      background-color: #E8F0FE;\n",
              "      border: none;\n",
              "      border-radius: 50%;\n",
              "      cursor: pointer;\n",
              "      display: none;\n",
              "      fill: #1967D2;\n",
              "      height: 32px;\n",
              "      padding: 0 0 0 0;\n",
              "      width: 32px;\n",
              "    }\n",
              "\n",
              "    .colab-df-convert:hover {\n",
              "      background-color: #E2EBFA;\n",
              "      box-shadow: 0px 1px 2px rgba(60, 64, 67, 0.3), 0px 1px 3px 1px rgba(60, 64, 67, 0.15);\n",
              "      fill: #174EA6;\n",
              "    }\n",
              "\n",
              "    [theme=dark] .colab-df-convert {\n",
              "      background-color: #3B4455;\n",
              "      fill: #D2E3FC;\n",
              "    }\n",
              "\n",
              "    [theme=dark] .colab-df-convert:hover {\n",
              "      background-color: #434B5C;\n",
              "      box-shadow: 0px 1px 3px 1px rgba(0, 0, 0, 0.15);\n",
              "      filter: drop-shadow(0px 1px 2px rgba(0, 0, 0, 0.3));\n",
              "      fill: #FFFFFF;\n",
              "    }\n",
              "  </style>\n",
              "\n",
              "      <script>\n",
              "        const buttonEl =\n",
              "          document.querySelector('#df-9a9d1f94-59a3-4a4f-ac30-28a7cf515b97 button.colab-df-convert');\n",
              "        buttonEl.style.display =\n",
              "          google.colab.kernel.accessAllowed ? 'block' : 'none';\n",
              "\n",
              "        async function convertToInteractive(key) {\n",
              "          const element = document.querySelector('#df-9a9d1f94-59a3-4a4f-ac30-28a7cf515b97');\n",
              "          const dataTable =\n",
              "            await google.colab.kernel.invokeFunction('convertToInteractive',\n",
              "                                                     [key], {});\n",
              "          if (!dataTable) return;\n",
              "\n",
              "          const docLinkHtml = 'Like what you see? Visit the ' +\n",
              "            '<a target=\"_blank\" href=https://colab.research.google.com/notebooks/data_table.ipynb>data table notebook</a>'\n",
              "            + ' to learn more about interactive tables.';\n",
              "          element.innerHTML = '';\n",
              "          dataTable['output_type'] = 'display_data';\n",
              "          await google.colab.output.renderOutput(dataTable, element);\n",
              "          const docLink = document.createElement('div');\n",
              "          docLink.innerHTML = docLinkHtml;\n",
              "          element.appendChild(docLink);\n",
              "        }\n",
              "      </script>\n",
              "    </div>\n",
              "  </div>\n",
              "  "
            ]
          },
          "metadata": {},
          "execution_count": 49
        }
      ]
    },
    {
      "cell_type": "markdown",
      "metadata": {
        "id": "nT4ErZiA3ojS"
      },
      "source": [
        "Using `.info()`, we can see that the dataset has 731 records and two columns, `ds` and `y`. `ds` is in DateTime format, and `y` is in float format. There is no missing data in the dataset."
      ]
    },
    {
      "cell_type": "code",
      "metadata": {
        "colab": {
          "base_uri": "https://localhost:8080/"
        },
        "id": "DBo0TEPvXEJF",
        "outputId": "07064e55-1e61-4755-f0f1-98254eeabcfa"
      },
      "source": [
        "# Data information\n",
        "df.info()"
      ],
      "execution_count": null,
      "outputs": [
        {
          "output_type": "stream",
          "name": "stdout",
          "text": [
            "<class 'pandas.core.frame.DataFrame'>\n",
            "RangeIndex: 731 entries, 0 to 730\n",
            "Data columns (total 2 columns):\n",
            " #   Column  Non-Null Count  Dtype         \n",
            "---  ------  --------------  -----         \n",
            " 0   ds      731 non-null    datetime64[ns]\n",
            " 1   y       731 non-null    float64       \n",
            "dtypes: datetime64[ns](1), float64(1)\n",
            "memory usage: 11.5 KB\n"
          ]
        }
      ]
    },
    {
      "cell_type": "markdown",
      "source": [
        "# Step 5: Visualizing `ds` and `y`"
      ],
      "metadata": {
        "id": "mrl5utr3FHhp"
      }
    },
    {
      "cell_type": "code",
      "source": [
        "# plot the close price\n",
        "\n",
        "x = df[\"ds\"]\n",
        "y = df[\"y\"]\n",
        "\n",
        "fig = go.Figure()\n",
        "\n",
        "fig.add_trace(go.Scatter(x=x, y=y))\n",
        "\n",
        "# Set title\n",
        "fig.update_layout(\n",
        "    title_text=\"Time series plot of Ethereum close Price\",\n",
        ")\n",
        "\n",
        "fig.update_layout(\n",
        "    xaxis=dict(\n",
        "        rangeselector=dict(\n",
        "            buttons=list(\n",
        "                [\n",
        "                    dict(count=1, label=\"1d\", step=\"day\", stepmode=\"backward\"),\n",
        "                    dict(count=1, label=\"1m\", step=\"month\", stepmode=\"backward\"),\n",
        "                    dict(count=1, label=\"YTD\", step=\"year\", stepmode=\"todate\"),\n",
        "                    dict(count=1, label=\"1y\", step=\"year\", stepmode=\"backward\"),\n",
        "                    dict(step=\"all\"),\n",
        "                ]\n",
        "            )\n",
        "        ),\n",
        "        rangeslider=dict(visible=True),\n",
        "        type=\"date\",\n",
        "    )\n",
        ")"
      ],
      "metadata": {
        "colab": {
          "base_uri": "https://localhost:8080/",
          "height": 542
        },
        "id": "7SAg-2IMwSXk",
        "outputId": "608acc88-6987-4194-cccd-a4795ebed3dd"
      },
      "execution_count": null,
      "outputs": [
        {
          "output_type": "display_data",
          "data": {
            "text/html": [
              "<html>\n",
              "<head><meta charset=\"utf-8\" /></head>\n",
              "<body>\n",
              "    <div>            <script src=\"https://cdnjs.cloudflare.com/ajax/libs/mathjax/2.7.5/MathJax.js?config=TeX-AMS-MML_SVG\"></script><script type=\"text/javascript\">if (window.MathJax) {MathJax.Hub.Config({SVG: {font: \"STIX-Web\"}});}</script>                <script type=\"text/javascript\">window.PlotlyConfig = {MathJaxConfig: 'local'};</script>\n",
              "        <script src=\"https://cdn.plot.ly/plotly-2.8.3.min.js\"></script>                <div id=\"76165f55-a7dc-4863-8be3-0ddcb29b8716\" class=\"plotly-graph-div\" style=\"height:525px; width:100%;\"></div>            <script type=\"text/javascript\">                                    window.PLOTLYENV=window.PLOTLYENV || {};                                    if (document.getElementById(\"76165f55-a7dc-4863-8be3-0ddcb29b8716\")) {                    Plotly.newPlot(                        \"76165f55-a7dc-4863-8be3-0ddcb29b8716\",                        [{\"x\":[\"2020-01-01T00:00:00\",\"2020-01-02T00:00:00\",\"2020-01-03T00:00:00\",\"2020-01-04T00:00:00\",\"2020-01-05T00:00:00\",\"2020-01-06T00:00:00\",\"2020-01-07T00:00:00\",\"2020-01-08T00:00:00\",\"2020-01-09T00:00:00\",\"2020-01-10T00:00:00\",\"2020-01-11T00:00:00\",\"2020-01-12T00:00:00\",\"2020-01-13T00:00:00\",\"2020-01-14T00:00:00\",\"2020-01-15T00:00:00\",\"2020-01-16T00:00:00\",\"2020-01-17T00:00:00\",\"2020-01-18T00:00:00\",\"2020-01-19T00:00:00\",\"2020-01-20T00:00:00\",\"2020-01-21T00:00:00\",\"2020-01-22T00:00:00\",\"2020-01-23T00:00:00\",\"2020-01-24T00:00:00\",\"2020-01-25T00:00:00\",\"2020-01-26T00:00:00\",\"2020-01-27T00:00:00\",\"2020-01-28T00:00:00\",\"2020-01-29T00:00:00\",\"2020-01-30T00:00:00\",\"2020-01-31T00:00:00\",\"2020-02-01T00:00:00\",\"2020-02-02T00:00:00\",\"2020-02-03T00:00:00\",\"2020-02-04T00:00:00\",\"2020-02-05T00:00:00\",\"2020-02-06T00:00:00\",\"2020-02-07T00:00:00\",\"2020-02-08T00:00:00\",\"2020-02-09T00:00:00\",\"2020-02-10T00:00:00\",\"2020-02-11T00:00:00\",\"2020-02-12T00:00:00\",\"2020-02-13T00:00:00\",\"2020-02-14T00:00:00\",\"2020-02-15T00:00:00\",\"2020-02-16T00:00:00\",\"2020-02-17T00:00:00\",\"2020-02-18T00:00:00\",\"2020-02-19T00:00:00\",\"2020-02-20T00:00:00\",\"2020-02-21T00:00:00\",\"2020-02-22T00:00:00\",\"2020-02-23T00:00:00\",\"2020-02-24T00:00:00\",\"2020-02-25T00:00:00\",\"2020-02-26T00:00:00\",\"2020-02-27T00:00:00\",\"2020-02-28T00:00:00\",\"2020-02-29T00:00:00\",\"2020-03-01T00:00:00\",\"2020-03-02T00:00:00\",\"2020-03-03T00:00:00\",\"2020-03-04T00:00:00\",\"2020-03-05T00:00:00\",\"2020-03-06T00:00:00\",\"2020-03-07T00:00:00\",\"2020-03-08T00:00:00\",\"2020-03-09T00:00:00\",\"2020-03-10T00:00:00\",\"2020-03-11T00:00:00\",\"2020-03-12T00:00:00\",\"2020-03-13T00:00:00\",\"2020-03-14T00:00:00\",\"2020-03-15T00:00:00\",\"2020-03-16T00:00:00\",\"2020-03-17T00:00:00\",\"2020-03-18T00:00:00\",\"2020-03-19T00:00:00\",\"2020-03-20T00:00:00\",\"2020-03-21T00:00:00\",\"2020-03-22T00:00:00\",\"2020-03-23T00:00:00\",\"2020-03-24T00:00:00\",\"2020-03-25T00:00:00\",\"2020-03-26T00:00:00\",\"2020-03-27T00:00:00\",\"2020-03-28T00:00:00\",\"2020-03-29T00:00:00\",\"2020-03-30T00:00:00\",\"2020-03-31T00:00:00\",\"2020-04-01T00:00:00\",\"2020-04-02T00:00:00\",\"2020-04-03T00:00:00\",\"2020-04-04T00:00:00\",\"2020-04-05T00:00:00\",\"2020-04-06T00:00:00\",\"2020-04-07T00:00:00\",\"2020-04-08T00:00:00\",\"2020-04-09T00:00:00\",\"2020-04-10T00:00:00\",\"2020-04-11T00:00:00\",\"2020-04-12T00:00:00\",\"2020-04-13T00:00:00\",\"2020-04-14T00:00:00\",\"2020-04-15T00:00:00\",\"2020-04-16T00:00:00\",\"2020-04-17T00:00:00\",\"2020-04-18T00:00:00\",\"2020-04-19T00:00:00\",\"2020-04-20T00:00:00\",\"2020-04-21T00:00:00\",\"2020-04-22T00:00:00\",\"2020-04-23T00:00:00\",\"2020-04-24T00:00:00\",\"2020-04-25T00:00:00\",\"2020-04-26T00:00:00\",\"2020-04-27T00:00:00\",\"2020-04-28T00:00:00\",\"2020-04-29T00:00:00\",\"2020-04-30T00:00:00\",\"2020-05-01T00:00:00\",\"2020-05-02T00:00:00\",\"2020-05-03T00:00:00\",\"2020-05-04T00:00:00\",\"2020-05-05T00:00:00\",\"2020-05-06T00:00:00\",\"2020-05-07T00:00:00\",\"2020-05-08T00:00:00\",\"2020-05-09T00:00:00\",\"2020-05-10T00:00:00\",\"2020-05-11T00:00:00\",\"2020-05-12T00:00:00\",\"2020-05-13T00:00:00\",\"2020-05-14T00:00:00\",\"2020-05-15T00:00:00\",\"2020-05-16T00:00:00\",\"2020-05-17T00:00:00\",\"2020-05-18T00:00:00\",\"2020-05-19T00:00:00\",\"2020-05-20T00:00:00\",\"2020-05-21T00:00:00\",\"2020-05-22T00:00:00\",\"2020-05-23T00:00:00\",\"2020-05-24T00:00:00\",\"2020-05-25T00:00:00\",\"2020-05-26T00:00:00\",\"2020-05-27T00:00:00\",\"2020-05-28T00:00:00\",\"2020-05-29T00:00:00\",\"2020-05-30T00:00:00\",\"2020-05-31T00:00:00\",\"2020-06-01T00:00:00\",\"2020-06-02T00:00:00\",\"2020-06-03T00:00:00\",\"2020-06-04T00:00:00\",\"2020-06-05T00:00:00\",\"2020-06-06T00:00:00\",\"2020-06-07T00:00:00\",\"2020-06-08T00:00:00\",\"2020-06-09T00:00:00\",\"2020-06-10T00:00:00\",\"2020-06-11T00:00:00\",\"2020-06-12T00:00:00\",\"2020-06-13T00:00:00\",\"2020-06-14T00:00:00\",\"2020-06-15T00:00:00\",\"2020-06-16T00:00:00\",\"2020-06-17T00:00:00\",\"2020-06-18T00:00:00\",\"2020-06-19T00:00:00\",\"2020-06-20T00:00:00\",\"2020-06-21T00:00:00\",\"2020-06-22T00:00:00\",\"2020-06-23T00:00:00\",\"2020-06-24T00:00:00\",\"2020-06-25T00:00:00\",\"2020-06-26T00:00:00\",\"2020-06-27T00:00:00\",\"2020-06-28T00:00:00\",\"2020-06-29T00:00:00\",\"2020-06-30T00:00:00\",\"2020-07-01T00:00:00\",\"2020-07-02T00:00:00\",\"2020-07-03T00:00:00\",\"2020-07-04T00:00:00\",\"2020-07-05T00:00:00\",\"2020-07-06T00:00:00\",\"2020-07-07T00:00:00\",\"2020-07-08T00:00:00\",\"2020-07-09T00:00:00\",\"2020-07-10T00:00:00\",\"2020-07-11T00:00:00\",\"2020-07-12T00:00:00\",\"2020-07-13T00:00:00\",\"2020-07-14T00:00:00\",\"2020-07-15T00:00:00\",\"2020-07-16T00:00:00\",\"2020-07-17T00:00:00\",\"2020-07-18T00:00:00\",\"2020-07-19T00:00:00\",\"2020-07-20T00:00:00\",\"2020-07-21T00:00:00\",\"2020-07-22T00:00:00\",\"2020-07-23T00:00:00\",\"2020-07-24T00:00:00\",\"2020-07-25T00:00:00\",\"2020-07-26T00:00:00\",\"2020-07-27T00:00:00\",\"2020-07-28T00:00:00\",\"2020-07-29T00:00:00\",\"2020-07-30T00:00:00\",\"2020-07-31T00:00:00\",\"2020-08-01T00:00:00\",\"2020-08-02T00:00:00\",\"2020-08-03T00:00:00\",\"2020-08-04T00:00:00\",\"2020-08-05T00:00:00\",\"2020-08-06T00:00:00\",\"2020-08-07T00:00:00\",\"2020-08-08T00:00:00\",\"2020-08-09T00:00:00\",\"2020-08-10T00:00:00\",\"2020-08-11T00:00:00\",\"2020-08-12T00:00:00\",\"2020-08-13T00:00:00\",\"2020-08-14T00:00:00\",\"2020-08-15T00:00:00\",\"2020-08-16T00:00:00\",\"2020-08-17T00:00:00\",\"2020-08-18T00:00:00\",\"2020-08-19T00:00:00\",\"2020-08-20T00:00:00\",\"2020-08-21T00:00:00\",\"2020-08-22T00:00:00\",\"2020-08-23T00:00:00\",\"2020-08-24T00:00:00\",\"2020-08-25T00:00:00\",\"2020-08-26T00:00:00\",\"2020-08-27T00:00:00\",\"2020-08-28T00:00:00\",\"2020-08-29T00:00:00\",\"2020-08-30T00:00:00\",\"2020-08-31T00:00:00\",\"2020-09-01T00:00:00\",\"2020-09-02T00:00:00\",\"2020-09-03T00:00:00\",\"2020-09-04T00:00:00\",\"2020-09-05T00:00:00\",\"2020-09-06T00:00:00\",\"2020-09-07T00:00:00\",\"2020-09-08T00:00:00\",\"2020-09-09T00:00:00\",\"2020-09-10T00:00:00\",\"2020-09-11T00:00:00\",\"2020-09-12T00:00:00\",\"2020-09-13T00:00:00\",\"2020-09-14T00:00:00\",\"2020-09-15T00:00:00\",\"2020-09-16T00:00:00\",\"2020-09-17T00:00:00\",\"2020-09-18T00:00:00\",\"2020-09-19T00:00:00\",\"2020-09-20T00:00:00\",\"2020-09-21T00:00:00\",\"2020-09-22T00:00:00\",\"2020-09-23T00:00:00\",\"2020-09-24T00:00:00\",\"2020-09-25T00:00:00\",\"2020-09-26T00:00:00\",\"2020-09-27T00:00:00\",\"2020-09-28T00:00:00\",\"2020-09-29T00:00:00\",\"2020-09-30T00:00:00\",\"2020-10-01T00:00:00\",\"2020-10-02T00:00:00\",\"2020-10-03T00:00:00\",\"2020-10-04T00:00:00\",\"2020-10-05T00:00:00\",\"2020-10-06T00:00:00\",\"2020-10-07T00:00:00\",\"2020-10-08T00:00:00\",\"2020-10-09T00:00:00\",\"2020-10-10T00:00:00\",\"2020-10-11T00:00:00\",\"2020-10-12T00:00:00\",\"2020-10-13T00:00:00\",\"2020-10-14T00:00:00\",\"2020-10-15T00:00:00\",\"2020-10-16T00:00:00\",\"2020-10-17T00:00:00\",\"2020-10-18T00:00:00\",\"2020-10-19T00:00:00\",\"2020-10-20T00:00:00\",\"2020-10-21T00:00:00\",\"2020-10-22T00:00:00\",\"2020-10-23T00:00:00\",\"2020-10-24T00:00:00\",\"2020-10-25T00:00:00\",\"2020-10-26T00:00:00\",\"2020-10-27T00:00:00\",\"2020-10-28T00:00:00\",\"2020-10-29T00:00:00\",\"2020-10-30T00:00:00\",\"2020-10-31T00:00:00\",\"2020-11-01T00:00:00\",\"2020-11-02T00:00:00\",\"2020-11-03T00:00:00\",\"2020-11-04T00:00:00\",\"2020-11-05T00:00:00\",\"2020-11-06T00:00:00\",\"2020-11-07T00:00:00\",\"2020-11-08T00:00:00\",\"2020-11-09T00:00:00\",\"2020-11-10T00:00:00\",\"2020-11-11T00:00:00\",\"2020-11-12T00:00:00\",\"2020-11-13T00:00:00\",\"2020-11-14T00:00:00\",\"2020-11-15T00:00:00\",\"2020-11-16T00:00:00\",\"2020-11-17T00:00:00\",\"2020-11-18T00:00:00\",\"2020-11-19T00:00:00\",\"2020-11-20T00:00:00\",\"2020-11-21T00:00:00\",\"2020-11-22T00:00:00\",\"2020-11-23T00:00:00\",\"2020-11-24T00:00:00\",\"2020-11-25T00:00:00\",\"2020-11-26T00:00:00\",\"2020-11-27T00:00:00\",\"2020-11-28T00:00:00\",\"2020-11-29T00:00:00\",\"2020-11-30T00:00:00\",\"2020-12-01T00:00:00\",\"2020-12-02T00:00:00\",\"2020-12-03T00:00:00\",\"2020-12-04T00:00:00\",\"2020-12-05T00:00:00\",\"2020-12-06T00:00:00\",\"2020-12-07T00:00:00\",\"2020-12-08T00:00:00\",\"2020-12-09T00:00:00\",\"2020-12-10T00:00:00\",\"2020-12-11T00:00:00\",\"2020-12-12T00:00:00\",\"2020-12-13T00:00:00\",\"2020-12-14T00:00:00\",\"2020-12-15T00:00:00\",\"2020-12-16T00:00:00\",\"2020-12-17T00:00:00\",\"2020-12-18T00:00:00\",\"2020-12-19T00:00:00\",\"2020-12-20T00:00:00\",\"2020-12-21T00:00:00\",\"2020-12-22T00:00:00\",\"2020-12-23T00:00:00\",\"2020-12-24T00:00:00\",\"2020-12-25T00:00:00\",\"2020-12-26T00:00:00\",\"2020-12-27T00:00:00\",\"2020-12-28T00:00:00\",\"2020-12-29T00:00:00\",\"2020-12-30T00:00:00\",\"2020-12-31T00:00:00\",\"2021-01-01T00:00:00\",\"2021-01-02T00:00:00\",\"2021-01-03T00:00:00\",\"2021-01-04T00:00:00\",\"2021-01-05T00:00:00\",\"2021-01-06T00:00:00\",\"2021-01-07T00:00:00\",\"2021-01-08T00:00:00\",\"2021-01-09T00:00:00\",\"2021-01-10T00:00:00\",\"2021-01-11T00:00:00\",\"2021-01-12T00:00:00\",\"2021-01-13T00:00:00\",\"2021-01-14T00:00:00\",\"2021-01-15T00:00:00\",\"2021-01-16T00:00:00\",\"2021-01-17T00:00:00\",\"2021-01-18T00:00:00\",\"2021-01-19T00:00:00\",\"2021-01-20T00:00:00\",\"2021-01-21T00:00:00\",\"2021-01-22T00:00:00\",\"2021-01-23T00:00:00\",\"2021-01-24T00:00:00\",\"2021-01-25T00:00:00\",\"2021-01-26T00:00:00\",\"2021-01-27T00:00:00\",\"2021-01-28T00:00:00\",\"2021-01-29T00:00:00\",\"2021-01-30T00:00:00\",\"2021-01-31T00:00:00\",\"2021-02-01T00:00:00\",\"2021-02-02T00:00:00\",\"2021-02-03T00:00:00\",\"2021-02-04T00:00:00\",\"2021-02-05T00:00:00\",\"2021-02-06T00:00:00\",\"2021-02-07T00:00:00\",\"2021-02-08T00:00:00\",\"2021-02-09T00:00:00\",\"2021-02-10T00:00:00\",\"2021-02-11T00:00:00\",\"2021-02-12T00:00:00\",\"2021-02-13T00:00:00\",\"2021-02-14T00:00:00\",\"2021-02-15T00:00:00\",\"2021-02-16T00:00:00\",\"2021-02-17T00:00:00\",\"2021-02-18T00:00:00\",\"2021-02-19T00:00:00\",\"2021-02-20T00:00:00\",\"2021-02-21T00:00:00\",\"2021-02-22T00:00:00\",\"2021-02-23T00:00:00\",\"2021-02-24T00:00:00\",\"2021-02-25T00:00:00\",\"2021-02-26T00:00:00\",\"2021-02-27T00:00:00\",\"2021-02-28T00:00:00\",\"2021-03-01T00:00:00\",\"2021-03-02T00:00:00\",\"2021-03-03T00:00:00\",\"2021-03-04T00:00:00\",\"2021-03-05T00:00:00\",\"2021-03-06T00:00:00\",\"2021-03-07T00:00:00\",\"2021-03-08T00:00:00\",\"2021-03-09T00:00:00\",\"2021-03-10T00:00:00\",\"2021-03-11T00:00:00\",\"2021-03-12T00:00:00\",\"2021-03-13T00:00:00\",\"2021-03-14T00:00:00\",\"2021-03-15T00:00:00\",\"2021-03-16T00:00:00\",\"2021-03-17T00:00:00\",\"2021-03-18T00:00:00\",\"2021-03-19T00:00:00\",\"2021-03-20T00:00:00\",\"2021-03-21T00:00:00\",\"2021-03-22T00:00:00\",\"2021-03-23T00:00:00\",\"2021-03-24T00:00:00\",\"2021-03-25T00:00:00\",\"2021-03-26T00:00:00\",\"2021-03-27T00:00:00\",\"2021-03-28T00:00:00\",\"2021-03-29T00:00:00\",\"2021-03-30T00:00:00\",\"2021-03-31T00:00:00\",\"2021-04-01T00:00:00\",\"2021-04-02T00:00:00\",\"2021-04-03T00:00:00\",\"2021-04-04T00:00:00\",\"2021-04-05T00:00:00\",\"2021-04-06T00:00:00\",\"2021-04-07T00:00:00\",\"2021-04-08T00:00:00\",\"2021-04-09T00:00:00\",\"2021-04-10T00:00:00\",\"2021-04-11T00:00:00\",\"2021-04-12T00:00:00\",\"2021-04-13T00:00:00\",\"2021-04-14T00:00:00\",\"2021-04-15T00:00:00\",\"2021-04-16T00:00:00\",\"2021-04-17T00:00:00\",\"2021-04-18T00:00:00\",\"2021-04-19T00:00:00\",\"2021-04-20T00:00:00\",\"2021-04-21T00:00:00\",\"2021-04-22T00:00:00\",\"2021-04-23T00:00:00\",\"2021-04-24T00:00:00\",\"2021-04-25T00:00:00\",\"2021-04-26T00:00:00\",\"2021-04-27T00:00:00\",\"2021-04-28T00:00:00\",\"2021-04-29T00:00:00\",\"2021-04-30T00:00:00\",\"2021-05-01T00:00:00\",\"2021-05-02T00:00:00\",\"2021-05-03T00:00:00\",\"2021-05-04T00:00:00\",\"2021-05-05T00:00:00\",\"2021-05-06T00:00:00\",\"2021-05-07T00:00:00\",\"2021-05-08T00:00:00\",\"2021-05-09T00:00:00\",\"2021-05-10T00:00:00\",\"2021-05-11T00:00:00\",\"2021-05-12T00:00:00\",\"2021-05-13T00:00:00\",\"2021-05-14T00:00:00\",\"2021-05-15T00:00:00\",\"2021-05-16T00:00:00\",\"2021-05-17T00:00:00\",\"2021-05-18T00:00:00\",\"2021-05-19T00:00:00\",\"2021-05-20T00:00:00\",\"2021-05-21T00:00:00\",\"2021-05-22T00:00:00\",\"2021-05-23T00:00:00\",\"2021-05-24T00:00:00\",\"2021-05-25T00:00:00\",\"2021-05-26T00:00:00\",\"2021-05-27T00:00:00\",\"2021-05-28T00:00:00\",\"2021-05-29T00:00:00\",\"2021-05-30T00:00:00\",\"2021-05-31T00:00:00\",\"2021-06-01T00:00:00\",\"2021-06-02T00:00:00\",\"2021-06-03T00:00:00\",\"2021-06-04T00:00:00\",\"2021-06-05T00:00:00\",\"2021-06-06T00:00:00\",\"2021-06-07T00:00:00\",\"2021-06-08T00:00:00\",\"2021-06-09T00:00:00\",\"2021-06-10T00:00:00\",\"2021-06-11T00:00:00\",\"2021-06-12T00:00:00\",\"2021-06-13T00:00:00\",\"2021-06-14T00:00:00\",\"2021-06-15T00:00:00\",\"2021-06-16T00:00:00\",\"2021-06-17T00:00:00\",\"2021-06-18T00:00:00\",\"2021-06-19T00:00:00\",\"2021-06-20T00:00:00\",\"2021-06-21T00:00:00\",\"2021-06-22T00:00:00\",\"2021-06-23T00:00:00\",\"2021-06-24T00:00:00\",\"2021-06-25T00:00:00\",\"2021-06-26T00:00:00\",\"2021-06-27T00:00:00\",\"2021-06-28T00:00:00\",\"2021-06-29T00:00:00\",\"2021-06-30T00:00:00\",\"2021-07-01T00:00:00\",\"2021-07-02T00:00:00\",\"2021-07-03T00:00:00\",\"2021-07-04T00:00:00\",\"2021-07-05T00:00:00\",\"2021-07-06T00:00:00\",\"2021-07-07T00:00:00\",\"2021-07-08T00:00:00\",\"2021-07-09T00:00:00\",\"2021-07-10T00:00:00\",\"2021-07-11T00:00:00\",\"2021-07-12T00:00:00\",\"2021-07-13T00:00:00\",\"2021-07-14T00:00:00\",\"2021-07-15T00:00:00\",\"2021-07-16T00:00:00\",\"2021-07-17T00:00:00\",\"2021-07-18T00:00:00\",\"2021-07-19T00:00:00\",\"2021-07-20T00:00:00\",\"2021-07-21T00:00:00\",\"2021-07-22T00:00:00\",\"2021-07-23T00:00:00\",\"2021-07-24T00:00:00\",\"2021-07-25T00:00:00\",\"2021-07-26T00:00:00\",\"2021-07-27T00:00:00\",\"2021-07-28T00:00:00\",\"2021-07-29T00:00:00\",\"2021-07-30T00:00:00\",\"2021-07-31T00:00:00\",\"2021-08-01T00:00:00\",\"2021-08-02T00:00:00\",\"2021-08-03T00:00:00\",\"2021-08-04T00:00:00\",\"2021-08-05T00:00:00\",\"2021-08-06T00:00:00\",\"2021-08-07T00:00:00\",\"2021-08-08T00:00:00\",\"2021-08-09T00:00:00\",\"2021-08-10T00:00:00\",\"2021-08-11T00:00:00\",\"2021-08-12T00:00:00\",\"2021-08-13T00:00:00\",\"2021-08-14T00:00:00\",\"2021-08-15T00:00:00\",\"2021-08-16T00:00:00\",\"2021-08-17T00:00:00\",\"2021-08-18T00:00:00\",\"2021-08-19T00:00:00\",\"2021-08-20T00:00:00\",\"2021-08-21T00:00:00\",\"2021-08-22T00:00:00\",\"2021-08-23T00:00:00\",\"2021-08-24T00:00:00\",\"2021-08-25T00:00:00\",\"2021-08-26T00:00:00\",\"2021-08-27T00:00:00\",\"2021-08-28T00:00:00\",\"2021-08-29T00:00:00\",\"2021-08-30T00:00:00\",\"2021-08-31T00:00:00\",\"2021-09-01T00:00:00\",\"2021-09-02T00:00:00\",\"2021-09-03T00:00:00\",\"2021-09-04T00:00:00\",\"2021-09-05T00:00:00\",\"2021-09-06T00:00:00\",\"2021-09-07T00:00:00\",\"2021-09-08T00:00:00\",\"2021-09-09T00:00:00\",\"2021-09-10T00:00:00\",\"2021-09-11T00:00:00\",\"2021-09-12T00:00:00\",\"2021-09-13T00:00:00\",\"2021-09-14T00:00:00\",\"2021-09-15T00:00:00\",\"2021-09-16T00:00:00\",\"2021-09-17T00:00:00\",\"2021-09-18T00:00:00\",\"2021-09-19T00:00:00\",\"2021-09-20T00:00:00\",\"2021-09-21T00:00:00\",\"2021-09-22T00:00:00\",\"2021-09-23T00:00:00\",\"2021-09-24T00:00:00\",\"2021-09-25T00:00:00\",\"2021-09-26T00:00:00\",\"2021-09-27T00:00:00\",\"2021-09-28T00:00:00\",\"2021-09-29T00:00:00\",\"2021-09-30T00:00:00\",\"2021-10-01T00:00:00\",\"2021-10-02T00:00:00\",\"2021-10-03T00:00:00\",\"2021-10-04T00:00:00\",\"2021-10-05T00:00:00\",\"2021-10-06T00:00:00\",\"2021-10-07T00:00:00\",\"2021-10-08T00:00:00\",\"2021-10-09T00:00:00\",\"2021-10-10T00:00:00\",\"2021-10-11T00:00:00\",\"2021-10-12T00:00:00\",\"2021-10-13T00:00:00\",\"2021-10-14T00:00:00\",\"2021-10-15T00:00:00\",\"2021-10-16T00:00:00\",\"2021-10-17T00:00:00\",\"2021-10-18T00:00:00\",\"2021-10-19T00:00:00\",\"2021-10-20T00:00:00\",\"2021-10-21T00:00:00\",\"2021-10-22T00:00:00\",\"2021-10-23T00:00:00\",\"2021-10-24T00:00:00\",\"2021-10-25T00:00:00\",\"2021-10-26T00:00:00\",\"2021-10-27T00:00:00\",\"2021-10-28T00:00:00\",\"2021-10-29T00:00:00\",\"2021-10-30T00:00:00\",\"2021-10-31T00:00:00\",\"2021-11-01T00:00:00\",\"2021-11-02T00:00:00\",\"2021-11-03T00:00:00\",\"2021-11-04T00:00:00\",\"2021-11-05T00:00:00\",\"2021-11-06T00:00:00\",\"2021-11-07T00:00:00\",\"2021-11-08T00:00:00\",\"2021-11-09T00:00:00\",\"2021-11-10T00:00:00\",\"2021-11-11T00:00:00\",\"2021-11-12T00:00:00\",\"2021-11-13T00:00:00\",\"2021-11-14T00:00:00\",\"2021-11-15T00:00:00\",\"2021-11-16T00:00:00\",\"2021-11-17T00:00:00\",\"2021-11-18T00:00:00\",\"2021-11-19T00:00:00\",\"2021-11-20T00:00:00\",\"2021-11-21T00:00:00\",\"2021-11-22T00:00:00\",\"2021-11-23T00:00:00\",\"2021-11-24T00:00:00\",\"2021-11-25T00:00:00\",\"2021-11-26T00:00:00\",\"2021-11-27T00:00:00\",\"2021-11-28T00:00:00\",\"2021-11-29T00:00:00\",\"2021-11-30T00:00:00\",\"2021-12-01T00:00:00\",\"2021-12-02T00:00:00\",\"2021-12-03T00:00:00\",\"2021-12-04T00:00:00\",\"2021-12-05T00:00:00\",\"2021-12-06T00:00:00\",\"2021-12-07T00:00:00\",\"2021-12-08T00:00:00\",\"2021-12-09T00:00:00\",\"2021-12-10T00:00:00\",\"2021-12-11T00:00:00\",\"2021-12-12T00:00:00\",\"2021-12-13T00:00:00\",\"2021-12-14T00:00:00\",\"2021-12-15T00:00:00\",\"2021-12-16T00:00:00\",\"2021-12-17T00:00:00\",\"2021-12-18T00:00:00\",\"2021-12-19T00:00:00\",\"2021-12-20T00:00:00\",\"2021-12-21T00:00:00\",\"2021-12-22T00:00:00\",\"2021-12-23T00:00:00\",\"2021-12-24T00:00:00\",\"2021-12-25T00:00:00\",\"2021-12-26T00:00:00\",\"2021-12-27T00:00:00\",\"2021-12-28T00:00:00\",\"2021-12-29T00:00:00\",\"2021-12-30T00:00:00\",\"2021-12-31T00:00:00\"],\"y\":[9316.7646484375,9090.7802734375,9628.2958984375,9692.712890625,9779.71875,10360.5751953125,10330.359375,10092.4560546875,9894.7841796875,10220.1328125,10142.177734375,10351.55078125,10200.9892578125,11758.7841796875,11756.4990234375,11664.462890625,12132.83984375,12458.6259765625,11862.9892578125,11871.990234375,12079.0439453125,11967.330078125,11621.8544921875,11629.70703125,11503.6572265625,11988.412109375,12213.01171875,12564.6923828125,12482.83984375,13218.2978515625,12881.2724609375,13132.50390625,13485.9658203125,13541.955078125,13457.6103515625,14539.1513671875,15140.4130859375,15928.4775390625,15958.546875,16346.9765625,15937.2802734375,16812.72265625,18925.076171875,19109.712890625,20329.197265625,18935.21484375,18589.73828125,19007.533203125,20183.0,18605.4375,18541.921875,19093.36328125,18858.37109375,19678.748046875,19108.630859375,17813.12890625,16175.2509765625,16256.8583984375,16366.439453125,15867.56640625,15804.203125,16698.78515625,16482.529296875,16500.94921875,16932.740234375,18020.142578125,17602.390625,14851.7353515625,15034.548828125,14902.451171875,14454.392578125,8362.73828125,9851.47265625,9119.58984375,9256.544921875,8218.6806640625,8434.6005859375,8611.1611328125,10266.421875,10037.9296875,10044.095703125,9315.28125,10330.3173828125,10540.4580078125,10329.9140625,10339.2197265625,10028.7373046875,9807.7451171875,9468.5615234375,10022.33203125,10064.2705078125,10387.7080078125,10818.64453125,10858.6181640625,11097.6650390625,10943.99609375,12850.0830078125,12489.13671875,13115.419921875,12966.1416015625,12067.3056640625,12052.3427734375,12275.2646484375,11917.6826171875,11971.9677734375,11726.5390625,13231.9130859375,13130.3515625,14299.1083984375,13906.2578125,13196.7392578125,13295.603515625,13952.43359375,14061.142578125,14442.1845703125,14918.2080078125,15051.6767578125,15025.919921875,15093.7958984375,16330.89453125,15655.4150390625,16250.447265625,16328.3388671875,15932.466796875,15746.28125,15703.02734375,15554.162109375,16072.876953125,16075.7529296875,15976.6552734375,14245.61328125,14117.7744140625,14268.2939453125,15026.384765625,15321.6396484375,14843.2607421875,15226.77734375,15708.845703125,16220.2392578125,16160.3837890625,15870.70703125,15118.5947265625,15743.8427734375,15859.7509765625,15379.134765625,15580.4013671875,15241.60546875,15851.8359375,16641.91796875,16666.091796875,18302.71484375,17444.0234375,18651.236328125,17807.09765625,18393.52734375,18443.92578125,18227.818359375,18281.419921875,18514.529296875,18572.837890625,18493.298828125,18726.544921875,17603.62109375,18039.271484375,18146.798828125,17782.662109375,17469.595703125,17910.298828125,17799.478515625,17732.6796875,17319.8046875,17482.677734375,17461.01171875,18381.603515625,18460.2109375,17858.419921875,17596.591796875,17369.333984375,16862.001953125,17040.765625,17231.234375,17099.794921875,17438.72265625,17179.181640625,16831.78125,17107.12890625,17001.890625,18018.53515625,17907.62890625,18485.486328125,18259.63671875,18112.119140625,18006.177734375,18198.3125,18021.15234375,18094.47265625,17917.73046875,17565.296875,17434.130859375,17637.158203125,17862.12890625,17652.53125,18264.404296875,19562.05859375,20561.51953125,20864.287109375,22720.55078125,23148.974609375,24049.974609375,23717.787109375,23805.673828125,25016.80859375,25892.375,28862.9765625,27770.005859375,29036.091796875,29264.63671875,30037.986328125,29584.048828125,28473.23828125,29559.1015625,29343.828125,29642.5390625,28382.927734375,29236.5390625,32080.15234375,32741.283203125,32438.65234375,32491.935546875,32106.12890625,31595.837890625,30473.322265625,31228.466796875,29156.96484375,29659.650390625,29323.330078125,30281.75,28507.623046875,28699.380859375,28228.435546875,28949.720703125,29245.658203125,31327.95703125,31951.298828125,34856.44140625,32234.177734375,28328.142578125,28437.1875,24556.52734375,25898.11328125,25902.193359375,24910.662109375,25746.037109375,27068.208984375,27531.3203125,28448.859375,26861.662109375,27691.404296875,26855.943359375,26905.93359375,28625.455078125,28293.130859375,28379.98046875,27285.390625,25148.63671875,25322.103515625,23692.572265625,25826.984375,25955.728515625,26199.294921875,26343.0546875,26198.353515625,26523.654296875,26468.083984375,25873.869140625,25387.13671875,25407.900390625,25852.02734375,25879.921875,25090.31640625,25067.701171875,25704.845703125,26673.919921875,27066.240234375,27391.017578125,28440.49609375,27986.47265625,27814.490234375,27693.474609375,26897.509765625,27090.443359375,27777.546875,27886.248046875,27124.568359375,28914.51953125,30506.32421875,30254.775390625,30453.45703125,29993.537109375,29127.552734375,29817.099609375,28834.583984375,28727.279296875,28563.67578125,28844.99609375,29582.390625,28529.96484375,28939.095703125,29835.216796875,30697.9140625,33640.65625,32234.55859375,33553.07421875,32849.14453125,33404.5859375,34510.81640625,34523.53125,35377.65625,34298.6015625,33360.11328125,34228.0,35813.2734375,35597.015625,34949.27734375,37804.0078125,40751.3828125,41381.41015625,45174.21484375,44665.0625,42111.22265625,38304.93359375,38261.64453125,39808.79296875,42576.94921875,45498.68359375,43268.17578125,44076.33984375,45598.984375,42017.515625,44027.8828125,44422.67578125,43684.04296875,40905.14453125,42332.8203125,41300.1015625,40246.16796875,41925.1875,43482.0546875,43160.984375,43332.81640625,46826.70703125,47270.1796875,48198.80859375,48529.0078125,46975.953125,45087.15234375,47056.34375,43101.49609375,44988.6953125,46078.17578125,46771.48046875,50327.9609375,53717.18359375,53721.41015625,55010.73046875,53901.99609375,53384.20703125,56612.50390625,71296.9453125,76030.3671875,80485.5234375,88291.1484375,90020.5390625,89830.8515625,94003.3984375,92593.8125,80146.1171875,76323.328125,82736.2578125,89057.3515625,85733.1796875,90209.21875,89982.421875,92019.6015625,100807.375,100780.4296875,81824.375,90264.6484375,89861.578125,101581.734375,96643.2734375,98956.8828125,91531.9765625,97190.71875,100795.9375,100328.2421875,95876.3046875,100104.3046875,110485.1328125,121010.96875,116395.8984375,125097.671875,122127.6171875,117507.7890625,127381.03125,128811.6875,126994.0859375,129699.5,133823.78125,131688.140625,131040.1640625,129282.1484375,129902.6015625,134556.390625,140669.75,142212.59375,139301.546875,140451.78125,129119.9140625,113655.0625,117757.328125,107949.796875,106422.8671875,107448.765625,104354.015625,114710.75,109375.015625,115037.359375,112765.5859375,112206.4453125,121095.4765625,126105.9921875,134541.78125,135949.21875,130810.4453125,132653.4375,128812.796875,139903.9375,134808.953125,129926.28125,131033.8984375,132327.8125,129560.5234375,131672.421875,131310.96875,129489.265625,122420.0234375,121890.8984375,115754.8828125,115843.890625,123366.46875,124355.5625,122534.421875,132367.78125,135582.953125,140431.28125,144909.765625,157261.640625,148837.828125,153585.515625,154465.4375,155660.703125,146651.40625,155692.171875,154848.078125,159618.3125,161241.15625,160432.796875,172856.96875,182697.046875,188247.640625,181334.203125,174821.0625,166808.65625,162200.875,175813.140625,178373.609375,180485.90625,176957.6875,165582.875,173399.59375,189617.65625,198583.84375,204089.15625,204301.265625,205482.1875,218277.40625,218732.765625,253343.34375,240050.015625,259976.625,256982.734375,255397.515625,286048.46875,287947.1875,290494.59375,305879.90625,278948.3125,272860.375,298909.65625,266598.3125,262889.40625,240501.125,247179.265625,180179.171875,203315.140625,177229.734375,167392.296875,153809.578125,192550.828125,197056.546875,209929.6875,198898.515625,175185.96875,165022.46875,173043.171875,196799.46875,191865.65625,197442.828125,208550.59375,195995.890625,191794.953125,197957.265625,188596.15625,183711.46875,190365.78125,180451.890625,172370.71875,173741.3125,183694.171875,185725.53125,191503.484375,174791.21875,176130.96875,165469.84375,161522.859375,166554.765625,140000.890625,139369.625,147732.21875,147524.671875,134511.4375,135700.0,146874.53125,154488.703125,160518.8125,169161.40625,157585.140625,160139.40625,165807.5625,172926.765625,163394.34375,173791.265625,173225.40625,158411.859375,159908.5,157279.8125,159398.265625,151821.15625,144845.4375,148516.546875,142458.1875,140336.75,141711.21875,141401.4375,136285.53125,133218.234375,148208.78125,150783.3125,158187.609375,162973.109375,163145.921875,165916.265625,171231.734375,170840.578125,176791.40625,183490.875,188641.53125,190548.875,194018.34375,185710.765625,202139.40625,209428.296875,214629.453125,234300.296875,224497.90625,235899.015625,233854.140625,234471.984375,226005.03125,246564.59375,242351.40625,245695.828125,234029.078125,224198.234375,224302.25,236887.078125,244224.875,239706.75,240894.84375,245977.390625,235221.953125,238974.40625,229908.796875,240378.6875,238453.25,237174.546875,236705.96875,250652.0,279886.25,276949.0625,287643.78125,283790.6875,288485.0,287204.78125,251465.296875,258144.703125,252018.828125,236129.5,240450.796875,250728.609375,241622.9375,252537.421875,265651.5,262722.84375,250468.0625,252935.453125,245368.140625,217957.265625,204002.15625,227377.9375,233004.375,216395.59375,215945.0625,226035.421875,216614.421875,208199.078125,212052.90625,222888.625,245259.765625,251501.765625,253479.375,252063.515625,262352.90625,267710.25,268489.375,268372.4375,268648.9375,257987.453125,267329.84375,263633.90625,271570.625,283933.09375,289459.09375,287042.125,288556.5,282040.78125,291290.46875,310899.15625,303533.96875,297739.21875,312872.625,306568.03125,316721.84375,309375.125,294918.4375,320680.90625,330790.5625,324114.71875,321295.4375,323612.5,342541.96875,342939.90625,337932.34375,332839.5625,335461.3125,342810.84375,355703.53125,351223.5,344955.25,351576.09375,346987.21875,345868.875,343963.03125,339218.4375,313945.71875,318396.09375,296752.125,319410.8125,327705.71875,317327.65625,304304.125,323157.96875,316408.84375,318498.5625,302531.8125,307485.53125,322300.65625,333628.03125,347597.8125,344107.53125,338262.65625,317896.625,309906.25,315909.9375,328612.0,325393.8125,334654.53125,311454.53125,296234.875,309264.53125,313099.8125,286947.125,284831.1875,306248.0,301812.40625,295044.65625,301229.34375,298208.40625,298023.9375,304280.0,300508.15625,308378.875,304066.0625,307468.65625,306656.1875,302737.5,284074.34375,270581.65625,276434.84375,274415.25],\"type\":\"scatter\"}],                        {\"template\":{\"data\":{\"bar\":[{\"error_x\":{\"color\":\"#2a3f5f\"},\"error_y\":{\"color\":\"#2a3f5f\"},\"marker\":{\"line\":{\"color\":\"#E5ECF6\",\"width\":0.5},\"pattern\":{\"fillmode\":\"overlay\",\"size\":10,\"solidity\":0.2}},\"type\":\"bar\"}],\"barpolar\":[{\"marker\":{\"line\":{\"color\":\"#E5ECF6\",\"width\":0.5},\"pattern\":{\"fillmode\":\"overlay\",\"size\":10,\"solidity\":0.2}},\"type\":\"barpolar\"}],\"carpet\":[{\"aaxis\":{\"endlinecolor\":\"#2a3f5f\",\"gridcolor\":\"white\",\"linecolor\":\"white\",\"minorgridcolor\":\"white\",\"startlinecolor\":\"#2a3f5f\"},\"baxis\":{\"endlinecolor\":\"#2a3f5f\",\"gridcolor\":\"white\",\"linecolor\":\"white\",\"minorgridcolor\":\"white\",\"startlinecolor\":\"#2a3f5f\"},\"type\":\"carpet\"}],\"choropleth\":[{\"colorbar\":{\"outlinewidth\":0,\"ticks\":\"\"},\"type\":\"choropleth\"}],\"contour\":[{\"colorbar\":{\"outlinewidth\":0,\"ticks\":\"\"},\"colorscale\":[[0.0,\"#0d0887\"],[0.1111111111111111,\"#46039f\"],[0.2222222222222222,\"#7201a8\"],[0.3333333333333333,\"#9c179e\"],[0.4444444444444444,\"#bd3786\"],[0.5555555555555556,\"#d8576b\"],[0.6666666666666666,\"#ed7953\"],[0.7777777777777778,\"#fb9f3a\"],[0.8888888888888888,\"#fdca26\"],[1.0,\"#f0f921\"]],\"type\":\"contour\"}],\"contourcarpet\":[{\"colorbar\":{\"outlinewidth\":0,\"ticks\":\"\"},\"type\":\"contourcarpet\"}],\"heatmap\":[{\"colorbar\":{\"outlinewidth\":0,\"ticks\":\"\"},\"colorscale\":[[0.0,\"#0d0887\"],[0.1111111111111111,\"#46039f\"],[0.2222222222222222,\"#7201a8\"],[0.3333333333333333,\"#9c179e\"],[0.4444444444444444,\"#bd3786\"],[0.5555555555555556,\"#d8576b\"],[0.6666666666666666,\"#ed7953\"],[0.7777777777777778,\"#fb9f3a\"],[0.8888888888888888,\"#fdca26\"],[1.0,\"#f0f921\"]],\"type\":\"heatmap\"}],\"heatmapgl\":[{\"colorbar\":{\"outlinewidth\":0,\"ticks\":\"\"},\"colorscale\":[[0.0,\"#0d0887\"],[0.1111111111111111,\"#46039f\"],[0.2222222222222222,\"#7201a8\"],[0.3333333333333333,\"#9c179e\"],[0.4444444444444444,\"#bd3786\"],[0.5555555555555556,\"#d8576b\"],[0.6666666666666666,\"#ed7953\"],[0.7777777777777778,\"#fb9f3a\"],[0.8888888888888888,\"#fdca26\"],[1.0,\"#f0f921\"]],\"type\":\"heatmapgl\"}],\"histogram\":[{\"marker\":{\"pattern\":{\"fillmode\":\"overlay\",\"size\":10,\"solidity\":0.2}},\"type\":\"histogram\"}],\"histogram2d\":[{\"colorbar\":{\"outlinewidth\":0,\"ticks\":\"\"},\"colorscale\":[[0.0,\"#0d0887\"],[0.1111111111111111,\"#46039f\"],[0.2222222222222222,\"#7201a8\"],[0.3333333333333333,\"#9c179e\"],[0.4444444444444444,\"#bd3786\"],[0.5555555555555556,\"#d8576b\"],[0.6666666666666666,\"#ed7953\"],[0.7777777777777778,\"#fb9f3a\"],[0.8888888888888888,\"#fdca26\"],[1.0,\"#f0f921\"]],\"type\":\"histogram2d\"}],\"histogram2dcontour\":[{\"colorbar\":{\"outlinewidth\":0,\"ticks\":\"\"},\"colorscale\":[[0.0,\"#0d0887\"],[0.1111111111111111,\"#46039f\"],[0.2222222222222222,\"#7201a8\"],[0.3333333333333333,\"#9c179e\"],[0.4444444444444444,\"#bd3786\"],[0.5555555555555556,\"#d8576b\"],[0.6666666666666666,\"#ed7953\"],[0.7777777777777778,\"#fb9f3a\"],[0.8888888888888888,\"#fdca26\"],[1.0,\"#f0f921\"]],\"type\":\"histogram2dcontour\"}],\"mesh3d\":[{\"colorbar\":{\"outlinewidth\":0,\"ticks\":\"\"},\"type\":\"mesh3d\"}],\"parcoords\":[{\"line\":{\"colorbar\":{\"outlinewidth\":0,\"ticks\":\"\"}},\"type\":\"parcoords\"}],\"pie\":[{\"automargin\":true,\"type\":\"pie\"}],\"scatter\":[{\"marker\":{\"colorbar\":{\"outlinewidth\":0,\"ticks\":\"\"}},\"type\":\"scatter\"}],\"scatter3d\":[{\"line\":{\"colorbar\":{\"outlinewidth\":0,\"ticks\":\"\"}},\"marker\":{\"colorbar\":{\"outlinewidth\":0,\"ticks\":\"\"}},\"type\":\"scatter3d\"}],\"scattercarpet\":[{\"marker\":{\"colorbar\":{\"outlinewidth\":0,\"ticks\":\"\"}},\"type\":\"scattercarpet\"}],\"scattergeo\":[{\"marker\":{\"colorbar\":{\"outlinewidth\":0,\"ticks\":\"\"}},\"type\":\"scattergeo\"}],\"scattergl\":[{\"marker\":{\"colorbar\":{\"outlinewidth\":0,\"ticks\":\"\"}},\"type\":\"scattergl\"}],\"scattermapbox\":[{\"marker\":{\"colorbar\":{\"outlinewidth\":0,\"ticks\":\"\"}},\"type\":\"scattermapbox\"}],\"scatterpolar\":[{\"marker\":{\"colorbar\":{\"outlinewidth\":0,\"ticks\":\"\"}},\"type\":\"scatterpolar\"}],\"scatterpolargl\":[{\"marker\":{\"colorbar\":{\"outlinewidth\":0,\"ticks\":\"\"}},\"type\":\"scatterpolargl\"}],\"scatterternary\":[{\"marker\":{\"colorbar\":{\"outlinewidth\":0,\"ticks\":\"\"}},\"type\":\"scatterternary\"}],\"surface\":[{\"colorbar\":{\"outlinewidth\":0,\"ticks\":\"\"},\"colorscale\":[[0.0,\"#0d0887\"],[0.1111111111111111,\"#46039f\"],[0.2222222222222222,\"#7201a8\"],[0.3333333333333333,\"#9c179e\"],[0.4444444444444444,\"#bd3786\"],[0.5555555555555556,\"#d8576b\"],[0.6666666666666666,\"#ed7953\"],[0.7777777777777778,\"#fb9f3a\"],[0.8888888888888888,\"#fdca26\"],[1.0,\"#f0f921\"]],\"type\":\"surface\"}],\"table\":[{\"cells\":{\"fill\":{\"color\":\"#EBF0F8\"},\"line\":{\"color\":\"white\"}},\"header\":{\"fill\":{\"color\":\"#C8D4E3\"},\"line\":{\"color\":\"white\"}},\"type\":\"table\"}]},\"layout\":{\"annotationdefaults\":{\"arrowcolor\":\"#2a3f5f\",\"arrowhead\":0,\"arrowwidth\":1},\"autotypenumbers\":\"strict\",\"coloraxis\":{\"colorbar\":{\"outlinewidth\":0,\"ticks\":\"\"}},\"colorscale\":{\"diverging\":[[0,\"#8e0152\"],[0.1,\"#c51b7d\"],[0.2,\"#de77ae\"],[0.3,\"#f1b6da\"],[0.4,\"#fde0ef\"],[0.5,\"#f7f7f7\"],[0.6,\"#e6f5d0\"],[0.7,\"#b8e186\"],[0.8,\"#7fbc41\"],[0.9,\"#4d9221\"],[1,\"#276419\"]],\"sequential\":[[0.0,\"#0d0887\"],[0.1111111111111111,\"#46039f\"],[0.2222222222222222,\"#7201a8\"],[0.3333333333333333,\"#9c179e\"],[0.4444444444444444,\"#bd3786\"],[0.5555555555555556,\"#d8576b\"],[0.6666666666666666,\"#ed7953\"],[0.7777777777777778,\"#fb9f3a\"],[0.8888888888888888,\"#fdca26\"],[1.0,\"#f0f921\"]],\"sequentialminus\":[[0.0,\"#0d0887\"],[0.1111111111111111,\"#46039f\"],[0.2222222222222222,\"#7201a8\"],[0.3333333333333333,\"#9c179e\"],[0.4444444444444444,\"#bd3786\"],[0.5555555555555556,\"#d8576b\"],[0.6666666666666666,\"#ed7953\"],[0.7777777777777778,\"#fb9f3a\"],[0.8888888888888888,\"#fdca26\"],[1.0,\"#f0f921\"]]},\"colorway\":[\"#636efa\",\"#EF553B\",\"#00cc96\",\"#ab63fa\",\"#FFA15A\",\"#19d3f3\",\"#FF6692\",\"#B6E880\",\"#FF97FF\",\"#FECB52\"],\"font\":{\"color\":\"#2a3f5f\"},\"geo\":{\"bgcolor\":\"white\",\"lakecolor\":\"white\",\"landcolor\":\"#E5ECF6\",\"showlakes\":true,\"showland\":true,\"subunitcolor\":\"white\"},\"hoverlabel\":{\"align\":\"left\"},\"hovermode\":\"closest\",\"mapbox\":{\"style\":\"light\"},\"paper_bgcolor\":\"white\",\"plot_bgcolor\":\"#E5ECF6\",\"polar\":{\"angularaxis\":{\"gridcolor\":\"white\",\"linecolor\":\"white\",\"ticks\":\"\"},\"bgcolor\":\"#E5ECF6\",\"radialaxis\":{\"gridcolor\":\"white\",\"linecolor\":\"white\",\"ticks\":\"\"}},\"scene\":{\"xaxis\":{\"backgroundcolor\":\"#E5ECF6\",\"gridcolor\":\"white\",\"gridwidth\":2,\"linecolor\":\"white\",\"showbackground\":true,\"ticks\":\"\",\"zerolinecolor\":\"white\"},\"yaxis\":{\"backgroundcolor\":\"#E5ECF6\",\"gridcolor\":\"white\",\"gridwidth\":2,\"linecolor\":\"white\",\"showbackground\":true,\"ticks\":\"\",\"zerolinecolor\":\"white\"},\"zaxis\":{\"backgroundcolor\":\"#E5ECF6\",\"gridcolor\":\"white\",\"gridwidth\":2,\"linecolor\":\"white\",\"showbackground\":true,\"ticks\":\"\",\"zerolinecolor\":\"white\"}},\"shapedefaults\":{\"line\":{\"color\":\"#2a3f5f\"}},\"ternary\":{\"aaxis\":{\"gridcolor\":\"white\",\"linecolor\":\"white\",\"ticks\":\"\"},\"baxis\":{\"gridcolor\":\"white\",\"linecolor\":\"white\",\"ticks\":\"\"},\"bgcolor\":\"#E5ECF6\",\"caxis\":{\"gridcolor\":\"white\",\"linecolor\":\"white\",\"ticks\":\"\"}},\"title\":{\"x\":0.05},\"xaxis\":{\"automargin\":true,\"gridcolor\":\"white\",\"linecolor\":\"white\",\"ticks\":\"\",\"title\":{\"standoff\":15},\"zerolinecolor\":\"white\",\"zerolinewidth\":2},\"yaxis\":{\"automargin\":true,\"gridcolor\":\"white\",\"linecolor\":\"white\",\"ticks\":\"\",\"title\":{\"standoff\":15},\"zerolinecolor\":\"white\",\"zerolinewidth\":2}}},\"title\":{\"text\":\"Time series plot of Ethereum close Price\"},\"xaxis\":{\"rangeslider\":{\"visible\":true},\"rangeselector\":{\"buttons\":[{\"count\":1,\"label\":\"1d\",\"step\":\"day\",\"stepmode\":\"backward\"},{\"count\":1,\"label\":\"1m\",\"step\":\"month\",\"stepmode\":\"backward\"},{\"count\":1,\"label\":\"YTD\",\"step\":\"year\",\"stepmode\":\"todate\"},{\"count\":1,\"label\":\"1y\",\"step\":\"year\",\"stepmode\":\"backward\"},{\"step\":\"all\"}]},\"type\":\"date\"}},                        {\"responsive\": true}                    ).then(function(){\n",
              "                            \n",
              "var gd = document.getElementById('76165f55-a7dc-4863-8be3-0ddcb29b8716');\n",
              "var x = new MutationObserver(function (mutations, observer) {{\n",
              "        var display = window.getComputedStyle(gd).display;\n",
              "        if (!display || display === 'none') {{\n",
              "            console.log([gd, 'removed!']);\n",
              "            Plotly.purge(gd);\n",
              "            observer.disconnect();\n",
              "        }}\n",
              "}});\n",
              "\n",
              "// Listen for the removal of the full notebook cells\n",
              "var notebookContainer = gd.closest('#notebook-container');\n",
              "if (notebookContainer) {{\n",
              "    x.observe(notebookContainer, {childList: true});\n",
              "}}\n",
              "\n",
              "// Listen for the clearing of the current output cell\n",
              "var outputEl = gd.closest('.output');\n",
              "if (outputEl) {{\n",
              "    x.observe(outputEl, {childList: true});\n",
              "}}\n",
              "\n",
              "                        })                };                            </script>        </div>\n",
              "</body>\n",
              "</html>"
            ]
          },
          "metadata": {}
        }
      ]
    },
    {
      "cell_type": "markdown",
      "metadata": {
        "id": "x2rY2vbvaw0X"
      },
      "source": [
        "# Step 6: Train Test Split"
      ]
    },
    {
      "cell_type": "markdown",
      "metadata": {
        "id": "M6ncI-Sk4acU"
      },
      "source": [
        "In step 6, a training and a testing dataset are created. We cannot use random split for time series data because it causes data leakage from the future dates to the past dates. Usually, a cutoff date is selected. The data before the cutoff date is the training dataset, and the data after the cutoff date is used as the testing dataset.\n",
        "\n",
        "In this example, '2021-11-30' is used as the cutoff date. The first 23 months are used for model training, and the last month is used for testing."
      ]
    },
    {
      "cell_type": "code",
      "metadata": {
        "colab": {
          "base_uri": "https://localhost:8080/"
        },
        "id": "akYQHV7H86Os",
        "outputId": "737133ed-3645-4230-f6a7-636b8e941e99"
      },
      "source": [
        "# Train test split\n",
        "df_train = df[df['ds']<='2021-11-30']\n",
        "df_test = df[df['ds']>'2021-11-30']\n",
        "\n",
        "# Print the number of records and date range for training and testing dataset.\n",
        "print('The training dataset has', len(df_train), 'records, ranging from', df_train['ds'].min(), 'to', df_train['ds'].max())\n",
        "print('The testing dataset has', len(df_test), 'records, ranging from', df_test['ds'].min(), 'to', df_test['ds'].max())"
      ],
      "execution_count": null,
      "outputs": [
        {
          "output_type": "stream",
          "name": "stdout",
          "text": [
            "The training dataset has 700 records, ranging from 2020-01-01 00:00:00 to 2021-11-30 00:00:00\n",
            "The testing dataset has 31 records, ranging from 2021-12-01 00:00:00 to 2021-12-31 00:00:00\n"
          ]
        }
      ]
    },
    {
      "cell_type": "markdown",
      "metadata": {
        "id": "Y6_5H4swZZqS"
      },
      "source": [
        "# Step 7: Train Time Series Model Using Prophet"
      ]
    },
    {
      "cell_type": "markdown",
      "metadata": {
        "id": "yPtR8jRw_fNv"
      },
      "source": [
        "In step 7, we will train the time series model using the training dataset. \n",
        "\n",
        "`interval_width` specifies the prediction interval. We changed the default value of 80% to 95% prediction interval. It makes the upper bound and the lower bound of the prediction broader.\n",
        "\n",
        "`n_changepoints` is the number of change points in the time series trend. The default value is 25. Based on the shape of the Ethereum, it was set at 7."
      ]
    },
    {
      "cell_type": "code",
      "metadata": {
        "colab": {
          "base_uri": "https://localhost:8080/"
        },
        "id": "GX3aohjIfgvF",
        "outputId": "6ea51996-9149-4159-a781-fb6e2db86871"
      },
      "source": [
        "# Create the prophet model with confidence internal of 95%\n",
        "m = Prophet(interval_width=0.95, n_changepoints=7)\n",
        "\n",
        "# Fit the model using the training dataset\n",
        "m.fit(df_train)"
      ],
      "execution_count": null,
      "outputs": [
        {
          "output_type": "stream",
          "name": "stderr",
          "text": [
            "15:51:32 - cmdstanpy - INFO - Chain [1] start processing\n",
            "15:51:32 - cmdstanpy - INFO - Chain [1] done processing\n"
          ]
        },
        {
          "output_type": "execute_result",
          "data": {
            "text/plain": [
              "<prophet.forecaster.Prophet at 0x7f78a3bcf250>"
            ]
          },
          "metadata": {},
          "execution_count": 53
        }
      ]
    },
    {
      "cell_type": "markdown",
      "metadata": {
        "id": "Y0TKRsizEnbK"
      },
      "source": [
        "The yearly seasonality and daily seasonality are automatically disabled. This is because Prophet detects that the dataset we are using does not have full multiple years of data and does not have units smaller than a day."
      ]
    },
    {
      "cell_type": "markdown",
      "metadata": {
        "id": "5ryJZVFKccQD"
      },
      "source": [
        "# Step 8: Using Prophet Model To Make Prediction"
      ]
    },
    {
      "cell_type": "markdown",
      "metadata": {
        "id": "2MM9A3vMDpcv"
      },
      "source": [
        "Step 8 uses the trained Prophet model to make the prediction. We use the last 31 days to create the future dataframe. This is the same as using the testing dataset we created above.\n",
        "\n",
        "The prediction output contains lots of information. We kept the predicted value `yhat` and its prediction interval upper and lower bound value. "
      ]
    },
    {
      "cell_type": "code",
      "metadata": {
        "colab": {
          "base_uri": "https://localhost:8080/",
          "height": 206
        },
        "id": "tpNVHEl6f76I",
        "outputId": "b86befad-b1e7-4fb0-c9e5-fba036d693d7"
      },
      "source": [
        "# Create a future dataframe for prediction\n",
        "future = m.make_future_dataframe(periods=31)\n",
        "\n",
        "# Forecast the future dataframe values\n",
        "forecast = m.predict(future)\n",
        "\n",
        "# Check the forecasted values and upper/lower bound\n",
        "forecast[['ds', 'yhat', 'yhat_lower', 'yhat_upper']].tail()"
      ],
      "execution_count": null,
      "outputs": [
        {
          "output_type": "execute_result",
          "data": {
            "text/plain": [
              "            ds           yhat     yhat_lower     yhat_upper\n",
              "726 2021-12-27  367584.624816  330171.026343  411267.118893\n",
              "727 2021-12-28  368533.059769  328541.415027  408686.855478\n",
              "728 2021-12-29  370232.603335  327850.113917  410533.292391\n",
              "729 2021-12-30  370999.073186  332266.265478  409387.622307\n",
              "730 2021-12-31  371862.337636  328034.260913  409435.896543"
            ],
            "text/html": [
              "\n",
              "  <div id=\"df-cb2568b5-ee41-48f0-9cbf-9bd11c2a283d\">\n",
              "    <div class=\"colab-df-container\">\n",
              "      <div>\n",
              "<style scoped>\n",
              "    .dataframe tbody tr th:only-of-type {\n",
              "        vertical-align: middle;\n",
              "    }\n",
              "\n",
              "    .dataframe tbody tr th {\n",
              "        vertical-align: top;\n",
              "    }\n",
              "\n",
              "    .dataframe thead th {\n",
              "        text-align: right;\n",
              "    }\n",
              "</style>\n",
              "<table border=\"1\" class=\"dataframe\">\n",
              "  <thead>\n",
              "    <tr style=\"text-align: right;\">\n",
              "      <th></th>\n",
              "      <th>ds</th>\n",
              "      <th>yhat</th>\n",
              "      <th>yhat_lower</th>\n",
              "      <th>yhat_upper</th>\n",
              "    </tr>\n",
              "  </thead>\n",
              "  <tbody>\n",
              "    <tr>\n",
              "      <th>726</th>\n",
              "      <td>2021-12-27</td>\n",
              "      <td>367584.624816</td>\n",
              "      <td>330171.026343</td>\n",
              "      <td>411267.118893</td>\n",
              "    </tr>\n",
              "    <tr>\n",
              "      <th>727</th>\n",
              "      <td>2021-12-28</td>\n",
              "      <td>368533.059769</td>\n",
              "      <td>328541.415027</td>\n",
              "      <td>408686.855478</td>\n",
              "    </tr>\n",
              "    <tr>\n",
              "      <th>728</th>\n",
              "      <td>2021-12-29</td>\n",
              "      <td>370232.603335</td>\n",
              "      <td>327850.113917</td>\n",
              "      <td>410533.292391</td>\n",
              "    </tr>\n",
              "    <tr>\n",
              "      <th>729</th>\n",
              "      <td>2021-12-30</td>\n",
              "      <td>370999.073186</td>\n",
              "      <td>332266.265478</td>\n",
              "      <td>409387.622307</td>\n",
              "    </tr>\n",
              "    <tr>\n",
              "      <th>730</th>\n",
              "      <td>2021-12-31</td>\n",
              "      <td>371862.337636</td>\n",
              "      <td>328034.260913</td>\n",
              "      <td>409435.896543</td>\n",
              "    </tr>\n",
              "  </tbody>\n",
              "</table>\n",
              "</div>\n",
              "      <button class=\"colab-df-convert\" onclick=\"convertToInteractive('df-cb2568b5-ee41-48f0-9cbf-9bd11c2a283d')\"\n",
              "              title=\"Convert this dataframe to an interactive table.\"\n",
              "              style=\"display:none;\">\n",
              "        \n",
              "  <svg xmlns=\"http://www.w3.org/2000/svg\" height=\"24px\"viewBox=\"0 0 24 24\"\n",
              "       width=\"24px\">\n",
              "    <path d=\"M0 0h24v24H0V0z\" fill=\"none\"/>\n",
              "    <path d=\"M18.56 5.44l.94 2.06.94-2.06 2.06-.94-2.06-.94-.94-2.06-.94 2.06-2.06.94zm-11 1L8.5 8.5l.94-2.06 2.06-.94-2.06-.94L8.5 2.5l-.94 2.06-2.06.94zm10 10l.94 2.06.94-2.06 2.06-.94-2.06-.94-.94-2.06-.94 2.06-2.06.94z\"/><path d=\"M17.41 7.96l-1.37-1.37c-.4-.4-.92-.59-1.43-.59-.52 0-1.04.2-1.43.59L10.3 9.45l-7.72 7.72c-.78.78-.78 2.05 0 2.83L4 21.41c.39.39.9.59 1.41.59.51 0 1.02-.2 1.41-.59l7.78-7.78 2.81-2.81c.8-.78.8-2.07 0-2.86zM5.41 20L4 18.59l7.72-7.72 1.47 1.35L5.41 20z\"/>\n",
              "  </svg>\n",
              "      </button>\n",
              "      \n",
              "  <style>\n",
              "    .colab-df-container {\n",
              "      display:flex;\n",
              "      flex-wrap:wrap;\n",
              "      gap: 12px;\n",
              "    }\n",
              "\n",
              "    .colab-df-convert {\n",
              "      background-color: #E8F0FE;\n",
              "      border: none;\n",
              "      border-radius: 50%;\n",
              "      cursor: pointer;\n",
              "      display: none;\n",
              "      fill: #1967D2;\n",
              "      height: 32px;\n",
              "      padding: 0 0 0 0;\n",
              "      width: 32px;\n",
              "    }\n",
              "\n",
              "    .colab-df-convert:hover {\n",
              "      background-color: #E2EBFA;\n",
              "      box-shadow: 0px 1px 2px rgba(60, 64, 67, 0.3), 0px 1px 3px 1px rgba(60, 64, 67, 0.15);\n",
              "      fill: #174EA6;\n",
              "    }\n",
              "\n",
              "    [theme=dark] .colab-df-convert {\n",
              "      background-color: #3B4455;\n",
              "      fill: #D2E3FC;\n",
              "    }\n",
              "\n",
              "    [theme=dark] .colab-df-convert:hover {\n",
              "      background-color: #434B5C;\n",
              "      box-shadow: 0px 1px 3px 1px rgba(0, 0, 0, 0.15);\n",
              "      filter: drop-shadow(0px 1px 2px rgba(0, 0, 0, 0.3));\n",
              "      fill: #FFFFFF;\n",
              "    }\n",
              "  </style>\n",
              "\n",
              "      <script>\n",
              "        const buttonEl =\n",
              "          document.querySelector('#df-cb2568b5-ee41-48f0-9cbf-9bd11c2a283d button.colab-df-convert');\n",
              "        buttonEl.style.display =\n",
              "          google.colab.kernel.accessAllowed ? 'block' : 'none';\n",
              "\n",
              "        async function convertToInteractive(key) {\n",
              "          const element = document.querySelector('#df-cb2568b5-ee41-48f0-9cbf-9bd11c2a283d');\n",
              "          const dataTable =\n",
              "            await google.colab.kernel.invokeFunction('convertToInteractive',\n",
              "                                                     [key], {});\n",
              "          if (!dataTable) return;\n",
              "\n",
              "          const docLinkHtml = 'Like what you see? Visit the ' +\n",
              "            '<a target=\"_blank\" href=https://colab.research.google.com/notebooks/data_table.ipynb>data table notebook</a>'\n",
              "            + ' to learn more about interactive tables.';\n",
              "          element.innerHTML = '';\n",
              "          dataTable['output_type'] = 'display_data';\n",
              "          await google.colab.output.renderOutput(dataTable, element);\n",
              "          const docLink = document.createElement('div');\n",
              "          docLink.innerHTML = docLinkHtml;\n",
              "          element.appendChild(docLink);\n",
              "        }\n",
              "      </script>\n",
              "    </div>\n",
              "  </div>\n",
              "  "
            ]
          },
          "metadata": {},
          "execution_count": 65
        }
      ]
    },
    {
      "cell_type": "code",
      "source": [
        "forecast.tail()"
      ],
      "metadata": {
        "colab": {
          "base_uri": "https://localhost:8080/",
          "height": 357
        },
        "id": "ectNwynYJzsf",
        "outputId": "e77666ad-b43b-4b92-b89a-f6a61e592fbb"
      },
      "execution_count": null,
      "outputs": [
        {
          "output_type": "execute_result",
          "data": {
            "text/plain": [
              "            ds          trend     yhat_lower     yhat_upper    trend_lower  \\\n",
              "726 2021-12-27  367579.151498  330171.026343  411267.118893  356589.002396   \n",
              "727 2021-12-28  368699.965304  328541.415027  408686.855478  356960.539514   \n",
              "728 2021-12-29  369820.779111  327850.113917  410533.292391  357332.076631   \n",
              "729 2021-12-30  370941.592918  332266.265478  409387.622307  357703.613749   \n",
              "730 2021-12-31  372062.406725  328034.260913  409435.896543  357949.955534   \n",
              "\n",
              "       trend_upper  additive_terms  additive_terms_lower  \\\n",
              "726  377471.666802        5.473318              5.473318   \n",
              "727  379200.309435     -166.905536           -166.905536   \n",
              "728  380925.956962      411.824223            411.824223   \n",
              "729  382513.162838       57.480268             57.480268   \n",
              "730  384212.436210     -200.069089           -200.069089   \n",
              "\n",
              "     additive_terms_upper      weekly  weekly_lower  weekly_upper  \\\n",
              "726              5.473318    5.473318      5.473318      5.473318   \n",
              "727           -166.905536 -166.905536   -166.905536   -166.905536   \n",
              "728            411.824223  411.824223    411.824223    411.824223   \n",
              "729             57.480268   57.480268     57.480268     57.480268   \n",
              "730           -200.069089 -200.069089   -200.069089   -200.069089   \n",
              "\n",
              "     multiplicative_terms  multiplicative_terms_lower  \\\n",
              "726                   0.0                         0.0   \n",
              "727                   0.0                         0.0   \n",
              "728                   0.0                         0.0   \n",
              "729                   0.0                         0.0   \n",
              "730                   0.0                         0.0   \n",
              "\n",
              "     multiplicative_terms_upper           yhat  \n",
              "726                         0.0  367584.624816  \n",
              "727                         0.0  368533.059769  \n",
              "728                         0.0  370232.603335  \n",
              "729                         0.0  370999.073186  \n",
              "730                         0.0  371862.337636  "
            ],
            "text/html": [
              "\n",
              "  <div id=\"df-55b51aac-9e7f-4ffa-9d19-3f0d18fbec09\">\n",
              "    <div class=\"colab-df-container\">\n",
              "      <div>\n",
              "<style scoped>\n",
              "    .dataframe tbody tr th:only-of-type {\n",
              "        vertical-align: middle;\n",
              "    }\n",
              "\n",
              "    .dataframe tbody tr th {\n",
              "        vertical-align: top;\n",
              "    }\n",
              "\n",
              "    .dataframe thead th {\n",
              "        text-align: right;\n",
              "    }\n",
              "</style>\n",
              "<table border=\"1\" class=\"dataframe\">\n",
              "  <thead>\n",
              "    <tr style=\"text-align: right;\">\n",
              "      <th></th>\n",
              "      <th>ds</th>\n",
              "      <th>trend</th>\n",
              "      <th>yhat_lower</th>\n",
              "      <th>yhat_upper</th>\n",
              "      <th>trend_lower</th>\n",
              "      <th>trend_upper</th>\n",
              "      <th>additive_terms</th>\n",
              "      <th>additive_terms_lower</th>\n",
              "      <th>additive_terms_upper</th>\n",
              "      <th>weekly</th>\n",
              "      <th>weekly_lower</th>\n",
              "      <th>weekly_upper</th>\n",
              "      <th>multiplicative_terms</th>\n",
              "      <th>multiplicative_terms_lower</th>\n",
              "      <th>multiplicative_terms_upper</th>\n",
              "      <th>yhat</th>\n",
              "    </tr>\n",
              "  </thead>\n",
              "  <tbody>\n",
              "    <tr>\n",
              "      <th>726</th>\n",
              "      <td>2021-12-27</td>\n",
              "      <td>367579.151498</td>\n",
              "      <td>330171.026343</td>\n",
              "      <td>411267.118893</td>\n",
              "      <td>356589.002396</td>\n",
              "      <td>377471.666802</td>\n",
              "      <td>5.473318</td>\n",
              "      <td>5.473318</td>\n",
              "      <td>5.473318</td>\n",
              "      <td>5.473318</td>\n",
              "      <td>5.473318</td>\n",
              "      <td>5.473318</td>\n",
              "      <td>0.0</td>\n",
              "      <td>0.0</td>\n",
              "      <td>0.0</td>\n",
              "      <td>367584.624816</td>\n",
              "    </tr>\n",
              "    <tr>\n",
              "      <th>727</th>\n",
              "      <td>2021-12-28</td>\n",
              "      <td>368699.965304</td>\n",
              "      <td>328541.415027</td>\n",
              "      <td>408686.855478</td>\n",
              "      <td>356960.539514</td>\n",
              "      <td>379200.309435</td>\n",
              "      <td>-166.905536</td>\n",
              "      <td>-166.905536</td>\n",
              "      <td>-166.905536</td>\n",
              "      <td>-166.905536</td>\n",
              "      <td>-166.905536</td>\n",
              "      <td>-166.905536</td>\n",
              "      <td>0.0</td>\n",
              "      <td>0.0</td>\n",
              "      <td>0.0</td>\n",
              "      <td>368533.059769</td>\n",
              "    </tr>\n",
              "    <tr>\n",
              "      <th>728</th>\n",
              "      <td>2021-12-29</td>\n",
              "      <td>369820.779111</td>\n",
              "      <td>327850.113917</td>\n",
              "      <td>410533.292391</td>\n",
              "      <td>357332.076631</td>\n",
              "      <td>380925.956962</td>\n",
              "      <td>411.824223</td>\n",
              "      <td>411.824223</td>\n",
              "      <td>411.824223</td>\n",
              "      <td>411.824223</td>\n",
              "      <td>411.824223</td>\n",
              "      <td>411.824223</td>\n",
              "      <td>0.0</td>\n",
              "      <td>0.0</td>\n",
              "      <td>0.0</td>\n",
              "      <td>370232.603335</td>\n",
              "    </tr>\n",
              "    <tr>\n",
              "      <th>729</th>\n",
              "      <td>2021-12-30</td>\n",
              "      <td>370941.592918</td>\n",
              "      <td>332266.265478</td>\n",
              "      <td>409387.622307</td>\n",
              "      <td>357703.613749</td>\n",
              "      <td>382513.162838</td>\n",
              "      <td>57.480268</td>\n",
              "      <td>57.480268</td>\n",
              "      <td>57.480268</td>\n",
              "      <td>57.480268</td>\n",
              "      <td>57.480268</td>\n",
              "      <td>57.480268</td>\n",
              "      <td>0.0</td>\n",
              "      <td>0.0</td>\n",
              "      <td>0.0</td>\n",
              "      <td>370999.073186</td>\n",
              "    </tr>\n",
              "    <tr>\n",
              "      <th>730</th>\n",
              "      <td>2021-12-31</td>\n",
              "      <td>372062.406725</td>\n",
              "      <td>328034.260913</td>\n",
              "      <td>409435.896543</td>\n",
              "      <td>357949.955534</td>\n",
              "      <td>384212.436210</td>\n",
              "      <td>-200.069089</td>\n",
              "      <td>-200.069089</td>\n",
              "      <td>-200.069089</td>\n",
              "      <td>-200.069089</td>\n",
              "      <td>-200.069089</td>\n",
              "      <td>-200.069089</td>\n",
              "      <td>0.0</td>\n",
              "      <td>0.0</td>\n",
              "      <td>0.0</td>\n",
              "      <td>371862.337636</td>\n",
              "    </tr>\n",
              "  </tbody>\n",
              "</table>\n",
              "</div>\n",
              "      <button class=\"colab-df-convert\" onclick=\"convertToInteractive('df-55b51aac-9e7f-4ffa-9d19-3f0d18fbec09')\"\n",
              "              title=\"Convert this dataframe to an interactive table.\"\n",
              "              style=\"display:none;\">\n",
              "        \n",
              "  <svg xmlns=\"http://www.w3.org/2000/svg\" height=\"24px\"viewBox=\"0 0 24 24\"\n",
              "       width=\"24px\">\n",
              "    <path d=\"M0 0h24v24H0V0z\" fill=\"none\"/>\n",
              "    <path d=\"M18.56 5.44l.94 2.06.94-2.06 2.06-.94-2.06-.94-.94-2.06-.94 2.06-2.06.94zm-11 1L8.5 8.5l.94-2.06 2.06-.94-2.06-.94L8.5 2.5l-.94 2.06-2.06.94zm10 10l.94 2.06.94-2.06 2.06-.94-2.06-.94-.94-2.06-.94 2.06-2.06.94z\"/><path d=\"M17.41 7.96l-1.37-1.37c-.4-.4-.92-.59-1.43-.59-.52 0-1.04.2-1.43.59L10.3 9.45l-7.72 7.72c-.78.78-.78 2.05 0 2.83L4 21.41c.39.39.9.59 1.41.59.51 0 1.02-.2 1.41-.59l7.78-7.78 2.81-2.81c.8-.78.8-2.07 0-2.86zM5.41 20L4 18.59l7.72-7.72 1.47 1.35L5.41 20z\"/>\n",
              "  </svg>\n",
              "      </button>\n",
              "      \n",
              "  <style>\n",
              "    .colab-df-container {\n",
              "      display:flex;\n",
              "      flex-wrap:wrap;\n",
              "      gap: 12px;\n",
              "    }\n",
              "\n",
              "    .colab-df-convert {\n",
              "      background-color: #E8F0FE;\n",
              "      border: none;\n",
              "      border-radius: 50%;\n",
              "      cursor: pointer;\n",
              "      display: none;\n",
              "      fill: #1967D2;\n",
              "      height: 32px;\n",
              "      padding: 0 0 0 0;\n",
              "      width: 32px;\n",
              "    }\n",
              "\n",
              "    .colab-df-convert:hover {\n",
              "      background-color: #E2EBFA;\n",
              "      box-shadow: 0px 1px 2px rgba(60, 64, 67, 0.3), 0px 1px 3px 1px rgba(60, 64, 67, 0.15);\n",
              "      fill: #174EA6;\n",
              "    }\n",
              "\n",
              "    [theme=dark] .colab-df-convert {\n",
              "      background-color: #3B4455;\n",
              "      fill: #D2E3FC;\n",
              "    }\n",
              "\n",
              "    [theme=dark] .colab-df-convert:hover {\n",
              "      background-color: #434B5C;\n",
              "      box-shadow: 0px 1px 3px 1px rgba(0, 0, 0, 0.15);\n",
              "      filter: drop-shadow(0px 1px 2px rgba(0, 0, 0, 0.3));\n",
              "      fill: #FFFFFF;\n",
              "    }\n",
              "  </style>\n",
              "\n",
              "      <script>\n",
              "        const buttonEl =\n",
              "          document.querySelector('#df-55b51aac-9e7f-4ffa-9d19-3f0d18fbec09 button.colab-df-convert');\n",
              "        buttonEl.style.display =\n",
              "          google.colab.kernel.accessAllowed ? 'block' : 'none';\n",
              "\n",
              "        async function convertToInteractive(key) {\n",
              "          const element = document.querySelector('#df-55b51aac-9e7f-4ffa-9d19-3f0d18fbec09');\n",
              "          const dataTable =\n",
              "            await google.colab.kernel.invokeFunction('convertToInteractive',\n",
              "                                                     [key], {});\n",
              "          if (!dataTable) return;\n",
              "\n",
              "          const docLinkHtml = 'Like what you see? Visit the ' +\n",
              "            '<a target=\"_blank\" href=https://colab.research.google.com/notebooks/data_table.ipynb>data table notebook</a>'\n",
              "            + ' to learn more about interactive tables.';\n",
              "          element.innerHTML = '';\n",
              "          dataTable['output_type'] = 'display_data';\n",
              "          await google.colab.output.renderOutput(dataTable, element);\n",
              "          const docLink = document.createElement('div');\n",
              "          docLink.innerHTML = docLinkHtml;\n",
              "          element.appendChild(docLink);\n",
              "        }\n",
              "      </script>\n",
              "    </div>\n",
              "  </div>\n",
              "  "
            ]
          },
          "metadata": {},
          "execution_count": 66
        }
      ]
    },
    {
      "cell_type": "markdown",
      "source": [
        "# Step 9: Visualizing the forecast"
      ],
      "metadata": {
        "id": "plAZPQ9kXXKW"
      }
    },
    {
      "cell_type": "markdown",
      "metadata": {
        "id": "m9dgolMcJzbp"
      },
      "source": [
        "The x-axis is the date in the forecast visualization, and the y axis is the Ethereum close price. The black dots are the actual prices in the training dataset, and the red dots are the actual forecast prices. The blue line is the time series model prediction. The shaded area is the 95% prediction interval."
      ]
    },
    {
      "cell_type": "code",
      "metadata": {
        "colab": {
          "base_uri": "https://localhost:8080/",
          "height": 458
        },
        "id": "ZjHE54okhAgV",
        "outputId": "d3cdbe5e-b8b8-4610-a17d-330d3ecfc010"
      },
      "source": [
        "# Visualize the forecast\n",
        "fig = m.plot(forecast)\n",
        "ax = fig.gca()\n",
        "ax.plot( df_test[\"ds\"], df_test[\"y\"], 'r.')"
      ],
      "execution_count": null,
      "outputs": [
        {
          "output_type": "execute_result",
          "data": {
            "text/plain": [
              "[<matplotlib.lines.Line2D at 0x7f78a0a0e490>]"
            ]
          },
          "metadata": {},
          "execution_count": 56
        },
        {
          "output_type": "display_data",
          "data": {
            "text/plain": [
              "<Figure size 720x432 with 1 Axes>"
            ],
            "image/png": "[encoded data removed]"
          },
          "metadata": {}
        }
      ]
    },
    {
      "cell_type": "markdown",
      "metadata": {
        "id": "D120GLITdbjn"
      },
      "source": [
        "# Step 10: Time Series Decomposition"
      ]
    },
    {
      "cell_type": "markdown",
      "metadata": {
        "id": "FVbJ5bmtLa6o"
      },
      "source": [
        "In step 10, we will decompose the time series forecast. \n",
        "\n",
        "From the trend chart, we can see an increasing trend from 2020 December to 2021 December.\n",
        "\n",
        "The weekly seasonality chart shows that the Ethereum prices decrease starting Monday and reach the lowest on Tuesday. Then the prices started to increase and get the highest on wednesday and reach the lowest on Friday."
      ]
    },
    {
      "cell_type": "code",
      "metadata": {
        "colab": {
          "base_uri": "https://localhost:8080/",
          "height": 417
        },
        "id": "4LVJYvyHhWA9",
        "outputId": "adf60e71-b4cd-4b6e-8508-7d0df50dff62"
      },
      "source": [
        "# # Visualize the components\n",
        "plot_components_plotly(m, forecast)"
      ],
      "execution_count": null,
      "outputs": [
        {
          "output_type": "display_data",
          "data": {
            "text/html": [
              "<html>\n",
              "<head><meta charset=\"utf-8\" /></head>\n",
              "<body>\n",
              "    <div>            <script src=\"https://cdnjs.cloudflare.com/ajax/libs/mathjax/2.7.5/MathJax.js?config=TeX-AMS-MML_SVG\"></script><script type=\"text/javascript\">if (window.MathJax) {MathJax.Hub.Config({SVG: {font: \"STIX-Web\"}});}</script>                <script type=\"text/javascript\">window.PlotlyConfig = {MathJaxConfig: 'local'};</script>\n",
              "        <script src=\"https://cdn.plot.ly/plotly-2.8.3.min.js\"></script>                <div id=\"b47442f6-ba51-4237-91b5-766904898ed6\" class=\"plotly-graph-div\" style=\"height:400px; width:900px;\"></div>            <script type=\"text/javascript\">                                    window.PLOTLYENV=window.PLOTLYENV || {};                                    if (document.getElementById(\"b47442f6-ba51-4237-91b5-766904898ed6\")) {                    Plotly.newPlot(                        \"b47442f6-ba51-4237-91b5-766904898ed6\",                        [{\"line\":{\"color\":\"#0072B2\",\"width\":2},\"mode\":\"lines\",\"name\":\"trend\",\"x\":[\"2020-01-01T00:00:00\",\"2020-01-02T00:00:00\",\"2020-01-03T00:00:00\",\"2020-01-04T00:00:00\",\"2020-01-05T00:00:00\",\"2020-01-06T00:00:00\",\"2020-01-07T00:00:00\",\"2020-01-08T00:00:00\",\"2020-01-09T00:00:00\",\"2020-01-10T00:00:00\",\"2020-01-11T00:00:00\",\"2020-01-12T00:00:00\",\"2020-01-13T00:00:00\",\"2020-01-14T00:00:00\",\"2020-01-15T00:00:00\",\"2020-01-16T00:00:00\",\"2020-01-17T00:00:00\",\"2020-01-18T00:00:00\",\"2020-01-19T00:00:00\",\"2020-01-20T00:00:00\",\"2020-01-21T00:00:00\",\"2020-01-22T00:00:00\",\"2020-01-23T00:00:00\",\"2020-01-24T00:00:00\",\"2020-01-25T00:00:00\",\"2020-01-26T00:00:00\",\"2020-01-27T00:00:00\",\"2020-01-28T00:00:00\",\"2020-01-29T00:00:00\",\"2020-01-30T00:00:00\",\"2020-01-31T00:00:00\",\"2020-02-01T00:00:00\",\"2020-02-02T00:00:00\",\"2020-02-03T00:00:00\",\"2020-02-04T00:00:00\",\"2020-02-05T00:00:00\",\"2020-02-06T00:00:00\",\"2020-02-07T00:00:00\",\"2020-02-08T00:00:00\",\"2020-02-09T00:00:00\",\"2020-02-10T00:00:00\",\"2020-02-11T00:00:00\",\"2020-02-12T00:00:00\",\"2020-02-13T00:00:00\",\"2020-02-14T00:00:00\",\"2020-02-15T00:00:00\",\"2020-02-16T00:00:00\",\"2020-02-17T00:00:00\",\"2020-02-18T00:00:00\",\"2020-02-19T00:00:00\",\"2020-02-20T00:00:00\",\"2020-02-21T00:00:00\",\"2020-02-22T00:00:00\",\"2020-02-23T00:00:00\",\"2020-02-24T00:00:00\",\"2020-02-25T00:00:00\",\"2020-02-26T00:00:00\",\"2020-02-27T00:00:00\",\"2020-02-28T00:00:00\",\"2020-02-29T00:00:00\",\"2020-03-01T00:00:00\",\"2020-03-02T00:00:00\",\"2020-03-03T00:00:00\",\"2020-03-04T00:00:00\",\"2020-03-05T00:00:00\",\"2020-03-06T00:00:00\",\"2020-03-07T00:00:00\",\"2020-03-08T00:00:00\",\"2020-03-09T00:00:00\",\"2020-03-10T00:00:00\",\"2020-03-11T00:00:00\",\"2020-03-12T00:00:00\",\"2020-03-13T00:00:00\",\"2020-03-14T00:00:00\",\"2020-03-15T00:00:00\",\"2020-03-16T00:00:00\",\"2020-03-17T00:00:00\",\"2020-03-18T00:00:00\",\"2020-03-19T00:00:00\",\"2020-03-20T00:00:00\",\"2020-03-21T00:00:00\",\"2020-03-22T00:00:00\",\"2020-03-23T00:00:00\",\"2020-03-24T00:00:00\",\"2020-03-25T00:00:00\",\"2020-03-26T00:00:00\",\"2020-03-27T00:00:00\",\"2020-03-28T00:00:00\",\"2020-03-29T00:00:00\",\"2020-03-30T00:00:00\",\"2020-03-31T00:00:00\",\"2020-04-01T00:00:00\",\"2020-04-02T00:00:00\",\"2020-04-03T00:00:00\",\"2020-04-04T00:00:00\",\"2020-04-05T00:00:00\",\"2020-04-06T00:00:00\",\"2020-04-07T00:00:00\",\"2020-04-08T00:00:00\",\"2020-04-09T00:00:00\",\"2020-04-10T00:00:00\",\"2020-04-11T00:00:00\",\"2020-04-12T00:00:00\",\"2020-04-13T00:00:00\",\"2020-04-14T00:00:00\",\"2020-04-15T00:00:00\",\"2020-04-16T00:00:00\",\"2020-04-17T00:00:00\",\"2020-04-18T00:00:00\",\"2020-04-19T00:00:00\",\"2020-04-20T00:00:00\",\"2020-04-21T00:00:00\",\"2020-04-22T00:00:00\",\"2020-04-23T00:00:00\",\"2020-04-24T00:00:00\",\"2020-04-25T00:00:00\",\"2020-04-26T00:00:00\",\"2020-04-27T00:00:00\",\"2020-04-28T00:00:00\",\"2020-04-29T00:00:00\",\"2020-04-30T00:00:00\",\"2020-05-01T00:00:00\",\"2020-05-02T00:00:00\",\"2020-05-03T00:00:00\",\"2020-05-04T00:00:00\",\"2020-05-05T00:00:00\",\"2020-05-06T00:00:00\",\"2020-05-07T00:00:00\",\"2020-05-08T00:00:00\",\"2020-05-09T00:00:00\",\"2020-05-10T00:00:00\",\"2020-05-11T00:00:00\",\"2020-05-12T00:00:00\",\"2020-05-13T00:00:00\",\"2020-05-14T00:00:00\",\"2020-05-15T00:00:00\",\"2020-05-16T00:00:00\",\"2020-05-17T00:00:00\",\"2020-05-18T00:00:00\",\"2020-05-19T00:00:00\",\"2020-05-20T00:00:00\",\"2020-05-21T00:00:00\",\"2020-05-22T00:00:00\",\"2020-05-23T00:00:00\",\"2020-05-24T00:00:00\",\"2020-05-25T00:00:00\",\"2020-05-26T00:00:00\",\"2020-05-27T00:00:00\",\"2020-05-28T00:00:00\",\"2020-05-29T00:00:00\",\"2020-05-30T00:00:00\",\"2020-05-31T00:00:00\",\"2020-06-01T00:00:00\",\"2020-06-02T00:00:00\",\"2020-06-03T00:00:00\",\"2020-06-04T00:00:00\",\"2020-06-05T00:00:00\",\"2020-06-06T00:00:00\",\"2020-06-07T00:00:00\",\"2020-06-08T00:00:00\",\"2020-06-09T00:00:00\",\"2020-06-10T00:00:00\",\"2020-06-11T00:00:00\",\"2020-06-12T00:00:00\",\"2020-06-13T00:00:00\",\"2020-06-14T00:00:00\",\"2020-06-15T00:00:00\",\"2020-06-16T00:00:00\",\"2020-06-17T00:00:00\",\"2020-06-18T00:00:00\",\"2020-06-19T00:00:00\",\"2020-06-20T00:00:00\",\"2020-06-21T00:00:00\",\"2020-06-22T00:00:00\",\"2020-06-23T00:00:00\",\"2020-06-24T00:00:00\",\"2020-06-25T00:00:00\",\"2020-06-26T00:00:00\",\"2020-06-27T00:00:00\",\"2020-06-28T00:00:00\",\"2020-06-29T00:00:00\",\"2020-06-30T00:00:00\",\"2020-07-01T00:00:00\",\"2020-07-02T00:00:00\",\"2020-07-03T00:00:00\",\"2020-07-04T00:00:00\",\"2020-07-05T00:00:00\",\"2020-07-06T00:00:00\",\"2020-07-07T00:00:00\",\"2020-07-08T00:00:00\",\"2020-07-09T00:00:00\",\"2020-07-10T00:00:00\",\"2020-07-11T00:00:00\",\"2020-07-12T00:00:00\",\"2020-07-13T00:00:00\",\"2020-07-14T00:00:00\",\"2020-07-15T00:00:00\",\"2020-07-16T00:00:00\",\"2020-07-17T00:00:00\",\"2020-07-18T00:00:00\",\"2020-07-19T00:00:00\",\"2020-07-20T00:00:00\",\"2020-07-21T00:00:00\",\"2020-07-22T00:00:00\",\"2020-07-23T00:00:00\",\"2020-07-24T00:00:00\",\"2020-07-25T00:00:00\",\"2020-07-26T00:00:00\",\"2020-07-27T00:00:00\",\"2020-07-28T00:00:00\",\"2020-07-29T00:00:00\",\"2020-07-30T00:00:00\",\"2020-07-31T00:00:00\",\"2020-08-01T00:00:00\",\"2020-08-02T00:00:00\",\"2020-08-03T00:00:00\",\"2020-08-04T00:00:00\",\"2020-08-05T00:00:00\",\"2020-08-06T00:00:00\",\"2020-08-07T00:00:00\",\"2020-08-08T00:00:00\",\"2020-08-09T00:00:00\",\"2020-08-10T00:00:00\",\"2020-08-11T00:00:00\",\"2020-08-12T00:00:00\",\"2020-08-13T00:00:00\",\"2020-08-14T00:00:00\",\"2020-08-15T00:00:00\",\"2020-08-16T00:00:00\",\"2020-08-17T00:00:00\",\"2020-08-18T00:00:00\",\"2020-08-19T00:00:00\",\"2020-08-20T00:00:00\",\"2020-08-21T00:00:00\",\"2020-08-22T00:00:00\",\"2020-08-23T00:00:00\",\"2020-08-24T00:00:00\",\"2020-08-25T00:00:00\",\"2020-08-26T00:00:00\",\"2020-08-27T00:00:00\",\"2020-08-28T00:00:00\",\"2020-08-29T00:00:00\",\"2020-08-30T00:00:00\",\"2020-08-31T00:00:00\",\"2020-09-01T00:00:00\",\"2020-09-02T00:00:00\",\"2020-09-03T00:00:00\",\"2020-09-04T00:00:00\",\"2020-09-05T00:00:00\",\"2020-09-06T00:00:00\",\"2020-09-07T00:00:00\",\"2020-09-08T00:00:00\",\"2020-09-09T00:00:00\",\"2020-09-10T00:00:00\",\"2020-09-11T00:00:00\",\"2020-09-12T00:00:00\",\"2020-09-13T00:00:00\",\"2020-09-14T00:00:00\",\"2020-09-15T00:00:00\",\"2020-09-16T00:00:00\",\"2020-09-17T00:00:00\",\"2020-09-18T00:00:00\",\"2020-09-19T00:00:00\",\"2020-09-20T00:00:00\",\"2020-09-21T00:00:00\",\"2020-09-22T00:00:00\",\"2020-09-23T00:00:00\",\"2020-09-24T00:00:00\",\"2020-09-25T00:00:00\",\"2020-09-26T00:00:00\",\"2020-09-27T00:00:00\",\"2020-09-28T00:00:00\",\"2020-09-29T00:00:00\",\"2020-09-30T00:00:00\",\"2020-10-01T00:00:00\",\"2020-10-02T00:00:00\",\"2020-10-03T00:00:00\",\"2020-10-04T00:00:00\",\"2020-10-05T00:00:00\",\"2020-10-06T00:00:00\",\"2020-10-07T00:00:00\",\"2020-10-08T00:00:00\",\"2020-10-09T00:00:00\",\"2020-10-10T00:00:00\",\"2020-10-11T00:00:00\",\"2020-10-12T00:00:00\",\"2020-10-13T00:00:00\",\"2020-10-14T00:00:00\",\"2020-10-15T00:00:00\",\"2020-10-16T00:00:00\",\"2020-10-17T00:00:00\",\"2020-10-18T00:00:00\",\"2020-10-19T00:00:00\",\"2020-10-20T00:00:00\",\"2020-10-21T00:00:00\",\"2020-10-22T00:00:00\",\"2020-10-23T00:00:00\",\"2020-10-24T00:00:00\",\"2020-10-25T00:00:00\",\"2020-10-26T00:00:00\",\"2020-10-27T00:00:00\",\"2020-10-28T00:00:00\",\"2020-10-29T00:00:00\",\"2020-10-30T00:00:00\",\"2020-10-31T00:00:00\",\"2020-11-01T00:00:00\",\"2020-11-02T00:00:00\",\"2020-11-03T00:00:00\",\"2020-11-04T00:00:00\",\"2020-11-05T00:00:00\",\"2020-11-06T00:00:00\",\"2020-11-07T00:00:00\",\"2020-11-08T00:00:00\",\"2020-11-09T00:00:00\",\"2020-11-10T00:00:00\",\"2020-11-11T00:00:00\",\"2020-11-12T00:00:00\",\"2020-11-13T00:00:00\",\"2020-11-14T00:00:00\",\"2020-11-15T00:00:00\",\"2020-11-16T00:00:00\",\"2020-11-17T00:00:00\",\"2020-11-18T00:00:00\",\"2020-11-19T00:00:00\",\"2020-11-20T00:00:00\",\"2020-11-21T00:00:00\",\"2020-11-22T00:00:00\",\"2020-11-23T00:00:00\",\"2020-11-24T00:00:00\",\"2020-11-25T00:00:00\",\"2020-11-26T00:00:00\",\"2020-11-27T00:00:00\",\"2020-11-28T00:00:00\",\"2020-11-29T00:00:00\",\"2020-11-30T00:00:00\",\"2020-12-01T00:00:00\",\"2020-12-02T00:00:00\",\"2020-12-03T00:00:00\",\"2020-12-04T00:00:00\",\"2020-12-05T00:00:00\",\"2020-12-06T00:00:00\",\"2020-12-07T00:00:00\",\"2020-12-08T00:00:00\",\"2020-12-09T00:00:00\",\"2020-12-10T00:00:00\",\"2020-12-11T00:00:00\",\"2020-12-12T00:00:00\",\"2020-12-13T00:00:00\",\"2020-12-14T00:00:00\",\"2020-12-15T00:00:00\",\"2020-12-16T00:00:00\",\"2020-12-17T00:00:00\",\"2020-12-18T00:00:00\",\"2020-12-19T00:00:00\",\"2020-12-20T00:00:00\",\"2020-12-21T00:00:00\",\"2020-12-22T00:00:00\",\"2020-12-23T00:00:00\",\"2020-12-24T00:00:00\",\"2020-12-25T00:00:00\",\"2020-12-26T00:00:00\",\"2020-12-27T00:00:00\",\"2020-12-28T00:00:00\",\"2020-12-29T00:00:00\",\"2020-12-30T00:00:00\",\"2020-12-31T00:00:00\",\"2021-01-01T00:00:00\",\"2021-01-02T00:00:00\",\"2021-01-03T00:00:00\",\"2021-01-04T00:00:00\",\"2021-01-05T00:00:00\",\"2021-01-06T00:00:00\",\"2021-01-07T00:00:00\",\"2021-01-08T00:00:00\",\"2021-01-09T00:00:00\",\"2021-01-10T00:00:00\",\"2021-01-11T00:00:00\",\"2021-01-12T00:00:00\",\"2021-01-13T00:00:00\",\"2021-01-14T00:00:00\",\"2021-01-15T00:00:00\",\"2021-01-16T00:00:00\",\"2021-01-17T00:00:00\",\"2021-01-18T00:00:00\",\"2021-01-19T00:00:00\",\"2021-01-20T00:00:00\",\"2021-01-21T00:00:00\",\"2021-01-22T00:00:00\",\"2021-01-23T00:00:00\",\"2021-01-24T00:00:00\",\"2021-01-25T00:00:00\",\"2021-01-26T00:00:00\",\"2021-01-27T00:00:00\",\"2021-01-28T00:00:00\",\"2021-01-29T00:00:00\",\"2021-01-30T00:00:00\",\"2021-01-31T00:00:00\",\"2021-02-01T00:00:00\",\"2021-02-02T00:00:00\",\"2021-02-03T00:00:00\",\"2021-02-04T00:00:00\",\"2021-02-05T00:00:00\",\"2021-02-06T00:00:00\",\"2021-02-07T00:00:00\",\"2021-02-08T00:00:00\",\"2021-02-09T00:00:00\",\"2021-02-10T00:00:00\",\"2021-02-11T00:00:00\",\"2021-02-12T00:00:00\",\"2021-02-13T00:00:00\",\"2021-02-14T00:00:00\",\"2021-02-15T00:00:00\",\"2021-02-16T00:00:00\",\"2021-02-17T00:00:00\",\"2021-02-18T00:00:00\",\"2021-02-19T00:00:00\",\"2021-02-20T00:00:00\",\"2021-02-21T00:00:00\",\"2021-02-22T00:00:00\",\"2021-02-23T00:00:00\",\"2021-02-24T00:00:00\",\"2021-02-25T00:00:00\",\"2021-02-26T00:00:00\",\"2021-02-27T00:00:00\",\"2021-02-28T00:00:00\",\"2021-03-01T00:00:00\",\"2021-03-02T00:00:00\",\"2021-03-03T00:00:00\",\"2021-03-04T00:00:00\",\"2021-03-05T00:00:00\",\"2021-03-06T00:00:00\",\"2021-03-07T00:00:00\",\"2021-03-08T00:00:00\",\"2021-03-09T00:00:00\",\"2021-03-10T00:00:00\",\"2021-03-11T00:00:00\",\"2021-03-12T00:00:00\",\"2021-03-13T00:00:00\",\"2021-03-14T00:00:00\",\"2021-03-15T00:00:00\",\"2021-03-16T00:00:00\",\"2021-03-17T00:00:00\",\"2021-03-18T00:00:00\",\"2021-03-19T00:00:00\",\"2021-03-20T00:00:00\",\"2021-03-21T00:00:00\",\"2021-03-22T00:00:00\",\"2021-03-23T00:00:00\",\"2021-03-24T00:00:00\",\"2021-03-25T00:00:00\",\"2021-03-26T00:00:00\",\"2021-03-27T00:00:00\",\"2021-03-28T00:00:00\",\"2021-03-29T00:00:00\",\"2021-03-30T00:00:00\",\"2021-03-31T00:00:00\",\"2021-04-01T00:00:00\",\"2021-04-02T00:00:00\",\"2021-04-03T00:00:00\",\"2021-04-04T00:00:00\",\"2021-04-05T00:00:00\",\"2021-04-06T00:00:00\",\"2021-04-07T00:00:00\",\"2021-04-08T00:00:00\",\"2021-04-09T00:00:00\",\"2021-04-10T00:00:00\",\"2021-04-11T00:00:00\",\"2021-04-12T00:00:00\",\"2021-04-13T00:00:00\",\"2021-04-14T00:00:00\",\"2021-04-15T00:00:00\",\"2021-04-16T00:00:00\",\"2021-04-17T00:00:00\",\"2021-04-18T00:00:00\",\"2021-04-19T00:00:00\",\"2021-04-20T00:00:00\",\"2021-04-21T00:00:00\",\"2021-04-22T00:00:00\",\"2021-04-23T00:00:00\",\"2021-04-24T00:00:00\",\"2021-04-25T00:00:00\",\"2021-04-26T00:00:00\",\"2021-04-27T00:00:00\",\"2021-04-28T00:00:00\",\"2021-04-29T00:00:00\",\"2021-04-30T00:00:00\",\"2021-05-01T00:00:00\",\"2021-05-02T00:00:00\",\"2021-05-03T00:00:00\",\"2021-05-04T00:00:00\",\"2021-05-05T00:00:00\",\"2021-05-06T00:00:00\",\"2021-05-07T00:00:00\",\"2021-05-08T00:00:00\",\"2021-05-09T00:00:00\",\"2021-05-10T00:00:00\",\"2021-05-11T00:00:00\",\"2021-05-12T00:00:00\",\"2021-05-13T00:00:00\",\"2021-05-14T00:00:00\",\"2021-05-15T00:00:00\",\"2021-05-16T00:00:00\",\"2021-05-17T00:00:00\",\"2021-05-18T00:00:00\",\"2021-05-19T00:00:00\",\"2021-05-20T00:00:00\",\"2021-05-21T00:00:00\",\"2021-05-22T00:00:00\",\"2021-05-23T00:00:00\",\"2021-05-24T00:00:00\",\"2021-05-25T00:00:00\",\"2021-05-26T00:00:00\",\"2021-05-27T00:00:00\",\"2021-05-28T00:00:00\",\"2021-05-29T00:00:00\",\"2021-05-30T00:00:00\",\"2021-05-31T00:00:00\",\"2021-06-01T00:00:00\",\"2021-06-02T00:00:00\",\"2021-06-03T00:00:00\",\"2021-06-04T00:00:00\",\"2021-06-05T00:00:00\",\"2021-06-06T00:00:00\",\"2021-06-07T00:00:00\",\"2021-06-08T00:00:00\",\"2021-06-09T00:00:00\",\"2021-06-10T00:00:00\",\"2021-06-11T00:00:00\",\"2021-06-12T00:00:00\",\"2021-06-13T00:00:00\",\"2021-06-14T00:00:00\",\"2021-06-15T00:00:00\",\"2021-06-16T00:00:00\",\"2021-06-17T00:00:00\",\"2021-06-18T00:00:00\",\"2021-06-19T00:00:00\",\"2021-06-20T00:00:00\",\"2021-06-21T00:00:00\",\"2021-06-22T00:00:00\",\"2021-06-23T00:00:00\",\"2021-06-24T00:00:00\",\"2021-06-25T00:00:00\",\"2021-06-26T00:00:00\",\"2021-06-27T00:00:00\",\"2021-06-28T00:00:00\",\"2021-06-29T00:00:00\",\"2021-06-30T00:00:00\",\"2021-07-01T00:00:00\",\"2021-07-02T00:00:00\",\"2021-07-03T00:00:00\",\"2021-07-04T00:00:00\",\"2021-07-05T00:00:00\",\"2021-07-06T00:00:00\",\"2021-07-07T00:00:00\",\"2021-07-08T00:00:00\",\"2021-07-09T00:00:00\",\"2021-07-10T00:00:00\",\"2021-07-11T00:00:00\",\"2021-07-12T00:00:00\",\"2021-07-13T00:00:00\",\"2021-07-14T00:00:00\",\"2021-07-15T00:00:00\",\"2021-07-16T00:00:00\",\"2021-07-17T00:00:00\",\"2021-07-18T00:00:00\",\"2021-07-19T00:00:00\",\"2021-07-20T00:00:00\",\"2021-07-21T00:00:00\",\"2021-07-22T00:00:00\",\"2021-07-23T00:00:00\",\"2021-07-24T00:00:00\",\"2021-07-25T00:00:00\",\"2021-07-26T00:00:00\",\"2021-07-27T00:00:00\",\"2021-07-28T00:00:00\",\"2021-07-29T00:00:00\",\"2021-07-30T00:00:00\",\"2021-07-31T00:00:00\",\"2021-08-01T00:00:00\",\"2021-08-02T00:00:00\",\"2021-08-03T00:00:00\",\"2021-08-04T00:00:00\",\"2021-08-05T00:00:00\",\"2021-08-06T00:00:00\",\"2021-08-07T00:00:00\",\"2021-08-08T00:00:00\",\"2021-08-09T00:00:00\",\"2021-08-10T00:00:00\",\"2021-08-11T00:00:00\",\"2021-08-12T00:00:00\",\"2021-08-13T00:00:00\",\"2021-08-14T00:00:00\",\"2021-08-15T00:00:00\",\"2021-08-16T00:00:00\",\"2021-08-17T00:00:00\",\"2021-08-18T00:00:00\",\"2021-08-19T00:00:00\",\"2021-08-20T00:00:00\",\"2021-08-21T00:00:00\",\"2021-08-22T00:00:00\",\"2021-08-23T00:00:00\",\"2021-08-24T00:00:00\",\"2021-08-25T00:00:00\",\"2021-08-26T00:00:00\",\"2021-08-27T00:00:00\",\"2021-08-28T00:00:00\",\"2021-08-29T00:00:00\",\"2021-08-30T00:00:00\",\"2021-08-31T00:00:00\",\"2021-09-01T00:00:00\",\"2021-09-02T00:00:00\",\"2021-09-03T00:00:00\",\"2021-09-04T00:00:00\",\"2021-09-05T00:00:00\",\"2021-09-06T00:00:00\",\"2021-09-07T00:00:00\",\"2021-09-08T00:00:00\",\"2021-09-09T00:00:00\",\"2021-09-10T00:00:00\",\"2021-09-11T00:00:00\",\"2021-09-12T00:00:00\",\"2021-09-13T00:00:00\",\"2021-09-14T00:00:00\",\"2021-09-15T00:00:00\",\"2021-09-16T00:00:00\",\"2021-09-17T00:00:00\",\"2021-09-18T00:00:00\",\"2021-09-19T00:00:00\",\"2021-09-20T00:00:00\",\"2021-09-21T00:00:00\",\"2021-09-22T00:00:00\",\"2021-09-23T00:00:00\",\"2021-09-24T00:00:00\",\"2021-09-25T00:00:00\",\"2021-09-26T00:00:00\",\"2021-09-27T00:00:00\",\"2021-09-28T00:00:00\",\"2021-09-29T00:00:00\",\"2021-09-30T00:00:00\",\"2021-10-01T00:00:00\",\"2021-10-02T00:00:00\",\"2021-10-03T00:00:00\",\"2021-10-04T00:00:00\",\"2021-10-05T00:00:00\",\"2021-10-06T00:00:00\",\"2021-10-07T00:00:00\",\"2021-10-08T00:00:00\",\"2021-10-09T00:00:00\",\"2021-10-10T00:00:00\",\"2021-10-11T00:00:00\",\"2021-10-12T00:00:00\",\"2021-10-13T00:00:00\",\"2021-10-14T00:00:00\",\"2021-10-15T00:00:00\",\"2021-10-16T00:00:00\",\"2021-10-17T00:00:00\",\"2021-10-18T00:00:00\",\"2021-10-19T00:00:00\",\"2021-10-20T00:00:00\",\"2021-10-21T00:00:00\",\"2021-10-22T00:00:00\",\"2021-10-23T00:00:00\",\"2021-10-24T00:00:00\",\"2021-10-25T00:00:00\",\"2021-10-26T00:00:00\",\"2021-10-27T00:00:00\",\"2021-10-28T00:00:00\",\"2021-10-29T00:00:00\",\"2021-10-30T00:00:00\",\"2021-10-31T00:00:00\",\"2021-11-01T00:00:00\",\"2021-11-02T00:00:00\",\"2021-11-03T00:00:00\",\"2021-11-04T00:00:00\",\"2021-11-05T00:00:00\",\"2021-11-06T00:00:00\",\"2021-11-07T00:00:00\",\"2021-11-08T00:00:00\",\"2021-11-09T00:00:00\",\"2021-11-10T00:00:00\",\"2021-11-11T00:00:00\",\"2021-11-12T00:00:00\",\"2021-11-13T00:00:00\",\"2021-11-14T00:00:00\",\"2021-11-15T00:00:00\",\"2021-11-16T00:00:00\",\"2021-11-17T00:00:00\",\"2021-11-18T00:00:00\",\"2021-11-19T00:00:00\",\"2021-11-20T00:00:00\",\"2021-11-21T00:00:00\",\"2021-11-22T00:00:00\",\"2021-11-23T00:00:00\",\"2021-11-24T00:00:00\",\"2021-11-25T00:00:00\",\"2021-11-26T00:00:00\",\"2021-11-27T00:00:00\",\"2021-11-28T00:00:00\",\"2021-11-29T00:00:00\",\"2021-11-30T00:00:00\",\"2021-12-01T00:00:00\",\"2021-12-02T00:00:00\",\"2021-12-03T00:00:00\",\"2021-12-04T00:00:00\",\"2021-12-05T00:00:00\",\"2021-12-06T00:00:00\",\"2021-12-07T00:00:00\",\"2021-12-08T00:00:00\",\"2021-12-09T00:00:00\",\"2021-12-10T00:00:00\",\"2021-12-11T00:00:00\",\"2021-12-12T00:00:00\",\"2021-12-13T00:00:00\",\"2021-12-14T00:00:00\",\"2021-12-15T00:00:00\",\"2021-12-16T00:00:00\",\"2021-12-17T00:00:00\",\"2021-12-18T00:00:00\",\"2021-12-19T00:00:00\",\"2021-12-20T00:00:00\",\"2021-12-21T00:00:00\",\"2021-12-22T00:00:00\",\"2021-12-23T00:00:00\",\"2021-12-24T00:00:00\",\"2021-12-25T00:00:00\",\"2021-12-26T00:00:00\",\"2021-12-27T00:00:00\",\"2021-12-28T00:00:00\",\"2021-12-29T00:00:00\",\"2021-12-30T00:00:00\",\"2021-12-31T00:00:00\"],\"y\":[8937.869340778125,9002.36210578027,9066.854870782417,9131.347635784563,9195.84040078671,9260.333165788856,9324.825930791001,9389.318695793147,9453.811460795292,9518.30422579744,9582.796990799585,9647.28975580173,9711.782520803876,9776.275285806021,9840.768050808168,9905.260815810314,9969.753580812461,10034.246345814607,10098.739110816752,10163.231875818898,10227.724640821043,10292.21740582319,10356.710170825336,10421.202935827481,10485.695700829627,10550.188465831774,10614.68123083392,10679.173995836065,10743.666760838212,10808.159525840358,10872.652290842503,10937.145055844649,11001.637820846794,11066.130585848941,11130.623350851087,11195.116115853232,11259.608880855378,11324.101645857523,11388.594410859672,11453.087175861818,11517.579940863963,11582.072705866109,11646.565470868254,11711.058235870401,11775.551000872547,11840.043765874692,11904.536530876838,11969.029295878983,12033.52206088113,12098.014825883276,12162.507590885421,12227.000355887567,12291.493120889712,12355.98588589186,12420.478650894005,12484.97141589615,12549.464180898296,12613.956945900441,12678.449710902589,12742.942475904734,12807.43524090688,12871.928005909025,12936.420770911174,13000.91353591332,13065.406300915465,13129.89906591761,13194.391830919758,13258.884595921903,13323.377360924049,13387.870125926194,13452.36289092834,13516.855655930487,13581.348420932633,13645.841185934778,13710.333950936923,13774.826715939069,13839.319480941216,13903.81224594336,13968.305010945507,14032.797775947653,14097.290540949798,14161.783307343514,14226.276073737228,14290.768840130944,14355.26160652466,14419.754372918374,14484.24713931209,14548.739905705803,14613.23267209952,14677.725438493233,14742.21820488695,14806.710971280665,14871.203737674383,14935.696504068095,15000.18927046181,15064.682036855525,15129.174803249241,15193.667569642956,15258.16033603667,15322.653102430388,15387.145868824102,15451.638635217818,15516.13140161153,15580.624168005246,15645.11693439896,15709.609700792678,15774.102467186392,15838.595233580107,15903.087999973823,15967.580766367535,16032.073532761253,16096.566299154965,16161.059065548683,16225.551831942397,16290.044598336111,16354.537364729827,16419.030131123545,16483.522897517258,16548.015663910974,16612.50843030469,16677.001196698402,16741.493963092118,16805.98672948583,16870.47949587955,16934.972262273266,16999.465028666982,17063.957795060694,17128.45056145441,17192.943327848123,17257.436094241843,17321.928860635555,17386.42162702927,17450.914393422987,17515.4071598167,17579.899926210415,17644.392692604128,17708.885458997847,17773.37822539156,17837.870991785276,17902.36375817899,17966.856524572708,18031.34929096642,18095.842057360136,18160.334823753852,18224.827590147568,18289.32035654128,18353.813122934996,18418.305889328713,18482.798655722425,18547.291422116145,18611.784188509857,18676.276954903573,18740.769721297285,18805.262487691005,18869.755254084717,18934.248020478433,18998.74078687215,19063.23355326586,19127.726319659578,19192.21908605329,19256.711852447006,19321.2084322879,19385.705012128798,19450.20159196969,19514.69817181059,19579.19475165148,19643.691331492377,19708.18791133327,19772.68449117417,19837.181071015064,19901.677650855956,19966.174230696855,20030.670810537747,20095.167390378643,20159.663970219535,20224.160550060435,20288.657129901327,20353.153709742222,20417.65028958312,20482.146869424014,20546.64344926491,20611.1400291058,20675.6366089467,20740.133188787593,20804.62976862849,20869.12634846938,20933.622928310277,20998.119508151176,21062.616087992068,21127.112667832964,21191.609247673856,21256.105827514755,21320.602407355647,21385.098987196543,21449.595567037442,21514.092146878334,21578.588726719227,21643.085306560122,21707.58188640102,21772.078466241914,21836.57504608281,21901.0716259237,21965.5682057646,22030.064785605493,22094.56136544639,22159.057945287284,22223.55452512818,22288.051104969076,22352.547684809968,22417.044264650864,22481.540844491756,22546.037424332655,22610.534004173547,22675.030584014443,22739.527163855342,22804.023743696234,22868.52032353713,22933.016903378022,22997.51348321892,23062.010063059814,23126.50664290071,23191.00322274161,23255.4998025825,23319.996382423393,23384.49296226429,23448.989542105188,23513.48612194608,23577.982701786976,23642.479281627868,23706.975861468767,23771.47244130966,23835.969021150555,23900.46560099145,23964.962180832343,24029.458760673242,24093.955340514134,24158.45192035503,24222.94850019593,24287.44508003682,24351.941659877713,24416.43823971861,24480.93484138123,24545.431443043846,24609.928044706467,24674.424646369087,24738.921248031707,24803.417849694324,24867.914451356944,24932.411053019565,24996.90765468219,25061.404256344802,25125.900858007422,25190.397459670046,25254.894061332667,25319.39066299528,25383.8872646579,25448.383866320524,25512.880467983145,25577.377069645765,25641.87367130838,25706.370272971002,25770.866874633623,25835.363476296243,25899.860077958863,25964.356679621484,26028.8532812841,26093.34988294672,26157.84648460934,26222.34308627196,26286.839687934582,26351.3362895972,26415.83289125982,26480.32949292244,26544.82609458506,26609.322696247677,26673.819297910297,26738.315899572917,26802.812501235538,26867.309102898154,26931.805704560775,26996.302306223395,27060.798907886016,27125.295509548632,27189.792111211253,27254.288712873873,27318.785314536497,27383.28191619911,27447.77851786173,27512.275119524355,27576.771721186975,27641.268322849595,27705.76492451221,27770.261526174832,27834.758127837453,27899.254729500073,27963.751331162694,28028.247932825314,28092.74453448793,28157.24113615055,28221.73773781317,28286.23433947579,28350.730941138412,28415.22754280103,28479.72414446365,28544.22074612627,28608.71734778889,28673.213949451507,28737.710551114127,28802.207152776748,28866.703754439368,28931.200356101985,28995.696957764605,29060.193559427225,29124.690161089846,29189.186762752463,29253.683364415083,29318.179966077703,29382.676567740324,29447.17316940294,29511.66977106554,30466.49383807151,31421.317905077485,32376.14197208346,33330.96603908939,34285.790106095366,35240.61417310134,36195.438240107316,37150.26230711329,38105.086374119266,39059.9104411252,40014.73450813117,40969.55857513715,41924.38264214312,42879.2067091491,43834.03077615503,44788.854843161,45743.67891016698,46698.50297717295,47653.32704417892,48608.15111118486,49562.975178190834,50517.79924519681,51472.623312202784,52427.44737920875,53382.27144621473,54337.095513220665,55291.91958022664,56246.74364723261,57201.56771423858,58156.39178124456,59111.21584825053,60066.03991525651,61020.86398226248,61975.688049268414,62930.51211627443,63885.336183280364,64840.160250286375,65794.98431729231,66749.80838429825,67704.63245130426,68659.4565183102,69614.28058531621,70569.10465232214,71523.92871932808,72478.7527863341,73433.57685334003,74388.40092034604,75343.22498735198,76298.04905435798,77252.87312136393,78207.69718836986,79162.52125537586,80117.3453223818,81072.16938938781,82026.99345639371,82981.81752339969,83936.64159040566,84891.46565741164,85846.28972441761,86801.11379142359,87755.93785842955,88710.76192543552,89665.5859924415,90620.41005944747,91575.23412645345,92530.05819345935,93484.8822604654,94439.7063274713,95394.53039447735,96349.35446148324,97304.17852848921,98259.00259549519,99213.82666250116,100168.65072950714,101123.47479651311,102078.29886351901,103033.12293052506,103987.94699753095,104942.77106453701,105897.5951315429,106859.60944774136,107821.62376393973,108783.6380801381,109745.65239633647,110707.66671253485,111669.68102873329,112631.69534493166,113593.70966113004,114555.72397732841,115517.73829352678,116479.75260972523,117441.7669259236,118403.78124212197,119365.79555832042,120327.80987451872,121289.82419071716,122251.83850691553,123213.8528231139,124175.86713931237,125137.88145551065,126099.8957717091,127061.91008790747,128023.92440410584,128985.9387203043,129947.95303650267,130909.96735270105,131871.98166889942,132833.99598509778,133796.01030129622,134758.0246174946,135720.03893369297,136682.05324989135,137644.0675660898,138606.08188228818,139568.09619848654,140530.110514685,141492.1248308833,142454.13914708173,143416.15346328012,144378.16777947848,145340.18209567692,146302.1964118753,147264.21072807367,148226.22504427205,149188.2393604704,150150.25367666886,151112.26799286724,152074.2823090656,153036.296625264,153998.31094146235,154960.3252576608,155922.33957385918,156884.35389005762,157846.36820625592,158808.38252245428,159770.39683865276,160732.4111548511,161694.42547104956,162656.43978724786,163618.45410344622,164580.4684196447,165542.48273584305,166504.4970520415,167466.51136823988,168428.52568443824,169390.54000063663,170352.55431683498,171314.56863303343,172276.58294923182,173238.59726543017,174200.61158162856,175162.62589782692,176124.64021402536,177086.65453022375,178048.6688464222,179010.6831626205,179972.69747881885,180934.71179501733,181896.72611121568,182858.7404274141,182828.04674400276,182797.35306059144,182766.65937718013,182735.9656937688,182705.27201035747,182674.57832694615,182643.88464353484,182613.19096012352,182582.49727671218,182551.80359330087,182521.10990988955,182490.41622647826,182459.7225430669,182429.0288596556,182398.3351762443,182367.64149283298,182336.94780942163,182306.25412601032,182275.560442599,182244.86675918766,182214.17307577634,182183.47939236503,182152.7857089537,182122.0920255424,182091.39834213105,182060.70465871974,182030.01097530843,181999.31729189708,181968.62360848577,181937.92992507445,181907.23624166317,181876.5425582518,181845.84887484048,181815.1551914292,181784.46150801788,181753.76782460653,181723.07414119522,181692.3804577839,181661.6867743726,181630.99309096124,181600.29940754993,181569.60572413862,181538.9120407273,181508.21835731596,181477.52467390464,181446.83099049333,181416.137307082,181385.44362367067,181354.74994025935,181324.05625684807,181293.36257343675,181262.66889002538,181231.9752066141,181201.28152320278,181170.58783979146,181139.89415638012,181109.2004729688,181078.5067895575,181047.81310614615,181017.11942273483,180986.42573932352,180955.7320559122,180925.03837250086,180894.34468908954,180863.65100567823,180832.9573222669,180802.26363885557,180771.56995544425,180740.87627203297,180710.18258862165,180679.48890521028,180648.795221799,180618.10153838768,180587.40785497637,180556.71417156502,180526.0204881537,180495.3268047424,180464.63312133108,180433.93943791973,180403.2457545084,181524.05956135326,182644.87336819808,183765.68717504287,184886.50098188783,186007.31478873265,187128.12859557752,188248.94240242234,189369.75620926713,190490.57001611203,191611.38382295682,192732.19762980178,193853.0114366466,194973.8252434914,196094.6390503363,197215.45285718108,198336.26666402598,199457.08047087077,200577.89427771565,201698.70808456055,202819.52189140534,203940.33569825024,205061.14950509503,206181.96331193985,207302.77711878472,208423.5909256296,209544.4047324745,210665.2185393193,211786.0323461641,212906.84615300898,214027.6599598538,215148.47376669868,216269.28757354355,217390.10138038846,218510.91518723324,219631.72899407806,220752.54280092294,221873.35660776775,222994.17041461263,224114.9842214575,225235.79802830232,226356.6118351472,227477.425641992,228598.2394488369,229719.0532556817,230839.8670625265,231960.68086937146,233081.49467621627,234202.30848306115,235323.12228990596,236443.93609675078,237564.74990359566,238685.56371044044,239806.3775172854,240927.19132413022,242048.00513097504,243168.81893781992,244289.63274466473,245410.4465515096,246531.2603583544,247652.0741651993,248772.88797204418,249893.701778889,251014.51558573387,252135.3293925787,253256.14319942356,254376.95700626835,255497.77081311325,256618.58461995813,257739.39842680295,258860.21223364782,259981.02604049264,261101.83984733743,262222.65365418233,263343.4674610272,264464.2812678721,265585.0950747168,266705.9088815616,267826.7226884066,268947.5364952514,270068.35030209634,271189.16410894116,272309.977915786,273430.79172263073,274551.60552947555,275672.41933632054,276793.23314316536,277914.0469500101,279034.8607568551,280155.6745636999,281276.4883705447,282397.3021773895,283518.1159842345,284638.9297910793,285759.74359792407,286880.55740476906,288001.3712116139,289122.18501845864,290242.99882530345,291363.81263214845,292484.62643899326,293605.440245838,294726.254052683,295847.06785952783,296967.8816663726,298088.6954732176,299209.5092800624,300330.3230869072,301451.136893752,302571.9507005968,303692.7645074418,304813.57831428654,305934.39212113153,307055.20592797635,308176.01973482117,309296.8335416659,310417.64734851074,311538.46115535573,312659.2749622005,313780.0887690453,314900.9025758903,316021.7163827351,317142.5301895799,318263.3439964247,319384.1578032695,320504.97161011444,321625.78541695926,322746.59922380425,323867.41303064907,324988.2268374938,326109.04064433865,327229.85445118346,328350.6682580284,329471.4820648732,330592.2958717182,331713.109678563,332833.9234854078,333954.7372922526,335075.5510990974,336196.36490594235,337317.17871278716,338437.992519632,339558.8063264768,340679.62013332173,341800.43394016655,342921.24774701137,344042.0615538562,345162.875360701,346283.6891675461,347404.5029743909,348525.3167812357,349646.1305880805,350766.9443949253,351887.75820177025,353008.57200861507,354129.3858154599,355250.1996223047,356371.0134291495,357491.82723599445,358612.64104283927,359733.4548496841,360854.2686565289,361975.08246337384,363095.89627021883,364216.7100770636,365337.5238839084,366458.3376907532,367579.15149759804,368699.965304443,369820.7791112878,370941.5929181326,372062.4067249774],\"type\":\"scatter\",\"xaxis\":\"x\",\"yaxis\":\"y\"},{\"line\":{\"color\":\"rgba(0, 114, 178, 0.2)\",\"width\":0},\"mode\":\"lines\",\"name\":\"trend_upper\",\"x\":[\"2020-01-01T00:00:00\",\"2020-01-02T00:00:00\",\"2020-01-03T00:00:00\",\"2020-01-04T00:00:00\",\"2020-01-05T00:00:00\",\"2020-01-06T00:00:00\",\"2020-01-07T00:00:00\",\"2020-01-08T00:00:00\",\"2020-01-09T00:00:00\",\"2020-01-10T00:00:00\",\"2020-01-11T00:00:00\",\"2020-01-12T00:00:00\",\"2020-01-13T00:00:00\",\"2020-01-14T00:00:00\",\"2020-01-15T00:00:00\",\"2020-01-16T00:00:00\",\"2020-01-17T00:00:00\",\"2020-01-18T00:00:00\",\"2020-01-19T00:00:00\",\"2020-01-20T00:00:00\",\"2020-01-21T00:00:00\",\"2020-01-22T00:00:00\",\"2020-01-23T00:00:00\",\"2020-01-24T00:00:00\",\"2020-01-25T00:00:00\",\"2020-01-26T00:00:00\",\"2020-01-27T00:00:00\",\"2020-01-28T00:00:00\",\"2020-01-29T00:00:00\",\"2020-01-30T00:00:00\",\"2020-01-31T00:00:00\",\"2020-02-01T00:00:00\",\"2020-02-02T00:00:00\",\"2020-02-03T00:00:00\",\"2020-02-04T00:00:00\",\"2020-02-05T00:00:00\",\"2020-02-06T00:00:00\",\"2020-02-07T00:00:00\",\"2020-02-08T00:00:00\",\"2020-02-09T00:00:00\",\"2020-02-10T00:00:00\",\"2020-02-11T00:00:00\",\"2020-02-12T00:00:00\",\"2020-02-13T00:00:00\",\"2020-02-14T00:00:00\",\"2020-02-15T00:00:00\",\"2020-02-16T00:00:00\",\"2020-02-17T00:00:00\",\"2020-02-18T00:00:00\",\"2020-02-19T00:00:00\",\"2020-02-20T00:00:00\",\"2020-02-21T00:00:00\",\"2020-02-22T00:00:00\",\"2020-02-23T00:00:00\",\"2020-02-24T00:00:00\",\"2020-02-25T00:00:00\",\"2020-02-26T00:00:00\",\"2020-02-27T00:00:00\",\"2020-02-28T00:00:00\",\"2020-02-29T00:00:00\",\"2020-03-01T00:00:00\",\"2020-03-02T00:00:00\",\"2020-03-03T00:00:00\",\"2020-03-04T00:00:00\",\"2020-03-05T00:00:00\",\"2020-03-06T00:00:00\",\"2020-03-07T00:00:00\",\"2020-03-08T00:00:00\",\"2020-03-09T00:00:00\",\"2020-03-10T00:00:00\",\"2020-03-11T00:00:00\",\"2020-03-12T00:00:00\",\"2020-03-13T00:00:00\",\"2020-03-14T00:00:00\",\"2020-03-15T00:00:00\",\"2020-03-16T00:00:00\",\"2020-03-17T00:00:00\",\"2020-03-18T00:00:00\",\"2020-03-19T00:00:00\",\"2020-03-20T00:00:00\",\"2020-03-21T00:00:00\",\"2020-03-22T00:00:00\",\"2020-03-23T00:00:00\",\"2020-03-24T00:00:00\",\"2020-03-25T00:00:00\",\"2020-03-26T00:00:00\",\"2020-03-27T00:00:00\",\"2020-03-28T00:00:00\",\"2020-03-29T00:00:00\",\"2020-03-30T00:00:00\",\"2020-03-31T00:00:00\",\"2020-04-01T00:00:00\",\"2020-04-02T00:00:00\",\"2020-04-03T00:00:00\",\"2020-04-04T00:00:00\",\"2020-04-05T00:00:00\",\"2020-04-06T00:00:00\",\"2020-04-07T00:00:00\",\"2020-04-08T00:00:00\",\"2020-04-09T00:00:00\",\"2020-04-10T00:00:00\",\"2020-04-11T00:00:00\",\"2020-04-12T00:00:00\",\"2020-04-13T00:00:00\",\"2020-04-14T00:00:00\",\"2020-04-15T00:00:00\",\"2020-04-16T00:00:00\",\"2020-04-17T00:00:00\",\"2020-04-18T00:00:00\",\"2020-04-19T00:00:00\",\"2020-04-20T00:00:00\",\"2020-04-21T00:00:00\",\"2020-04-22T00:00:00\",\"2020-04-23T00:00:00\",\"2020-04-24T00:00:00\",\"2020-04-25T00:00:00\",\"2020-04-26T00:00:00\",\"2020-04-27T00:00:00\",\"2020-04-28T00:00:00\",\"2020-04-29T00:00:00\",\"2020-04-30T00:00:00\",\"2020-05-01T00:00:00\",\"2020-05-02T00:00:00\",\"2020-05-03T00:00:00\",\"2020-05-04T00:00:00\",\"2020-05-05T00:00:00\",\"2020-05-06T00:00:00\",\"2020-05-07T00:00:00\",\"2020-05-08T00:00:00\",\"2020-05-09T00:00:00\",\"2020-05-10T00:00:00\",\"2020-05-11T00:00:00\",\"2020-05-12T00:00:00\",\"2020-05-13T00:00:00\",\"2020-05-14T00:00:00\",\"2020-05-15T00:00:00\",\"2020-05-16T00:00:00\",\"2020-05-17T00:00:00\",\"2020-05-18T00:00:00\",\"2020-05-19T00:00:00\",\"2020-05-20T00:00:00\",\"2020-05-21T00:00:00\",\"2020-05-22T00:00:00\",\"2020-05-23T00:00:00\",\"2020-05-24T00:00:00\",\"2020-05-25T00:00:00\",\"2020-05-26T00:00:00\",\"2020-05-27T00:00:00\",\"2020-05-28T00:00:00\",\"2020-05-29T00:00:00\",\"2020-05-30T00:00:00\",\"2020-05-31T00:00:00\",\"2020-06-01T00:00:00\",\"2020-06-02T00:00:00\",\"2020-06-03T00:00:00\",\"2020-06-04T00:00:00\",\"2020-06-05T00:00:00\",\"2020-06-06T00:00:00\",\"2020-06-07T00:00:00\",\"2020-06-08T00:00:00\",\"2020-06-09T00:00:00\",\"2020-06-10T00:00:00\",\"2020-06-11T00:00:00\",\"2020-06-12T00:00:00\",\"2020-06-13T00:00:00\",\"2020-06-14T00:00:00\",\"2020-06-15T00:00:00\",\"2020-06-16T00:00:00\",\"2020-06-17T00:00:00\",\"2020-06-18T00:00:00\",\"2020-06-19T00:00:00\",\"2020-06-20T00:00:00\",\"2020-06-21T00:00:00\",\"2020-06-22T00:00:00\",\"2020-06-23T00:00:00\",\"2020-06-24T00:00:00\",\"2020-06-25T00:00:00\",\"2020-06-26T00:00:00\",\"2020-06-27T00:00:00\",\"2020-06-28T00:00:00\",\"2020-06-29T00:00:00\",\"2020-06-30T00:00:00\",\"2020-07-01T00:00:00\",\"2020-07-02T00:00:00\",\"2020-07-03T00:00:00\",\"2020-07-04T00:00:00\",\"2020-07-05T00:00:00\",\"2020-07-06T00:00:00\",\"2020-07-07T00:00:00\",\"2020-07-08T00:00:00\",\"2020-07-09T00:00:00\",\"2020-07-10T00:00:00\",\"2020-07-11T00:00:00\",\"2020-07-12T00:00:00\",\"2020-07-13T00:00:00\",\"2020-07-14T00:00:00\",\"2020-07-15T00:00:00\",\"2020-07-16T00:00:00\",\"2020-07-17T00:00:00\",\"2020-07-18T00:00:00\",\"2020-07-19T00:00:00\",\"2020-07-20T00:00:00\",\"2020-07-21T00:00:00\",\"2020-07-22T00:00:00\",\"2020-07-23T00:00:00\",\"2020-07-24T00:00:00\",\"2020-07-25T00:00:00\",\"2020-07-26T00:00:00\",\"2020-07-27T00:00:00\",\"2020-07-28T00:00:00\",\"2020-07-29T00:00:00\",\"2020-07-30T00:00:00\",\"2020-07-31T00:00:00\",\"2020-08-01T00:00:00\",\"2020-08-02T00:00:00\",\"2020-08-03T00:00:00\",\"2020-08-04T00:00:00\",\"2020-08-05T00:00:00\",\"2020-08-06T00:00:00\",\"2020-08-07T00:00:00\",\"2020-08-08T00:00:00\",\"2020-08-09T00:00:00\",\"2020-08-10T00:00:00\",\"2020-08-11T00:00:00\",\"2020-08-12T00:00:00\",\"2020-08-13T00:00:00\",\"2020-08-14T00:00:00\",\"2020-08-15T00:00:00\",\"2020-08-16T00:00:00\",\"2020-08-17T00:00:00\",\"2020-08-18T00:00:00\",\"2020-08-19T00:00:00\",\"2020-08-20T00:00:00\",\"2020-08-21T00:00:00\",\"2020-08-22T00:00:00\",\"2020-08-23T00:00:00\",\"2020-08-24T00:00:00\",\"2020-08-25T00:00:00\",\"2020-08-26T00:00:00\",\"2020-08-27T00:00:00\",\"2020-08-28T00:00:00\",\"2020-08-29T00:00:00\",\"2020-08-30T00:00:00\",\"2020-08-31T00:00:00\",\"2020-09-01T00:00:00\",\"2020-09-02T00:00:00\",\"2020-09-03T00:00:00\",\"2020-09-04T00:00:00\",\"2020-09-05T00:00:00\",\"2020-09-06T00:00:00\",\"2020-09-07T00:00:00\",\"2020-09-08T00:00:00\",\"2020-09-09T00:00:00\",\"2020-09-10T00:00:00\",\"2020-09-11T00:00:00\",\"2020-09-12T00:00:00\",\"2020-09-13T00:00:00\",\"2020-09-14T00:00:00\",\"2020-09-15T00:00:00\",\"2020-09-16T00:00:00\",\"2020-09-17T00:00:00\",\"2020-09-18T00:00:00\",\"2020-09-19T00:00:00\",\"2020-09-20T00:00:00\",\"2020-09-21T00:00:00\",\"2020-09-22T00:00:00\",\"2020-09-23T00:00:00\",\"2020-09-24T00:00:00\",\"2020-09-25T00:00:00\",\"2020-09-26T00:00:00\",\"2020-09-27T00:00:00\",\"2020-09-28T00:00:00\",\"2020-09-29T00:00:00\",\"2020-09-30T00:00:00\",\"2020-10-01T00:00:00\",\"2020-10-02T00:00:00\",\"2020-10-03T00:00:00\",\"2020-10-04T00:00:00\",\"2020-10-05T00:00:00\",\"2020-10-06T00:00:00\",\"2020-10-07T00:00:00\",\"2020-10-08T00:00:00\",\"2020-10-09T00:00:00\",\"2020-10-10T00:00:00\",\"2020-10-11T00:00:00\",\"2020-10-12T00:00:00\",\"2020-10-13T00:00:00\",\"2020-10-14T00:00:00\",\"2020-10-15T00:00:00\",\"2020-10-16T00:00:00\",\"2020-10-17T00:00:00\",\"2020-10-18T00:00:00\",\"2020-10-19T00:00:00\",\"2020-10-20T00:00:00\",\"2020-10-21T00:00:00\",\"2020-10-22T00:00:00\",\"2020-10-23T00:00:00\",\"2020-10-24T00:00:00\",\"2020-10-25T00:00:00\",\"2020-10-26T00:00:00\",\"2020-10-27T00:00:00\",\"2020-10-28T00:00:00\",\"2020-10-29T00:00:00\",\"2020-10-30T00:00:00\",\"2020-10-31T00:00:00\",\"2020-11-01T00:00:00\",\"2020-11-02T00:00:00\",\"2020-11-03T00:00:00\",\"2020-11-04T00:00:00\",\"2020-11-05T00:00:00\",\"2020-11-06T00:00:00\",\"2020-11-07T00:00:00\",\"2020-11-08T00:00:00\",\"2020-11-09T00:00:00\",\"2020-11-10T00:00:00\",\"2020-11-11T00:00:00\",\"2020-11-12T00:00:00\",\"2020-11-13T00:00:00\",\"2020-11-14T00:00:00\",\"2020-11-15T00:00:00\",\"2020-11-16T00:00:00\",\"2020-11-17T00:00:00\",\"2020-11-18T00:00:00\",\"2020-11-19T00:00:00\",\"2020-11-20T00:00:00\",\"2020-11-21T00:00:00\",\"2020-11-22T00:00:00\",\"2020-11-23T00:00:00\",\"2020-11-24T00:00:00\",\"2020-11-25T00:00:00\",\"2020-11-26T00:00:00\",\"2020-11-27T00:00:00\",\"2020-11-28T00:00:00\",\"2020-11-29T00:00:00\",\"2020-11-30T00:00:00\",\"2020-12-01T00:00:00\",\"2020-12-02T00:00:00\",\"2020-12-03T00:00:00\",\"2020-12-04T00:00:00\",\"2020-12-05T00:00:00\",\"2020-12-06T00:00:00\",\"2020-12-07T00:00:00\",\"2020-12-08T00:00:00\",\"2020-12-09T00:00:00\",\"2020-12-10T00:00:00\",\"2020-12-11T00:00:00\",\"2020-12-12T00:00:00\",\"2020-12-13T00:00:00\",\"2020-12-14T00:00:00\",\"2020-12-15T00:00:00\",\"2020-12-16T00:00:00\",\"2020-12-17T00:00:00\",\"2020-12-18T00:00:00\",\"2020-12-19T00:00:00\",\"2020-12-20T00:00:00\",\"2020-12-21T00:00:00\",\"2020-12-22T00:00:00\",\"2020-12-23T00:00:00\",\"2020-12-24T00:00:00\",\"2020-12-25T00:00:00\",\"2020-12-26T00:00:00\",\"2020-12-27T00:00:00\",\"2020-12-28T00:00:00\",\"2020-12-29T00:00:00\",\"2020-12-30T00:00:00\",\"2020-12-31T00:00:00\",\"2021-01-01T00:00:00\",\"2021-01-02T00:00:00\",\"2021-01-03T00:00:00\",\"2021-01-04T00:00:00\",\"2021-01-05T00:00:00\",\"2021-01-06T00:00:00\",\"2021-01-07T00:00:00\",\"2021-01-08T00:00:00\",\"2021-01-09T00:00:00\",\"2021-01-10T00:00:00\",\"2021-01-11T00:00:00\",\"2021-01-12T00:00:00\",\"2021-01-13T00:00:00\",\"2021-01-14T00:00:00\",\"2021-01-15T00:00:00\",\"2021-01-16T00:00:00\",\"2021-01-17T00:00:00\",\"2021-01-18T00:00:00\",\"2021-01-19T00:00:00\",\"2021-01-20T00:00:00\",\"2021-01-21T00:00:00\",\"2021-01-22T00:00:00\",\"2021-01-23T00:00:00\",\"2021-01-24T00:00:00\",\"2021-01-25T00:00:00\",\"2021-01-26T00:00:00\",\"2021-01-27T00:00:00\",\"2021-01-28T00:00:00\",\"2021-01-29T00:00:00\",\"2021-01-30T00:00:00\",\"2021-01-31T00:00:00\",\"2021-02-01T00:00:00\",\"2021-02-02T00:00:00\",\"2021-02-03T00:00:00\",\"2021-02-04T00:00:00\",\"2021-02-05T00:00:00\",\"2021-02-06T00:00:00\",\"2021-02-07T00:00:00\",\"2021-02-08T00:00:00\",\"2021-02-09T00:00:00\",\"2021-02-10T00:00:00\",\"2021-02-11T00:00:00\",\"2021-02-12T00:00:00\",\"2021-02-13T00:00:00\",\"2021-02-14T00:00:00\",\"2021-02-15T00:00:00\",\"2021-02-16T00:00:00\",\"2021-02-17T00:00:00\",\"2021-02-18T00:00:00\",\"2021-02-19T00:00:00\",\"2021-02-20T00:00:00\",\"2021-02-21T00:00:00\",\"2021-02-22T00:00:00\",\"2021-02-23T00:00:00\",\"2021-02-24T00:00:00\",\"2021-02-25T00:00:00\",\"2021-02-26T00:00:00\",\"2021-02-27T00:00:00\",\"2021-02-28T00:00:00\",\"2021-03-01T00:00:00\",\"2021-03-02T00:00:00\",\"2021-03-03T00:00:00\",\"2021-03-04T00:00:00\",\"2021-03-05T00:00:00\",\"2021-03-06T00:00:00\",\"2021-03-07T00:00:00\",\"2021-03-08T00:00:00\",\"2021-03-09T00:00:00\",\"2021-03-10T00:00:00\",\"2021-03-11T00:00:00\",\"2021-03-12T00:00:00\",\"2021-03-13T00:00:00\",\"2021-03-14T00:00:00\",\"2021-03-15T00:00:00\",\"2021-03-16T00:00:00\",\"2021-03-17T00:00:00\",\"2021-03-18T00:00:00\",\"2021-03-19T00:00:00\",\"2021-03-20T00:00:00\",\"2021-03-21T00:00:00\",\"2021-03-22T00:00:00\",\"2021-03-23T00:00:00\",\"2021-03-24T00:00:00\",\"2021-03-25T00:00:00\",\"2021-03-26T00:00:00\",\"2021-03-27T00:00:00\",\"2021-03-28T00:00:00\",\"2021-03-29T00:00:00\",\"2021-03-30T00:00:00\",\"2021-03-31T00:00:00\",\"2021-04-01T00:00:00\",\"2021-04-02T00:00:00\",\"2021-04-03T00:00:00\",\"2021-04-04T00:00:00\",\"2021-04-05T00:00:00\",\"2021-04-06T00:00:00\",\"2021-04-07T00:00:00\",\"2021-04-08T00:00:00\",\"2021-04-09T00:00:00\",\"2021-04-10T00:00:00\",\"2021-04-11T00:00:00\",\"2021-04-12T00:00:00\",\"2021-04-13T00:00:00\",\"2021-04-14T00:00:00\",\"2021-04-15T00:00:00\",\"2021-04-16T00:00:00\",\"2021-04-17T00:00:00\",\"2021-04-18T00:00:00\",\"2021-04-19T00:00:00\",\"2021-04-20T00:00:00\",\"2021-04-21T00:00:00\",\"2021-04-22T00:00:00\",\"2021-04-23T00:00:00\",\"2021-04-24T00:00:00\",\"2021-04-25T00:00:00\",\"2021-04-26T00:00:00\",\"2021-04-27T00:00:00\",\"2021-04-28T00:00:00\",\"2021-04-29T00:00:00\",\"2021-04-30T00:00:00\",\"2021-05-01T00:00:00\",\"2021-05-02T00:00:00\",\"2021-05-03T00:00:00\",\"2021-05-04T00:00:00\",\"2021-05-05T00:00:00\",\"2021-05-06T00:00:00\",\"2021-05-07T00:00:00\",\"2021-05-08T00:00:00\",\"2021-05-09T00:00:00\",\"2021-05-10T00:00:00\",\"2021-05-11T00:00:00\",\"2021-05-12T00:00:00\",\"2021-05-13T00:00:00\",\"2021-05-14T00:00:00\",\"2021-05-15T00:00:00\",\"2021-05-16T00:00:00\",\"2021-05-17T00:00:00\",\"2021-05-18T00:00:00\",\"2021-05-19T00:00:00\",\"2021-05-20T00:00:00\",\"2021-05-21T00:00:00\",\"2021-05-22T00:00:00\",\"2021-05-23T00:00:00\",\"2021-05-24T00:00:00\",\"2021-05-25T00:00:00\",\"2021-05-26T00:00:00\",\"2021-05-27T00:00:00\",\"2021-05-28T00:00:00\",\"2021-05-29T00:00:00\",\"2021-05-30T00:00:00\",\"2021-05-31T00:00:00\",\"2021-06-01T00:00:00\",\"2021-06-02T00:00:00\",\"2021-06-03T00:00:00\",\"2021-06-04T00:00:00\",\"2021-06-05T00:00:00\",\"2021-06-06T00:00:00\",\"2021-06-07T00:00:00\",\"2021-06-08T00:00:00\",\"2021-06-09T00:00:00\",\"2021-06-10T00:00:00\",\"2021-06-11T00:00:00\",\"2021-06-12T00:00:00\",\"2021-06-13T00:00:00\",\"2021-06-14T00:00:00\",\"2021-06-15T00:00:00\",\"2021-06-16T00:00:00\",\"2021-06-17T00:00:00\",\"2021-06-18T00:00:00\",\"2021-06-19T00:00:00\",\"2021-06-20T00:00:00\",\"2021-06-21T00:00:00\",\"2021-06-22T00:00:00\",\"2021-06-23T00:00:00\",\"2021-06-24T00:00:00\",\"2021-06-25T00:00:00\",\"2021-06-26T00:00:00\",\"2021-06-27T00:00:00\",\"2021-06-28T00:00:00\",\"2021-06-29T00:00:00\",\"2021-06-30T00:00:00\",\"2021-07-01T00:00:00\",\"2021-07-02T00:00:00\",\"2021-07-03T00:00:00\",\"2021-07-04T00:00:00\",\"2021-07-05T00:00:00\",\"2021-07-06T00:00:00\",\"2021-07-07T00:00:00\",\"2021-07-08T00:00:00\",\"2021-07-09T00:00:00\",\"2021-07-10T00:00:00\",\"2021-07-11T00:00:00\",\"2021-07-12T00:00:00\",\"2021-07-13T00:00:00\",\"2021-07-14T00:00:00\",\"2021-07-15T00:00:00\",\"2021-07-16T00:00:00\",\"2021-07-17T00:00:00\",\"2021-07-18T00:00:00\",\"2021-07-19T00:00:00\",\"2021-07-20T00:00:00\",\"2021-07-21T00:00:00\",\"2021-07-22T00:00:00\",\"2021-07-23T00:00:00\",\"2021-07-24T00:00:00\",\"2021-07-25T00:00:00\",\"2021-07-26T00:00:00\",\"2021-07-27T00:00:00\",\"2021-07-28T00:00:00\",\"2021-07-29T00:00:00\",\"2021-07-30T00:00:00\",\"2021-07-31T00:00:00\",\"2021-08-01T00:00:00\",\"2021-08-02T00:00:00\",\"2021-08-03T00:00:00\",\"2021-08-04T00:00:00\",\"2021-08-05T00:00:00\",\"2021-08-06T00:00:00\",\"2021-08-07T00:00:00\",\"2021-08-08T00:00:00\",\"2021-08-09T00:00:00\",\"2021-08-10T00:00:00\",\"2021-08-11T00:00:00\",\"2021-08-12T00:00:00\",\"2021-08-13T00:00:00\",\"2021-08-14T00:00:00\",\"2021-08-15T00:00:00\",\"2021-08-16T00:00:00\",\"2021-08-17T00:00:00\",\"2021-08-18T00:00:00\",\"2021-08-19T00:00:00\",\"2021-08-20T00:00:00\",\"2021-08-21T00:00:00\",\"2021-08-22T00:00:00\",\"2021-08-23T00:00:00\",\"2021-08-24T00:00:00\",\"2021-08-25T00:00:00\",\"2021-08-26T00:00:00\",\"2021-08-27T00:00:00\",\"2021-08-28T00:00:00\",\"2021-08-29T00:00:00\",\"2021-08-30T00:00:00\",\"2021-08-31T00:00:00\",\"2021-09-01T00:00:00\",\"2021-09-02T00:00:00\",\"2021-09-03T00:00:00\",\"2021-09-04T00:00:00\",\"2021-09-05T00:00:00\",\"2021-09-06T00:00:00\",\"2021-09-07T00:00:00\",\"2021-09-08T00:00:00\",\"2021-09-09T00:00:00\",\"2021-09-10T00:00:00\",\"2021-09-11T00:00:00\",\"2021-09-12T00:00:00\",\"2021-09-13T00:00:00\",\"2021-09-14T00:00:00\",\"2021-09-15T00:00:00\",\"2021-09-16T00:00:00\",\"2021-09-17T00:00:00\",\"2021-09-18T00:00:00\",\"2021-09-19T00:00:00\",\"2021-09-20T00:00:00\",\"2021-09-21T00:00:00\",\"2021-09-22T00:00:00\",\"2021-09-23T00:00:00\",\"2021-09-24T00:00:00\",\"2021-09-25T00:00:00\",\"2021-09-26T00:00:00\",\"2021-09-27T00:00:00\",\"2021-09-28T00:00:00\",\"2021-09-29T00:00:00\",\"2021-09-30T00:00:00\",\"2021-10-01T00:00:00\",\"2021-10-02T00:00:00\",\"2021-10-03T00:00:00\",\"2021-10-04T00:00:00\",\"2021-10-05T00:00:00\",\"2021-10-06T00:00:00\",\"2021-10-07T00:00:00\",\"2021-10-08T00:00:00\",\"2021-10-09T00:00:00\",\"2021-10-10T00:00:00\",\"2021-10-11T00:00:00\",\"2021-10-12T00:00:00\",\"2021-10-13T00:00:00\",\"2021-10-14T00:00:00\",\"2021-10-15T00:00:00\",\"2021-10-16T00:00:00\",\"2021-10-17T00:00:00\",\"2021-10-18T00:00:00\",\"2021-10-19T00:00:00\",\"2021-10-20T00:00:00\",\"2021-10-21T00:00:00\",\"2021-10-22T00:00:00\",\"2021-10-23T00:00:00\",\"2021-10-24T00:00:00\",\"2021-10-25T00:00:00\",\"2021-10-26T00:00:00\",\"2021-10-27T00:00:00\",\"2021-10-28T00:00:00\",\"2021-10-29T00:00:00\",\"2021-10-30T00:00:00\",\"2021-10-31T00:00:00\",\"2021-11-01T00:00:00\",\"2021-11-02T00:00:00\",\"2021-11-03T00:00:00\",\"2021-11-04T00:00:00\",\"2021-11-05T00:00:00\",\"2021-11-06T00:00:00\",\"2021-11-07T00:00:00\",\"2021-11-08T00:00:00\",\"2021-11-09T00:00:00\",\"2021-11-10T00:00:00\",\"2021-11-11T00:00:00\",\"2021-11-12T00:00:00\",\"2021-11-13T00:00:00\",\"2021-11-14T00:00:00\",\"2021-11-15T00:00:00\",\"2021-11-16T00:00:00\",\"2021-11-17T00:00:00\",\"2021-11-18T00:00:00\",\"2021-11-19T00:00:00\",\"2021-11-20T00:00:00\",\"2021-11-21T00:00:00\",\"2021-11-22T00:00:00\",\"2021-11-23T00:00:00\",\"2021-11-24T00:00:00\",\"2021-11-25T00:00:00\",\"2021-11-26T00:00:00\",\"2021-11-27T00:00:00\",\"2021-11-28T00:00:00\",\"2021-11-29T00:00:00\",\"2021-11-30T00:00:00\",\"2021-12-01T00:00:00\",\"2021-12-02T00:00:00\",\"2021-12-03T00:00:00\",\"2021-12-04T00:00:00\",\"2021-12-05T00:00:00\",\"2021-12-06T00:00:00\",\"2021-12-07T00:00:00\",\"2021-12-08T00:00:00\",\"2021-12-09T00:00:00\",\"2021-12-10T00:00:00\",\"2021-12-11T00:00:00\",\"2021-12-12T00:00:00\",\"2021-12-13T00:00:00\",\"2021-12-14T00:00:00\",\"2021-12-15T00:00:00\",\"2021-12-16T00:00:00\",\"2021-12-17T00:00:00\",\"2021-12-18T00:00:00\",\"2021-12-19T00:00:00\",\"2021-12-20T00:00:00\",\"2021-12-21T00:00:00\",\"2021-12-22T00:00:00\",\"2021-12-23T00:00:00\",\"2021-12-24T00:00:00\",\"2021-12-25T00:00:00\",\"2021-12-26T00:00:00\",\"2021-12-27T00:00:00\",\"2021-12-28T00:00:00\",\"2021-12-29T00:00:00\",\"2021-12-30T00:00:00\",\"2021-12-31T00:00:00\"],\"y\":[8937.869340778125,9002.36210578027,9066.854870782417,9131.347635784563,9195.84040078671,9260.333165788856,9324.825930791001,9389.318695793147,9453.811460795292,9518.30422579744,9582.796990799585,9647.28975580173,9711.782520803876,9776.275285806021,9840.768050808168,9905.260815810314,9969.753580812461,10034.246345814607,10098.739110816752,10163.231875818898,10227.724640821043,10292.21740582319,10356.710170825336,10421.202935827481,10485.695700829627,10550.188465831774,10614.68123083392,10679.173995836065,10743.666760838212,10808.159525840358,10872.652290842503,10937.145055844649,11001.637820846794,11066.130585848941,11130.623350851087,11195.116115853232,11259.608880855378,11324.101645857523,11388.594410859672,11453.087175861818,11517.579940863963,11582.072705866109,11646.565470868254,11711.058235870401,11775.551000872547,11840.043765874692,11904.536530876838,11969.029295878983,12033.52206088113,12098.014825883276,12162.507590885421,12227.000355887567,12291.493120889712,12355.98588589186,12420.478650894005,12484.97141589615,12549.464180898296,12613.956945900441,12678.449710902589,12742.942475904734,12807.43524090688,12871.928005909025,12936.420770911174,13000.91353591332,13065.406300915465,13129.89906591761,13194.391830919758,13258.884595921903,13323.377360924049,13387.870125926194,13452.36289092834,13516.855655930487,13581.348420932633,13645.841185934778,13710.333950936923,13774.826715939069,13839.319480941216,13903.81224594336,13968.305010945507,14032.797775947653,14097.290540949798,14161.783307343514,14226.276073737228,14290.768840130944,14355.26160652466,14419.754372918374,14484.24713931209,14548.739905705803,14613.23267209952,14677.725438493233,14742.21820488695,14806.710971280665,14871.203737674383,14935.696504068095,15000.18927046181,15064.682036855525,15129.174803249241,15193.667569642956,15258.16033603667,15322.653102430388,15387.145868824102,15451.638635217818,15516.13140161153,15580.624168005246,15645.11693439896,15709.609700792678,15774.102467186392,15838.595233580107,15903.087999973823,15967.580766367535,16032.073532761253,16096.566299154965,16161.059065548683,16225.551831942397,16290.044598336111,16354.537364729827,16419.030131123545,16483.522897517258,16548.015663910974,16612.50843030469,16677.001196698402,16741.493963092118,16805.98672948583,16870.47949587955,16934.972262273266,16999.465028666982,17063.957795060694,17128.45056145441,17192.943327848123,17257.436094241843,17321.928860635555,17386.42162702927,17450.914393422987,17515.4071598167,17579.899926210415,17644.392692604128,17708.885458997847,17773.37822539156,17837.870991785276,17902.36375817899,17966.856524572708,18031.34929096642,18095.842057360136,18160.334823753852,18224.827590147568,18289.32035654128,18353.813122934996,18418.305889328713,18482.798655722425,18547.291422116145,18611.784188509857,18676.276954903573,18740.769721297285,18805.262487691005,18869.755254084717,18934.248020478433,18998.74078687215,19063.23355326586,19127.726319659578,19192.21908605329,19256.711852447006,19321.2084322879,19385.705012128798,19450.20159196969,19514.69817181059,19579.19475165148,19643.691331492377,19708.18791133327,19772.68449117417,19837.181071015064,19901.677650855956,19966.174230696855,20030.670810537747,20095.167390378643,20159.663970219535,20224.160550060435,20288.657129901327,20353.153709742222,20417.65028958312,20482.146869424014,20546.64344926491,20611.1400291058,20675.6366089467,20740.133188787593,20804.62976862849,20869.12634846938,20933.622928310277,20998.119508151176,21062.616087992068,21127.112667832964,21191.609247673856,21256.105827514755,21320.602407355647,21385.098987196543,21449.595567037442,21514.092146878334,21578.588726719227,21643.085306560122,21707.58188640102,21772.078466241914,21836.57504608281,21901.0716259237,21965.5682057646,22030.064785605493,22094.56136544639,22159.057945287284,22223.55452512818,22288.051104969076,22352.547684809968,22417.044264650864,22481.540844491756,22546.037424332655,22610.534004173547,22675.030584014443,22739.527163855342,22804.023743696234,22868.52032353713,22933.016903378022,22997.51348321892,23062.010063059814,23126.50664290071,23191.00322274161,23255.4998025825,23319.996382423393,23384.49296226429,23448.989542105188,23513.48612194608,23577.982701786976,23642.479281627868,23706.975861468767,23771.47244130966,23835.969021150555,23900.46560099145,23964.962180832343,24029.458760673242,24093.955340514134,24158.45192035503,24222.94850019593,24287.44508003682,24351.941659877713,24416.43823971861,24480.93484138123,24545.431443043846,24609.928044706467,24674.424646369087,24738.921248031707,24803.417849694324,24867.914451356944,24932.411053019565,24996.90765468219,25061.404256344802,25125.900858007422,25190.397459670046,25254.894061332667,25319.39066299528,25383.8872646579,25448.383866320524,25512.880467983145,25577.377069645765,25641.87367130838,25706.370272971002,25770.866874633623,25835.363476296243,25899.860077958863,25964.356679621484,26028.8532812841,26093.34988294672,26157.84648460934,26222.34308627196,26286.839687934582,26351.3362895972,26415.83289125982,26480.32949292244,26544.82609458506,26609.322696247677,26673.819297910297,26738.315899572917,26802.812501235538,26867.309102898154,26931.805704560775,26996.302306223395,27060.798907886016,27125.295509548632,27189.792111211253,27254.288712873873,27318.785314536497,27383.28191619911,27447.77851786173,27512.275119524355,27576.771721186975,27641.268322849595,27705.76492451221,27770.261526174832,27834.758127837453,27899.254729500073,27963.751331162694,28028.247932825314,28092.74453448793,28157.24113615055,28221.73773781317,28286.23433947579,28350.730941138412,28415.22754280103,28479.72414446365,28544.22074612627,28608.71734778889,28673.213949451507,28737.710551114127,28802.207152776748,28866.703754439368,28931.200356101985,28995.696957764605,29060.193559427225,29124.690161089846,29189.186762752463,29253.683364415083,29318.179966077703,29382.676567740324,29447.17316940294,29511.66977106554,30466.49383807151,31421.317905077485,32376.14197208346,33330.96603908939,34285.790106095366,35240.61417310134,36195.438240107316,37150.26230711329,38105.086374119266,39059.9104411252,40014.73450813117,40969.55857513715,41924.38264214312,42879.2067091491,43834.03077615503,44788.854843161,45743.67891016698,46698.50297717295,47653.32704417892,48608.15111118486,49562.975178190834,50517.79924519681,51472.623312202784,52427.44737920875,53382.27144621473,54337.095513220665,55291.91958022664,56246.74364723261,57201.56771423858,58156.39178124456,59111.21584825053,60066.03991525651,61020.86398226248,61975.688049268414,62930.51211627443,63885.336183280364,64840.160250286375,65794.98431729231,66749.80838429825,67704.63245130426,68659.4565183102,69614.28058531621,70569.10465232214,71523.92871932808,72478.7527863341,73433.57685334003,74388.40092034604,75343.22498735198,76298.04905435798,77252.87312136393,78207.69718836986,79162.52125537586,80117.3453223818,81072.16938938781,82026.99345639371,82981.81752339969,83936.64159040566,84891.46565741164,85846.28972441761,86801.11379142359,87755.93785842955,88710.76192543552,89665.5859924415,90620.41005944747,91575.23412645345,92530.05819345935,93484.8822604654,94439.7063274713,95394.53039447735,96349.35446148324,97304.17852848921,98259.00259549519,99213.82666250116,100168.65072950714,101123.47479651311,102078.29886351901,103033.12293052506,103987.94699753095,104942.77106453701,105897.5951315429,106859.60944774136,107821.62376393973,108783.6380801381,109745.65239633647,110707.66671253485,111669.68102873329,112631.69534493166,113593.70966113004,114555.72397732841,115517.73829352678,116479.75260972523,117441.7669259236,118403.78124212197,119365.79555832042,120327.80987451872,121289.82419071716,122251.83850691553,123213.8528231139,124175.86713931237,125137.88145551065,126099.8957717091,127061.91008790747,128023.92440410584,128985.9387203043,129947.95303650267,130909.96735270105,131871.98166889942,132833.99598509778,133796.01030129622,134758.0246174946,135720.03893369297,136682.05324989135,137644.0675660898,138606.08188228818,139568.09619848654,140530.110514685,141492.1248308833,142454.13914708173,143416.15346328012,144378.16777947848,145340.18209567692,146302.1964118753,147264.21072807367,148226.22504427205,149188.2393604704,150150.25367666886,151112.26799286724,152074.2823090656,153036.296625264,153998.31094146235,154960.3252576608,155922.33957385918,156884.35389005762,157846.36820625592,158808.38252245428,159770.39683865276,160732.4111548511,161694.42547104956,162656.43978724786,163618.45410344622,164580.4684196447,165542.48273584305,166504.4970520415,167466.51136823988,168428.52568443824,169390.54000063663,170352.55431683498,171314.56863303343,172276.58294923182,173238.59726543017,174200.61158162856,175162.62589782692,176124.64021402536,177086.65453022375,178048.6688464222,179010.6831626205,179972.69747881885,180934.71179501733,181896.72611121568,182858.7404274141,182828.04674400276,182797.35306059144,182766.65937718013,182735.9656937688,182705.27201035747,182674.57832694615,182643.88464353484,182613.19096012352,182582.49727671218,182551.80359330087,182521.10990988955,182490.41622647826,182459.7225430669,182429.0288596556,182398.3351762443,182367.64149283298,182336.94780942163,182306.25412601032,182275.560442599,182244.86675918766,182214.17307577634,182183.47939236503,182152.7857089537,182122.0920255424,182091.39834213105,182060.70465871974,182030.01097530843,181999.31729189708,181968.62360848577,181937.92992507445,181907.23624166317,181876.5425582518,181845.84887484048,181815.1551914292,181784.46150801788,181753.76782460653,181723.07414119522,181692.3804577839,181661.6867743726,181630.99309096124,181600.29940754993,181569.60572413862,181538.9120407273,181508.21835731596,181477.52467390464,181446.83099049333,181416.137307082,181385.44362367067,181354.74994025935,181324.05625684807,181293.36257343675,181262.66889002538,181231.9752066141,181201.28152320278,181170.58783979146,181139.89415638012,181109.2004729688,181078.5067895575,181047.81310614615,181017.11942273483,180986.42573932352,180955.7320559122,180925.03837250086,180894.34468908954,180863.65100567823,180832.9573222669,180802.26363885557,180771.56995544425,180740.87627203297,180710.18258862165,180679.48890521028,180648.795221799,180618.10153838768,180587.40785497637,180556.71417156502,180526.0204881537,180495.3268047424,180464.63312133108,180433.93943791973,180403.2457545084,181524.05956135326,182644.87336819808,183765.68717504287,184886.50098188783,186007.31478873265,187128.12859557752,188248.94240242234,189369.75620926713,190490.57001611203,191611.38382295682,192732.19762980178,193853.0114366466,194973.8252434914,196094.6390503363,197215.45285718108,198336.26666402598,199457.08047087077,200577.89427771565,201698.70808456055,202819.52189140534,203940.33569825024,205061.14950509503,206181.96331193985,207302.77711878472,208423.5909256296,209544.4047324745,210665.2185393193,211786.0323461641,212906.84615300898,214027.6599598538,215148.47376669868,216269.28757354355,217390.10138038846,218510.91518723324,219631.72899407806,220752.54280092294,221873.35660776775,222994.17041461263,224114.9842214575,225235.79802830232,226356.6118351472,227477.425641992,228598.2394488369,229719.0532556817,230839.8670625265,231960.68086937146,233081.49467621627,234202.30848306115,235323.12228990596,236443.93609675078,237564.74990359566,238685.56371044044,239806.3775172854,240927.19132413022,242048.00513097504,243168.81893781992,244289.63274466473,245410.4465515096,246531.2603583544,247652.0741651993,248772.88797204418,249893.701778889,251014.51558573387,252135.3293925787,253256.14319942356,254376.95700626835,255497.77081311325,256618.58461995813,257739.39842680295,258860.21223364782,259981.02604049264,261101.83984733743,262222.65365418233,263343.4674610272,264464.2812678721,265585.0950747168,266705.9088815616,267826.7226884066,268947.5364952514,270068.35030209634,271189.16410894116,272309.977915786,273430.79172263073,274551.60552947555,275672.41933632054,276793.23314316536,277914.0469500101,279034.8607568551,280155.6745636999,281276.4883705447,282397.3021773895,283518.1159842345,284638.9297910793,285759.74359792407,286880.55740476906,288001.3712116139,289122.18501845864,290242.99882530345,291363.81263214845,292484.62643899326,293605.440245838,294726.254052683,295847.06785952783,296967.8816663726,298088.6954732176,299209.5092800624,300330.3230869072,301451.136893752,302571.9507005968,303692.7645074418,304813.57831428654,305934.39212113153,307055.20592797635,308176.01973482117,309296.8335416659,310417.64734851074,311538.46115535573,312659.2749622005,313780.0887690453,314900.9025758903,316021.7163827351,317142.5301895799,318263.3439964247,319384.1578032695,320504.97161011444,321625.78541695926,322746.59922380425,323867.41303064907,324988.2268374938,326109.04064433865,327229.85445118346,328350.6682580284,329471.4820648732,330592.2958717182,331713.109678563,332833.9234854078,333954.7372922526,335075.5510990974,336196.36490594235,337317.17871278716,338437.992519632,339558.8063264768,340679.62013332173,341800.43394016655,342921.24774701137,344314.70847942936,345663.1483451756,347116.0040887028,348420.2956969451,349767.60736839636,351384.97052411374,352775.33386298,354295.6498810091,355680.76817419345,357064.67810069193,358676.3393205108,360096.3448017639,361899.8677890138,363363.498319775,364833.52427759283,366298.0647944797,367766.3423234809,369234.6198524822,370702.89738148346,372171.1749104847,373896.5312689321,375204.4855975401,377320.0846285924,378823.2528068563,380325.1934471935,382237.7735226768],\"type\":\"scatter\",\"xaxis\":\"x\",\"yaxis\":\"y\"},{\"fill\":\"tonexty\",\"fillcolor\":\"rgba(0, 114, 178, 0.2)\",\"line\":{\"color\":\"rgba(0, 114, 178, 0.2)\",\"width\":0},\"mode\":\"lines\",\"name\":\"trend_lower\",\"x\":[\"2020-01-01T00:00:00\",\"2020-01-02T00:00:00\",\"2020-01-03T00:00:00\",\"2020-01-04T00:00:00\",\"2020-01-05T00:00:00\",\"2020-01-06T00:00:00\",\"2020-01-07T00:00:00\",\"2020-01-08T00:00:00\",\"2020-01-09T00:00:00\",\"2020-01-10T00:00:00\",\"2020-01-11T00:00:00\",\"2020-01-12T00:00:00\",\"2020-01-13T00:00:00\",\"2020-01-14T00:00:00\",\"2020-01-15T00:00:00\",\"2020-01-16T00:00:00\",\"2020-01-17T00:00:00\",\"2020-01-18T00:00:00\",\"2020-01-19T00:00:00\",\"2020-01-20T00:00:00\",\"2020-01-21T00:00:00\",\"2020-01-22T00:00:00\",\"2020-01-23T00:00:00\",\"2020-01-24T00:00:00\",\"2020-01-25T00:00:00\",\"2020-01-26T00:00:00\",\"2020-01-27T00:00:00\",\"2020-01-28T00:00:00\",\"2020-01-29T00:00:00\",\"2020-01-30T00:00:00\",\"2020-01-31T00:00:00\",\"2020-02-01T00:00:00\",\"2020-02-02T00:00:00\",\"2020-02-03T00:00:00\",\"2020-02-04T00:00:00\",\"2020-02-05T00:00:00\",\"2020-02-06T00:00:00\",\"2020-02-07T00:00:00\",\"2020-02-08T00:00:00\",\"2020-02-09T00:00:00\",\"2020-02-10T00:00:00\",\"2020-02-11T00:00:00\",\"2020-02-12T00:00:00\",\"2020-02-13T00:00:00\",\"2020-02-14T00:00:00\",\"2020-02-15T00:00:00\",\"2020-02-16T00:00:00\",\"2020-02-17T00:00:00\",\"2020-02-18T00:00:00\",\"2020-02-19T00:00:00\",\"2020-02-20T00:00:00\",\"2020-02-21T00:00:00\",\"2020-02-22T00:00:00\",\"2020-02-23T00:00:00\",\"2020-02-24T00:00:00\",\"2020-02-25T00:00:00\",\"2020-02-26T00:00:00\",\"2020-02-27T00:00:00\",\"2020-02-28T00:00:00\",\"2020-02-29T00:00:00\",\"2020-03-01T00:00:00\",\"2020-03-02T00:00:00\",\"2020-03-03T00:00:00\",\"2020-03-04T00:00:00\",\"2020-03-05T00:00:00\",\"2020-03-06T00:00:00\",\"2020-03-07T00:00:00\",\"2020-03-08T00:00:00\",\"2020-03-09T00:00:00\",\"2020-03-10T00:00:00\",\"2020-03-11T00:00:00\",\"2020-03-12T00:00:00\",\"2020-03-13T00:00:00\",\"2020-03-14T00:00:00\",\"2020-03-15T00:00:00\",\"2020-03-16T00:00:00\",\"2020-03-17T00:00:00\",\"2020-03-18T00:00:00\",\"2020-03-19T00:00:00\",\"2020-03-20T00:00:00\",\"2020-03-21T00:00:00\",\"2020-03-22T00:00:00\",\"2020-03-23T00:00:00\",\"2020-03-24T00:00:00\",\"2020-03-25T00:00:00\",\"2020-03-26T00:00:00\",\"2020-03-27T00:00:00\",\"2020-03-28T00:00:00\",\"2020-03-29T00:00:00\",\"2020-03-30T00:00:00\",\"2020-03-31T00:00:00\",\"2020-04-01T00:00:00\",\"2020-04-02T00:00:00\",\"2020-04-03T00:00:00\",\"2020-04-04T00:00:00\",\"2020-04-05T00:00:00\",\"2020-04-06T00:00:00\",\"2020-04-07T00:00:00\",\"2020-04-08T00:00:00\",\"2020-04-09T00:00:00\",\"2020-04-10T00:00:00\",\"2020-04-11T00:00:00\",\"2020-04-12T00:00:00\",\"2020-04-13T00:00:00\",\"2020-04-14T00:00:00\",\"2020-04-15T00:00:00\",\"2020-04-16T00:00:00\",\"2020-04-17T00:00:00\",\"2020-04-18T00:00:00\",\"2020-04-19T00:00:00\",\"2020-04-20T00:00:00\",\"2020-04-21T00:00:00\",\"2020-04-22T00:00:00\",\"2020-04-23T00:00:00\",\"2020-04-24T00:00:00\",\"2020-04-25T00:00:00\",\"2020-04-26T00:00:00\",\"2020-04-27T00:00:00\",\"2020-04-28T00:00:00\",\"2020-04-29T00:00:00\",\"2020-04-30T00:00:00\",\"2020-05-01T00:00:00\",\"2020-05-02T00:00:00\",\"2020-05-03T00:00:00\",\"2020-05-04T00:00:00\",\"2020-05-05T00:00:00\",\"2020-05-06T00:00:00\",\"2020-05-07T00:00:00\",\"2020-05-08T00:00:00\",\"2020-05-09T00:00:00\",\"2020-05-10T00:00:00\",\"2020-05-11T00:00:00\",\"2020-05-12T00:00:00\",\"2020-05-13T00:00:00\",\"2020-05-14T00:00:00\",\"2020-05-15T00:00:00\",\"2020-05-16T00:00:00\",\"2020-05-17T00:00:00\",\"2020-05-18T00:00:00\",\"2020-05-19T00:00:00\",\"2020-05-20T00:00:00\",\"2020-05-21T00:00:00\",\"2020-05-22T00:00:00\",\"2020-05-23T00:00:00\",\"2020-05-24T00:00:00\",\"2020-05-25T00:00:00\",\"2020-05-26T00:00:00\",\"2020-05-27T00:00:00\",\"2020-05-28T00:00:00\",\"2020-05-29T00:00:00\",\"2020-05-30T00:00:00\",\"2020-05-31T00:00:00\",\"2020-06-01T00:00:00\",\"2020-06-02T00:00:00\",\"2020-06-03T00:00:00\",\"2020-06-04T00:00:00\",\"2020-06-05T00:00:00\",\"2020-06-06T00:00:00\",\"2020-06-07T00:00:00\",\"2020-06-08T00:00:00\",\"2020-06-09T00:00:00\",\"2020-06-10T00:00:00\",\"2020-06-11T00:00:00\",\"2020-06-12T00:00:00\",\"2020-06-13T00:00:00\",\"2020-06-14T00:00:00\",\"2020-06-15T00:00:00\",\"2020-06-16T00:00:00\",\"2020-06-17T00:00:00\",\"2020-06-18T00:00:00\",\"2020-06-19T00:00:00\",\"2020-06-20T00:00:00\",\"2020-06-21T00:00:00\",\"2020-06-22T00:00:00\",\"2020-06-23T00:00:00\",\"2020-06-24T00:00:00\",\"2020-06-25T00:00:00\",\"2020-06-26T00:00:00\",\"2020-06-27T00:00:00\",\"2020-06-28T00:00:00\",\"2020-06-29T00:00:00\",\"2020-06-30T00:00:00\",\"2020-07-01T00:00:00\",\"2020-07-02T00:00:00\",\"2020-07-03T00:00:00\",\"2020-07-04T00:00:00\",\"2020-07-05T00:00:00\",\"2020-07-06T00:00:00\",\"2020-07-07T00:00:00\",\"2020-07-08T00:00:00\",\"2020-07-09T00:00:00\",\"2020-07-10T00:00:00\",\"2020-07-11T00:00:00\",\"2020-07-12T00:00:00\",\"2020-07-13T00:00:00\",\"2020-07-14T00:00:00\",\"2020-07-15T00:00:00\",\"2020-07-16T00:00:00\",\"2020-07-17T00:00:00\",\"2020-07-18T00:00:00\",\"2020-07-19T00:00:00\",\"2020-07-20T00:00:00\",\"2020-07-21T00:00:00\",\"2020-07-22T00:00:00\",\"2020-07-23T00:00:00\",\"2020-07-24T00:00:00\",\"2020-07-25T00:00:00\",\"2020-07-26T00:00:00\",\"2020-07-27T00:00:00\",\"2020-07-28T00:00:00\",\"2020-07-29T00:00:00\",\"2020-07-30T00:00:00\",\"2020-07-31T00:00:00\",\"2020-08-01T00:00:00\",\"2020-08-02T00:00:00\",\"2020-08-03T00:00:00\",\"2020-08-04T00:00:00\",\"2020-08-05T00:00:00\",\"2020-08-06T00:00:00\",\"2020-08-07T00:00:00\",\"2020-08-08T00:00:00\",\"2020-08-09T00:00:00\",\"2020-08-10T00:00:00\",\"2020-08-11T00:00:00\",\"2020-08-12T00:00:00\",\"2020-08-13T00:00:00\",\"2020-08-14T00:00:00\",\"2020-08-15T00:00:00\",\"2020-08-16T00:00:00\",\"2020-08-17T00:00:00\",\"2020-08-18T00:00:00\",\"2020-08-19T00:00:00\",\"2020-08-20T00:00:00\",\"2020-08-21T00:00:00\",\"2020-08-22T00:00:00\",\"2020-08-23T00:00:00\",\"2020-08-24T00:00:00\",\"2020-08-25T00:00:00\",\"2020-08-26T00:00:00\",\"2020-08-27T00:00:00\",\"2020-08-28T00:00:00\",\"2020-08-29T00:00:00\",\"2020-08-30T00:00:00\",\"2020-08-31T00:00:00\",\"2020-09-01T00:00:00\",\"2020-09-02T00:00:00\",\"2020-09-03T00:00:00\",\"2020-09-04T00:00:00\",\"2020-09-05T00:00:00\",\"2020-09-06T00:00:00\",\"2020-09-07T00:00:00\",\"2020-09-08T00:00:00\",\"2020-09-09T00:00:00\",\"2020-09-10T00:00:00\",\"2020-09-11T00:00:00\",\"2020-09-12T00:00:00\",\"2020-09-13T00:00:00\",\"2020-09-14T00:00:00\",\"2020-09-15T00:00:00\",\"2020-09-16T00:00:00\",\"2020-09-17T00:00:00\",\"2020-09-18T00:00:00\",\"2020-09-19T00:00:00\",\"2020-09-20T00:00:00\",\"2020-09-21T00:00:00\",\"2020-09-22T00:00:00\",\"2020-09-23T00:00:00\",\"2020-09-24T00:00:00\",\"2020-09-25T00:00:00\",\"2020-09-26T00:00:00\",\"2020-09-27T00:00:00\",\"2020-09-28T00:00:00\",\"2020-09-29T00:00:00\",\"2020-09-30T00:00:00\",\"2020-10-01T00:00:00\",\"2020-10-02T00:00:00\",\"2020-10-03T00:00:00\",\"2020-10-04T00:00:00\",\"2020-10-05T00:00:00\",\"2020-10-06T00:00:00\",\"2020-10-07T00:00:00\",\"2020-10-08T00:00:00\",\"2020-10-09T00:00:00\",\"2020-10-10T00:00:00\",\"2020-10-11T00:00:00\",\"2020-10-12T00:00:00\",\"2020-10-13T00:00:00\",\"2020-10-14T00:00:00\",\"2020-10-15T00:00:00\",\"2020-10-16T00:00:00\",\"2020-10-17T00:00:00\",\"2020-10-18T00:00:00\",\"2020-10-19T00:00:00\",\"2020-10-20T00:00:00\",\"2020-10-21T00:00:00\",\"2020-10-22T00:00:00\",\"2020-10-23T00:00:00\",\"2020-10-24T00:00:00\",\"2020-10-25T00:00:00\",\"2020-10-26T00:00:00\",\"2020-10-27T00:00:00\",\"2020-10-28T00:00:00\",\"2020-10-29T00:00:00\",\"2020-10-30T00:00:00\",\"2020-10-31T00:00:00\",\"2020-11-01T00:00:00\",\"2020-11-02T00:00:00\",\"2020-11-03T00:00:00\",\"2020-11-04T00:00:00\",\"2020-11-05T00:00:00\",\"2020-11-06T00:00:00\",\"2020-11-07T00:00:00\",\"2020-11-08T00:00:00\",\"2020-11-09T00:00:00\",\"2020-11-10T00:00:00\",\"2020-11-11T00:00:00\",\"2020-11-12T00:00:00\",\"2020-11-13T00:00:00\",\"2020-11-14T00:00:00\",\"2020-11-15T00:00:00\",\"2020-11-16T00:00:00\",\"2020-11-17T00:00:00\",\"2020-11-18T00:00:00\",\"2020-11-19T00:00:00\",\"2020-11-20T00:00:00\",\"2020-11-21T00:00:00\",\"2020-11-22T00:00:00\",\"2020-11-23T00:00:00\",\"2020-11-24T00:00:00\",\"2020-11-25T00:00:00\",\"2020-11-26T00:00:00\",\"2020-11-27T00:00:00\",\"2020-11-28T00:00:00\",\"2020-11-29T00:00:00\",\"2020-11-30T00:00:00\",\"2020-12-01T00:00:00\",\"2020-12-02T00:00:00\",\"2020-12-03T00:00:00\",\"2020-12-04T00:00:00\",\"2020-12-05T00:00:00\",\"2020-12-06T00:00:00\",\"2020-12-07T00:00:00\",\"2020-12-08T00:00:00\",\"2020-12-09T00:00:00\",\"2020-12-10T00:00:00\",\"2020-12-11T00:00:00\",\"2020-12-12T00:00:00\",\"2020-12-13T00:00:00\",\"2020-12-14T00:00:00\",\"2020-12-15T00:00:00\",\"2020-12-16T00:00:00\",\"2020-12-17T00:00:00\",\"2020-12-18T00:00:00\",\"2020-12-19T00:00:00\",\"2020-12-20T00:00:00\",\"2020-12-21T00:00:00\",\"2020-12-22T00:00:00\",\"2020-12-23T00:00:00\",\"2020-12-24T00:00:00\",\"2020-12-25T00:00:00\",\"2020-12-26T00:00:00\",\"2020-12-27T00:00:00\",\"2020-12-28T00:00:00\",\"2020-12-29T00:00:00\",\"2020-12-30T00:00:00\",\"2020-12-31T00:00:00\",\"2021-01-01T00:00:00\",\"2021-01-02T00:00:00\",\"2021-01-03T00:00:00\",\"2021-01-04T00:00:00\",\"2021-01-05T00:00:00\",\"2021-01-06T00:00:00\",\"2021-01-07T00:00:00\",\"2021-01-08T00:00:00\",\"2021-01-09T00:00:00\",\"2021-01-10T00:00:00\",\"2021-01-11T00:00:00\",\"2021-01-12T00:00:00\",\"2021-01-13T00:00:00\",\"2021-01-14T00:00:00\",\"2021-01-15T00:00:00\",\"2021-01-16T00:00:00\",\"2021-01-17T00:00:00\",\"2021-01-18T00:00:00\",\"2021-01-19T00:00:00\",\"2021-01-20T00:00:00\",\"2021-01-21T00:00:00\",\"2021-01-22T00:00:00\",\"2021-01-23T00:00:00\",\"2021-01-24T00:00:00\",\"2021-01-25T00:00:00\",\"2021-01-26T00:00:00\",\"2021-01-27T00:00:00\",\"2021-01-28T00:00:00\",\"2021-01-29T00:00:00\",\"2021-01-30T00:00:00\",\"2021-01-31T00:00:00\",\"2021-02-01T00:00:00\",\"2021-02-02T00:00:00\",\"2021-02-03T00:00:00\",\"2021-02-04T00:00:00\",\"2021-02-05T00:00:00\",\"2021-02-06T00:00:00\",\"2021-02-07T00:00:00\",\"2021-02-08T00:00:00\",\"2021-02-09T00:00:00\",\"2021-02-10T00:00:00\",\"2021-02-11T00:00:00\",\"2021-02-12T00:00:00\",\"2021-02-13T00:00:00\",\"2021-02-14T00:00:00\",\"2021-02-15T00:00:00\",\"2021-02-16T00:00:00\",\"2021-02-17T00:00:00\",\"2021-02-18T00:00:00\",\"2021-02-19T00:00:00\",\"2021-02-20T00:00:00\",\"2021-02-21T00:00:00\",\"2021-02-22T00:00:00\",\"2021-02-23T00:00:00\",\"2021-02-24T00:00:00\",\"2021-02-25T00:00:00\",\"2021-02-26T00:00:00\",\"2021-02-27T00:00:00\",\"2021-02-28T00:00:00\",\"2021-03-01T00:00:00\",\"2021-03-02T00:00:00\",\"2021-03-03T00:00:00\",\"2021-03-04T00:00:00\",\"2021-03-05T00:00:00\",\"2021-03-06T00:00:00\",\"2021-03-07T00:00:00\",\"2021-03-08T00:00:00\",\"2021-03-09T00:00:00\",\"2021-03-10T00:00:00\",\"2021-03-11T00:00:00\",\"2021-03-12T00:00:00\",\"2021-03-13T00:00:00\",\"2021-03-14T00:00:00\",\"2021-03-15T00:00:00\",\"2021-03-16T00:00:00\",\"2021-03-17T00:00:00\",\"2021-03-18T00:00:00\",\"2021-03-19T00:00:00\",\"2021-03-20T00:00:00\",\"2021-03-21T00:00:00\",\"2021-03-22T00:00:00\",\"2021-03-23T00:00:00\",\"2021-03-24T00:00:00\",\"2021-03-25T00:00:00\",\"2021-03-26T00:00:00\",\"2021-03-27T00:00:00\",\"2021-03-28T00:00:00\",\"2021-03-29T00:00:00\",\"2021-03-30T00:00:00\",\"2021-03-31T00:00:00\",\"2021-04-01T00:00:00\",\"2021-04-02T00:00:00\",\"2021-04-03T00:00:00\",\"2021-04-04T00:00:00\",\"2021-04-05T00:00:00\",\"2021-04-06T00:00:00\",\"2021-04-07T00:00:00\",\"2021-04-08T00:00:00\",\"2021-04-09T00:00:00\",\"2021-04-10T00:00:00\",\"2021-04-11T00:00:00\",\"2021-04-12T00:00:00\",\"2021-04-13T00:00:00\",\"2021-04-14T00:00:00\",\"2021-04-15T00:00:00\",\"2021-04-16T00:00:00\",\"2021-04-17T00:00:00\",\"2021-04-18T00:00:00\",\"2021-04-19T00:00:00\",\"2021-04-20T00:00:00\",\"2021-04-21T00:00:00\",\"2021-04-22T00:00:00\",\"2021-04-23T00:00:00\",\"2021-04-24T00:00:00\",\"2021-04-25T00:00:00\",\"2021-04-26T00:00:00\",\"2021-04-27T00:00:00\",\"2021-04-28T00:00:00\",\"2021-04-29T00:00:00\",\"2021-04-30T00:00:00\",\"2021-05-01T00:00:00\",\"2021-05-02T00:00:00\",\"2021-05-03T00:00:00\",\"2021-05-04T00:00:00\",\"2021-05-05T00:00:00\",\"2021-05-06T00:00:00\",\"2021-05-07T00:00:00\",\"2021-05-08T00:00:00\",\"2021-05-09T00:00:00\",\"2021-05-10T00:00:00\",\"2021-05-11T00:00:00\",\"2021-05-12T00:00:00\",\"2021-05-13T00:00:00\",\"2021-05-14T00:00:00\",\"2021-05-15T00:00:00\",\"2021-05-16T00:00:00\",\"2021-05-17T00:00:00\",\"2021-05-18T00:00:00\",\"2021-05-19T00:00:00\",\"2021-05-20T00:00:00\",\"2021-05-21T00:00:00\",\"2021-05-22T00:00:00\",\"2021-05-23T00:00:00\",\"2021-05-24T00:00:00\",\"2021-05-25T00:00:00\",\"2021-05-26T00:00:00\",\"2021-05-27T00:00:00\",\"2021-05-28T00:00:00\",\"2021-05-29T00:00:00\",\"2021-05-30T00:00:00\",\"2021-05-31T00:00:00\",\"2021-06-01T00:00:00\",\"2021-06-02T00:00:00\",\"2021-06-03T00:00:00\",\"2021-06-04T00:00:00\",\"2021-06-05T00:00:00\",\"2021-06-06T00:00:00\",\"2021-06-07T00:00:00\",\"2021-06-08T00:00:00\",\"2021-06-09T00:00:00\",\"2021-06-10T00:00:00\",\"2021-06-11T00:00:00\",\"2021-06-12T00:00:00\",\"2021-06-13T00:00:00\",\"2021-06-14T00:00:00\",\"2021-06-15T00:00:00\",\"2021-06-16T00:00:00\",\"2021-06-17T00:00:00\",\"2021-06-18T00:00:00\",\"2021-06-19T00:00:00\",\"2021-06-20T00:00:00\",\"2021-06-21T00:00:00\",\"2021-06-22T00:00:00\",\"2021-06-23T00:00:00\",\"2021-06-24T00:00:00\",\"2021-06-25T00:00:00\",\"2021-06-26T00:00:00\",\"2021-06-27T00:00:00\",\"2021-06-28T00:00:00\",\"2021-06-29T00:00:00\",\"2021-06-30T00:00:00\",\"2021-07-01T00:00:00\",\"2021-07-02T00:00:00\",\"2021-07-03T00:00:00\",\"2021-07-04T00:00:00\",\"2021-07-05T00:00:00\",\"2021-07-06T00:00:00\",\"2021-07-07T00:00:00\",\"2021-07-08T00:00:00\",\"2021-07-09T00:00:00\",\"2021-07-10T00:00:00\",\"2021-07-11T00:00:00\",\"2021-07-12T00:00:00\",\"2021-07-13T00:00:00\",\"2021-07-14T00:00:00\",\"2021-07-15T00:00:00\",\"2021-07-16T00:00:00\",\"2021-07-17T00:00:00\",\"2021-07-18T00:00:00\",\"2021-07-19T00:00:00\",\"2021-07-20T00:00:00\",\"2021-07-21T00:00:00\",\"2021-07-22T00:00:00\",\"2021-07-23T00:00:00\",\"2021-07-24T00:00:00\",\"2021-07-25T00:00:00\",\"2021-07-26T00:00:00\",\"2021-07-27T00:00:00\",\"2021-07-28T00:00:00\",\"2021-07-29T00:00:00\",\"2021-07-30T00:00:00\",\"2021-07-31T00:00:00\",\"2021-08-01T00:00:00\",\"2021-08-02T00:00:00\",\"2021-08-03T00:00:00\",\"2021-08-04T00:00:00\",\"2021-08-05T00:00:00\",\"2021-08-06T00:00:00\",\"2021-08-07T00:00:00\",\"2021-08-08T00:00:00\",\"2021-08-09T00:00:00\",\"2021-08-10T00:00:00\",\"2021-08-11T00:00:00\",\"2021-08-12T00:00:00\",\"2021-08-13T00:00:00\",\"2021-08-14T00:00:00\",\"2021-08-15T00:00:00\",\"2021-08-16T00:00:00\",\"2021-08-17T00:00:00\",\"2021-08-18T00:00:00\",\"2021-08-19T00:00:00\",\"2021-08-20T00:00:00\",\"2021-08-21T00:00:00\",\"2021-08-22T00:00:00\",\"2021-08-23T00:00:00\",\"2021-08-24T00:00:00\",\"2021-08-25T00:00:00\",\"2021-08-26T00:00:00\",\"2021-08-27T00:00:00\",\"2021-08-28T00:00:00\",\"2021-08-29T00:00:00\",\"2021-08-30T00:00:00\",\"2021-08-31T00:00:00\",\"2021-09-01T00:00:00\",\"2021-09-02T00:00:00\",\"2021-09-03T00:00:00\",\"2021-09-04T00:00:00\",\"2021-09-05T00:00:00\",\"2021-09-06T00:00:00\",\"2021-09-07T00:00:00\",\"2021-09-08T00:00:00\",\"2021-09-09T00:00:00\",\"2021-09-10T00:00:00\",\"2021-09-11T00:00:00\",\"2021-09-12T00:00:00\",\"2021-09-13T00:00:00\",\"2021-09-14T00:00:00\",\"2021-09-15T00:00:00\",\"2021-09-16T00:00:00\",\"2021-09-17T00:00:00\",\"2021-09-18T00:00:00\",\"2021-09-19T00:00:00\",\"2021-09-20T00:00:00\",\"2021-09-21T00:00:00\",\"2021-09-22T00:00:00\",\"2021-09-23T00:00:00\",\"2021-09-24T00:00:00\",\"2021-09-25T00:00:00\",\"2021-09-26T00:00:00\",\"2021-09-27T00:00:00\",\"2021-09-28T00:00:00\",\"2021-09-29T00:00:00\",\"2021-09-30T00:00:00\",\"2021-10-01T00:00:00\",\"2021-10-02T00:00:00\",\"2021-10-03T00:00:00\",\"2021-10-04T00:00:00\",\"2021-10-05T00:00:00\",\"2021-10-06T00:00:00\",\"2021-10-07T00:00:00\",\"2021-10-08T00:00:00\",\"2021-10-09T00:00:00\",\"2021-10-10T00:00:00\",\"2021-10-11T00:00:00\",\"2021-10-12T00:00:00\",\"2021-10-13T00:00:00\",\"2021-10-14T00:00:00\",\"2021-10-15T00:00:00\",\"2021-10-16T00:00:00\",\"2021-10-17T00:00:00\",\"2021-10-18T00:00:00\",\"2021-10-19T00:00:00\",\"2021-10-20T00:00:00\",\"2021-10-21T00:00:00\",\"2021-10-22T00:00:00\",\"2021-10-23T00:00:00\",\"2021-10-24T00:00:00\",\"2021-10-25T00:00:00\",\"2021-10-26T00:00:00\",\"2021-10-27T00:00:00\",\"2021-10-28T00:00:00\",\"2021-10-29T00:00:00\",\"2021-10-30T00:00:00\",\"2021-10-31T00:00:00\",\"2021-11-01T00:00:00\",\"2021-11-02T00:00:00\",\"2021-11-03T00:00:00\",\"2021-11-04T00:00:00\",\"2021-11-05T00:00:00\",\"2021-11-06T00:00:00\",\"2021-11-07T00:00:00\",\"2021-11-08T00:00:00\",\"2021-11-09T00:00:00\",\"2021-11-10T00:00:00\",\"2021-11-11T00:00:00\",\"2021-11-12T00:00:00\",\"2021-11-13T00:00:00\",\"2021-11-14T00:00:00\",\"2021-11-15T00:00:00\",\"2021-11-16T00:00:00\",\"2021-11-17T00:00:00\",\"2021-11-18T00:00:00\",\"2021-11-19T00:00:00\",\"2021-11-20T00:00:00\",\"2021-11-21T00:00:00\",\"2021-11-22T00:00:00\",\"2021-11-23T00:00:00\",\"2021-11-24T00:00:00\",\"2021-11-25T00:00:00\",\"2021-11-26T00:00:00\",\"2021-11-27T00:00:00\",\"2021-11-28T00:00:00\",\"2021-11-29T00:00:00\",\"2021-11-30T00:00:00\",\"2021-12-01T00:00:00\",\"2021-12-02T00:00:00\",\"2021-12-03T00:00:00\",\"2021-12-04T00:00:00\",\"2021-12-05T00:00:00\",\"2021-12-06T00:00:00\",\"2021-12-07T00:00:00\",\"2021-12-08T00:00:00\",\"2021-12-09T00:00:00\",\"2021-12-10T00:00:00\",\"2021-12-11T00:00:00\",\"2021-12-12T00:00:00\",\"2021-12-13T00:00:00\",\"2021-12-14T00:00:00\",\"2021-12-15T00:00:00\",\"2021-12-16T00:00:00\",\"2021-12-17T00:00:00\",\"2021-12-18T00:00:00\",\"2021-12-19T00:00:00\",\"2021-12-20T00:00:00\",\"2021-12-21T00:00:00\",\"2021-12-22T00:00:00\",\"2021-12-23T00:00:00\",\"2021-12-24T00:00:00\",\"2021-12-25T00:00:00\",\"2021-12-26T00:00:00\",\"2021-12-27T00:00:00\",\"2021-12-28T00:00:00\",\"2021-12-29T00:00:00\",\"2021-12-30T00:00:00\",\"2021-12-31T00:00:00\"],\"y\":[8937.869340778125,9002.36210578027,9066.854870782417,9131.347635784563,9195.84040078671,9260.333165788856,9324.825930791001,9389.318695793147,9453.811460795292,9518.30422579744,9582.796990799585,9647.28975580173,9711.782520803876,9776.275285806021,9840.768050808168,9905.260815810314,9969.753580812461,10034.246345814607,10098.739110816752,10163.231875818898,10227.724640821043,10292.21740582319,10356.710170825336,10421.202935827481,10485.695700829627,10550.188465831774,10614.68123083392,10679.173995836065,10743.666760838212,10808.159525840358,10872.652290842503,10937.145055844649,11001.637820846794,11066.130585848941,11130.623350851087,11195.116115853232,11259.608880855378,11324.101645857523,11388.594410859672,11453.087175861818,11517.579940863963,11582.072705866109,11646.565470868254,11711.058235870401,11775.551000872547,11840.043765874692,11904.536530876838,11969.029295878983,12033.52206088113,12098.014825883276,12162.507590885421,12227.000355887567,12291.493120889712,12355.98588589186,12420.478650894005,12484.97141589615,12549.464180898296,12613.956945900441,12678.449710902589,12742.942475904734,12807.43524090688,12871.928005909025,12936.420770911174,13000.91353591332,13065.406300915465,13129.89906591761,13194.391830919758,13258.884595921903,13323.377360924049,13387.870125926194,13452.36289092834,13516.855655930487,13581.348420932633,13645.841185934778,13710.333950936923,13774.826715939069,13839.319480941216,13903.81224594336,13968.305010945507,14032.797775947653,14097.290540949798,14161.783307343514,14226.276073737228,14290.768840130944,14355.26160652466,14419.754372918374,14484.24713931209,14548.739905705803,14613.23267209952,14677.725438493233,14742.21820488695,14806.710971280665,14871.203737674383,14935.696504068095,15000.18927046181,15064.682036855525,15129.174803249241,15193.667569642956,15258.16033603667,15322.653102430388,15387.145868824102,15451.638635217818,15516.13140161153,15580.624168005246,15645.11693439896,15709.609700792678,15774.102467186392,15838.595233580107,15903.087999973823,15967.580766367535,16032.073532761253,16096.566299154965,16161.059065548683,16225.551831942397,16290.044598336111,16354.537364729827,16419.030131123545,16483.522897517258,16548.015663910974,16612.50843030469,16677.001196698402,16741.493963092118,16805.98672948583,16870.47949587955,16934.972262273266,16999.465028666982,17063.957795060694,17128.45056145441,17192.943327848123,17257.436094241843,17321.928860635555,17386.42162702927,17450.914393422987,17515.4071598167,17579.899926210415,17644.392692604128,17708.885458997847,17773.37822539156,17837.870991785276,17902.36375817899,17966.856524572708,18031.34929096642,18095.842057360136,18160.334823753852,18224.827590147568,18289.32035654128,18353.813122934996,18418.305889328713,18482.798655722425,18547.291422116145,18611.784188509857,18676.276954903573,18740.769721297285,18805.262487691005,18869.755254084717,18934.248020478433,18998.74078687215,19063.23355326586,19127.726319659578,19192.21908605329,19256.711852447006,19321.2084322879,19385.705012128798,19450.20159196969,19514.69817181059,19579.19475165148,19643.691331492377,19708.18791133327,19772.68449117417,19837.181071015064,19901.677650855956,19966.174230696855,20030.670810537747,20095.167390378643,20159.663970219535,20224.160550060435,20288.657129901327,20353.153709742222,20417.65028958312,20482.146869424014,20546.64344926491,20611.1400291058,20675.6366089467,20740.133188787593,20804.62976862849,20869.12634846938,20933.622928310277,20998.119508151176,21062.616087992068,21127.112667832964,21191.609247673856,21256.105827514755,21320.602407355647,21385.098987196543,21449.595567037442,21514.092146878334,21578.588726719227,21643.085306560122,21707.58188640102,21772.078466241914,21836.57504608281,21901.0716259237,21965.5682057646,22030.064785605493,22094.56136544639,22159.057945287284,22223.55452512818,22288.051104969076,22352.547684809968,22417.044264650864,22481.540844491756,22546.037424332655,22610.534004173547,22675.030584014443,22739.527163855342,22804.023743696234,22868.52032353713,22933.016903378022,22997.51348321892,23062.010063059814,23126.50664290071,23191.00322274161,23255.4998025825,23319.996382423393,23384.49296226429,23448.989542105188,23513.48612194608,23577.982701786976,23642.479281627868,23706.975861468767,23771.47244130966,23835.969021150555,23900.46560099145,23964.962180832343,24029.458760673242,24093.955340514134,24158.45192035503,24222.94850019593,24287.44508003682,24351.941659877713,24416.43823971861,24480.93484138123,24545.431443043846,24609.928044706467,24674.424646369087,24738.921248031707,24803.417849694324,24867.914451356944,24932.411053019565,24996.90765468219,25061.404256344802,25125.900858007422,25190.397459670046,25254.894061332667,25319.39066299528,25383.8872646579,25448.383866320524,25512.880467983145,25577.377069645765,25641.87367130838,25706.370272971002,25770.866874633623,25835.363476296243,25899.860077958863,25964.356679621484,26028.8532812841,26093.34988294672,26157.84648460934,26222.34308627196,26286.839687934582,26351.3362895972,26415.83289125982,26480.32949292244,26544.82609458506,26609.322696247677,26673.819297910297,26738.315899572917,26802.812501235538,26867.309102898154,26931.805704560775,26996.302306223395,27060.798907886016,27125.295509548632,27189.792111211253,27254.288712873873,27318.785314536497,27383.28191619911,27447.77851786173,27512.275119524355,27576.771721186975,27641.268322849595,27705.76492451221,27770.261526174832,27834.758127837453,27899.254729500073,27963.751331162694,28028.247932825314,28092.74453448793,28157.24113615055,28221.73773781317,28286.23433947579,28350.730941138412,28415.22754280103,28479.72414446365,28544.22074612627,28608.71734778889,28673.213949451507,28737.710551114127,28802.207152776748,28866.703754439368,28931.200356101985,28995.696957764605,29060.193559427225,29124.690161089846,29189.186762752463,29253.683364415083,29318.179966077703,29382.676567740324,29447.17316940294,29511.66977106554,30466.49383807151,31421.317905077485,32376.14197208346,33330.96603908939,34285.790106095366,35240.61417310134,36195.438240107316,37150.26230711329,38105.086374119266,39059.9104411252,40014.73450813117,40969.55857513715,41924.38264214312,42879.2067091491,43834.03077615503,44788.854843161,45743.67891016698,46698.50297717295,47653.32704417892,48608.15111118486,49562.975178190834,50517.79924519681,51472.623312202784,52427.44737920875,53382.27144621473,54337.095513220665,55291.91958022664,56246.74364723261,57201.56771423858,58156.39178124456,59111.21584825053,60066.03991525651,61020.86398226248,61975.688049268414,62930.51211627443,63885.336183280364,64840.160250286375,65794.98431729231,66749.80838429825,67704.63245130426,68659.4565183102,69614.28058531621,70569.10465232214,71523.92871932808,72478.7527863341,73433.57685334003,74388.40092034604,75343.22498735198,76298.04905435798,77252.87312136393,78207.69718836986,79162.52125537586,80117.3453223818,81072.16938938781,82026.99345639371,82981.81752339969,83936.64159040566,84891.46565741164,85846.28972441761,86801.11379142359,87755.93785842955,88710.76192543552,89665.5859924415,90620.41005944747,91575.23412645345,92530.05819345935,93484.8822604654,94439.7063274713,95394.53039447735,96349.35446148324,97304.17852848921,98259.00259549519,99213.82666250116,100168.65072950714,101123.47479651311,102078.29886351901,103033.12293052506,103987.94699753095,104942.77106453701,105897.5951315429,106859.60944774136,107821.62376393973,108783.6380801381,109745.65239633647,110707.66671253485,111669.68102873329,112631.69534493166,113593.70966113004,114555.72397732841,115517.73829352678,116479.75260972523,117441.7669259236,118403.78124212197,119365.79555832042,120327.80987451872,121289.82419071716,122251.83850691553,123213.8528231139,124175.86713931237,125137.88145551065,126099.8957717091,127061.91008790747,128023.92440410584,128985.9387203043,129947.95303650267,130909.96735270105,131871.98166889942,132833.99598509778,133796.01030129622,134758.0246174946,135720.03893369297,136682.05324989135,137644.0675660898,138606.08188228818,139568.09619848654,140530.110514685,141492.1248308833,142454.13914708173,143416.15346328012,144378.16777947848,145340.18209567692,146302.1964118753,147264.21072807367,148226.22504427205,149188.2393604704,150150.25367666886,151112.26799286724,152074.2823090656,153036.296625264,153998.31094146235,154960.3252576608,155922.33957385918,156884.35389005762,157846.36820625592,158808.38252245428,159770.39683865276,160732.4111548511,161694.42547104956,162656.43978724786,163618.45410344622,164580.4684196447,165542.48273584305,166504.4970520415,167466.51136823988,168428.52568443824,169390.54000063663,170352.55431683498,171314.56863303343,172276.58294923182,173238.59726543017,174200.61158162856,175162.62589782692,176124.64021402536,177086.65453022375,178048.6688464222,179010.6831626205,179972.69747881885,180934.71179501733,181896.72611121568,182858.7404274141,182828.04674400276,182797.35306059144,182766.65937718013,182735.9656937688,182705.27201035747,182674.57832694615,182643.88464353484,182613.19096012352,182582.49727671218,182551.80359330087,182521.10990988955,182490.41622647826,182459.7225430669,182429.0288596556,182398.3351762443,182367.64149283298,182336.94780942163,182306.25412601032,182275.560442599,182244.86675918766,182214.17307577634,182183.47939236503,182152.7857089537,182122.0920255424,182091.39834213105,182060.70465871974,182030.01097530843,181999.31729189708,181968.62360848577,181937.92992507445,181907.23624166317,181876.5425582518,181845.84887484048,181815.1551914292,181784.46150801788,181753.76782460653,181723.07414119522,181692.3804577839,181661.6867743726,181630.99309096124,181600.29940754993,181569.60572413862,181538.9120407273,181508.21835731596,181477.52467390464,181446.83099049333,181416.137307082,181385.44362367067,181354.74994025935,181324.05625684807,181293.36257343675,181262.66889002538,181231.9752066141,181201.28152320278,181170.58783979146,181139.89415638012,181109.2004729688,181078.5067895575,181047.81310614615,181017.11942273483,180986.42573932352,180955.7320559122,180925.03837250086,180894.34468908954,180863.65100567823,180832.9573222669,180802.26363885557,180771.56995544425,180740.87627203297,180710.18258862165,180679.48890521028,180648.795221799,180618.10153838768,180587.40785497637,180556.71417156502,180526.0204881537,180495.3268047424,180464.63312133108,180433.93943791973,180403.2457545084,181524.05956135326,182644.87336819808,183765.68717504287,184886.50098188783,186007.31478873265,187128.12859557752,188248.94240242234,189369.75620926713,190490.57001611203,191611.38382295682,192732.19762980178,193853.0114366466,194973.8252434914,196094.6390503363,197215.45285718108,198336.26666402598,199457.08047087077,200577.89427771565,201698.70808456055,202819.52189140534,203940.33569825024,205061.14950509503,206181.96331193985,207302.77711878472,208423.5909256296,209544.4047324745,210665.2185393193,211786.0323461641,212906.84615300898,214027.6599598538,215148.47376669868,216269.28757354355,217390.10138038846,218510.91518723324,219631.72899407806,220752.54280092294,221873.35660776775,222994.17041461263,224114.9842214575,225235.79802830232,226356.6118351472,227477.425641992,228598.2394488369,229719.0532556817,230839.8670625265,231960.68086937146,233081.49467621627,234202.30848306115,235323.12228990596,236443.93609675078,237564.74990359566,238685.56371044044,239806.3775172854,240927.19132413022,242048.00513097504,243168.81893781992,244289.63274466473,245410.4465515096,246531.2603583544,247652.0741651993,248772.88797204418,249893.701778889,251014.51558573387,252135.3293925787,253256.14319942356,254376.95700626835,255497.77081311325,256618.58461995813,257739.39842680295,258860.21223364782,259981.02604049264,261101.83984733743,262222.65365418233,263343.4674610272,264464.2812678721,265585.0950747168,266705.9088815616,267826.7226884066,268947.5364952514,270068.35030209634,271189.16410894116,272309.977915786,273430.79172263073,274551.60552947555,275672.41933632054,276793.23314316536,277914.0469500101,279034.8607568551,280155.6745636999,281276.4883705447,282397.3021773895,283518.1159842345,284638.9297910793,285759.74359792407,286880.55740476906,288001.3712116139,289122.18501845864,290242.99882530345,291363.81263214845,292484.62643899326,293605.440245838,294726.254052683,295847.06785952783,296967.8816663726,298088.6954732176,299209.5092800624,300330.3230869072,301451.136893752,302571.9507005968,303692.7645074418,304813.57831428654,305934.39212113153,307055.20592797635,308176.01973482117,309296.8335416659,310417.64734851074,311538.46115535573,312659.2749622005,313780.0887690453,314900.9025758903,316021.7163827351,317142.5301895799,318263.3439964247,319384.1578032695,320504.97161011444,321625.78541695926,322746.59922380425,323867.41303064907,324988.2268374938,326109.04064433865,327229.85445118346,328350.6682580284,329471.4820648732,330592.2958717182,331713.109678563,332833.9234854078,333954.7372922526,335075.5510990974,336196.36490594235,337317.17871278716,338437.992519632,339558.8063264768,340679.62013332173,341800.43394016655,342921.24774701137,344042.0615538562,345062.6608363265,346019.438609245,346790.7526358191,347726.6266506478,348390.75124563073,349237.2503197622,349837.73558910756,350600.40832327475,351416.23474931397,352026.94505861116,352605.56279286504,353161.6386909461,353709.10729924723,354377.3479218897,354975.08835720364,355041.7230604564,355504.9508764813,355970.5852443225,356060.6237067085,356645.3165423073,357225.7667162865,357423.5898051527,358201.2601127563,358411.0725950384,358774.7002640497],\"type\":\"scatter\",\"xaxis\":\"x\",\"yaxis\":\"y\"},{\"line\":{\"color\":\"#0072B2\",\"width\":2},\"mode\":\"lines\",\"name\":\"weekly\",\"x\":[\"2017-01-01T00:00:00\",\"2017-01-02T00:00:00\",\"2017-01-03T00:00:00\",\"2017-01-04T00:00:00\",\"2017-01-05T00:00:00\",\"2017-01-06T00:00:00\",\"2017-01-07T00:00:00\"],\"y\":[18.01443408962753,5.4733179173639055,-166.90553573326216,411.8242232886829,57.48026783628891,-200.06908907960602,-125.81761831793104],\"type\":\"scatter\",\"xaxis\":\"x2\",\"yaxis\":\"y2\"}],                        {\"template\":{\"data\":{\"bar\":[{\"error_x\":{\"color\":\"#2a3f5f\"},\"error_y\":{\"color\":\"#2a3f5f\"},\"marker\":{\"line\":{\"color\":\"#E5ECF6\",\"width\":0.5},\"pattern\":{\"fillmode\":\"overlay\",\"size\":10,\"solidity\":0.2}},\"type\":\"bar\"}],\"barpolar\":[{\"marker\":{\"line\":{\"color\":\"#E5ECF6\",\"width\":0.5},\"pattern\":{\"fillmode\":\"overlay\",\"size\":10,\"solidity\":0.2}},\"type\":\"barpolar\"}],\"carpet\":[{\"aaxis\":{\"endlinecolor\":\"#2a3f5f\",\"gridcolor\":\"white\",\"linecolor\":\"white\",\"minorgridcolor\":\"white\",\"startlinecolor\":\"#2a3f5f\"},\"baxis\":{\"endlinecolor\":\"#2a3f5f\",\"gridcolor\":\"white\",\"linecolor\":\"white\",\"minorgridcolor\":\"white\",\"startlinecolor\":\"#2a3f5f\"},\"type\":\"carpet\"}],\"choropleth\":[{\"colorbar\":{\"outlinewidth\":0,\"ticks\":\"\"},\"type\":\"choropleth\"}],\"contour\":[{\"colorbar\":{\"outlinewidth\":0,\"ticks\":\"\"},\"colorscale\":[[0.0,\"#0d0887\"],[0.1111111111111111,\"#46039f\"],[0.2222222222222222,\"#7201a8\"],[0.3333333333333333,\"#9c179e\"],[0.4444444444444444,\"#bd3786\"],[0.5555555555555556,\"#d8576b\"],[0.6666666666666666,\"#ed7953\"],[0.7777777777777778,\"#fb9f3a\"],[0.8888888888888888,\"#fdca26\"],[1.0,\"#f0f921\"]],\"type\":\"contour\"}],\"contourcarpet\":[{\"colorbar\":{\"outlinewidth\":0,\"ticks\":\"\"},\"type\":\"contourcarpet\"}],\"heatmap\":[{\"colorbar\":{\"outlinewidth\":0,\"ticks\":\"\"},\"colorscale\":[[0.0,\"#0d0887\"],[0.1111111111111111,\"#46039f\"],[0.2222222222222222,\"#7201a8\"],[0.3333333333333333,\"#9c179e\"],[0.4444444444444444,\"#bd3786\"],[0.5555555555555556,\"#d8576b\"],[0.6666666666666666,\"#ed7953\"],[0.7777777777777778,\"#fb9f3a\"],[0.8888888888888888,\"#fdca26\"],[1.0,\"#f0f921\"]],\"type\":\"heatmap\"}],\"heatmapgl\":[{\"colorbar\":{\"outlinewidth\":0,\"ticks\":\"\"},\"colorscale\":[[0.0,\"#0d0887\"],[0.1111111111111111,\"#46039f\"],[0.2222222222222222,\"#7201a8\"],[0.3333333333333333,\"#9c179e\"],[0.4444444444444444,\"#bd3786\"],[0.5555555555555556,\"#d8576b\"],[0.6666666666666666,\"#ed7953\"],[0.7777777777777778,\"#fb9f3a\"],[0.8888888888888888,\"#fdca26\"],[1.0,\"#f0f921\"]],\"type\":\"heatmapgl\"}],\"histogram\":[{\"marker\":{\"pattern\":{\"fillmode\":\"overlay\",\"size\":10,\"solidity\":0.2}},\"type\":\"histogram\"}],\"histogram2d\":[{\"colorbar\":{\"outlinewidth\":0,\"ticks\":\"\"},\"colorscale\":[[0.0,\"#0d0887\"],[0.1111111111111111,\"#46039f\"],[0.2222222222222222,\"#7201a8\"],[0.3333333333333333,\"#9c179e\"],[0.4444444444444444,\"#bd3786\"],[0.5555555555555556,\"#d8576b\"],[0.6666666666666666,\"#ed7953\"],[0.7777777777777778,\"#fb9f3a\"],[0.8888888888888888,\"#fdca26\"],[1.0,\"#f0f921\"]],\"type\":\"histogram2d\"}],\"histogram2dcontour\":[{\"colorbar\":{\"outlinewidth\":0,\"ticks\":\"\"},\"colorscale\":[[0.0,\"#0d0887\"],[0.1111111111111111,\"#46039f\"],[0.2222222222222222,\"#7201a8\"],[0.3333333333333333,\"#9c179e\"],[0.4444444444444444,\"#bd3786\"],[0.5555555555555556,\"#d8576b\"],[0.6666666666666666,\"#ed7953\"],[0.7777777777777778,\"#fb9f3a\"],[0.8888888888888888,\"#fdca26\"],[1.0,\"#f0f921\"]],\"type\":\"histogram2dcontour\"}],\"mesh3d\":[{\"colorbar\":{\"outlinewidth\":0,\"ticks\":\"\"},\"type\":\"mesh3d\"}],\"parcoords\":[{\"line\":{\"colorbar\":{\"outlinewidth\":0,\"ticks\":\"\"}},\"type\":\"parcoords\"}],\"pie\":[{\"automargin\":true,\"type\":\"pie\"}],\"scatter\":[{\"marker\":{\"colorbar\":{\"outlinewidth\":0,\"ticks\":\"\"}},\"type\":\"scatter\"}],\"scatter3d\":[{\"line\":{\"colorbar\":{\"outlinewidth\":0,\"ticks\":\"\"}},\"marker\":{\"colorbar\":{\"outlinewidth\":0,\"ticks\":\"\"}},\"type\":\"scatter3d\"}],\"scattercarpet\":[{\"marker\":{\"colorbar\":{\"outlinewidth\":0,\"ticks\":\"\"}},\"type\":\"scattercarpet\"}],\"scattergeo\":[{\"marker\":{\"colorbar\":{\"outlinewidth\":0,\"ticks\":\"\"}},\"type\":\"scattergeo\"}],\"scattergl\":[{\"marker\":{\"colorbar\":{\"outlinewidth\":0,\"ticks\":\"\"}},\"type\":\"scattergl\"}],\"scattermapbox\":[{\"marker\":{\"colorbar\":{\"outlinewidth\":0,\"ticks\":\"\"}},\"type\":\"scattermapbox\"}],\"scatterpolar\":[{\"marker\":{\"colorbar\":{\"outlinewidth\":0,\"ticks\":\"\"}},\"type\":\"scatterpolar\"}],\"scatterpolargl\":[{\"marker\":{\"colorbar\":{\"outlinewidth\":0,\"ticks\":\"\"}},\"type\":\"scatterpolargl\"}],\"scatterternary\":[{\"marker\":{\"colorbar\":{\"outlinewidth\":0,\"ticks\":\"\"}},\"type\":\"scatterternary\"}],\"surface\":[{\"colorbar\":{\"outlinewidth\":0,\"ticks\":\"\"},\"colorscale\":[[0.0,\"#0d0887\"],[0.1111111111111111,\"#46039f\"],[0.2222222222222222,\"#7201a8\"],[0.3333333333333333,\"#9c179e\"],[0.4444444444444444,\"#bd3786\"],[0.5555555555555556,\"#d8576b\"],[0.6666666666666666,\"#ed7953\"],[0.7777777777777778,\"#fb9f3a\"],[0.8888888888888888,\"#fdca26\"],[1.0,\"#f0f921\"]],\"type\":\"surface\"}],\"table\":[{\"cells\":{\"fill\":{\"color\":\"#EBF0F8\"},\"line\":{\"color\":\"white\"}},\"header\":{\"fill\":{\"color\":\"#C8D4E3\"},\"line\":{\"color\":\"white\"}},\"type\":\"table\"}]},\"layout\":{\"annotationdefaults\":{\"arrowcolor\":\"#2a3f5f\",\"arrowhead\":0,\"arrowwidth\":1},\"autotypenumbers\":\"strict\",\"coloraxis\":{\"colorbar\":{\"outlinewidth\":0,\"ticks\":\"\"}},\"colorscale\":{\"diverging\":[[0,\"#8e0152\"],[0.1,\"#c51b7d\"],[0.2,\"#de77ae\"],[0.3,\"#f1b6da\"],[0.4,\"#fde0ef\"],[0.5,\"#f7f7f7\"],[0.6,\"#e6f5d0\"],[0.7,\"#b8e186\"],[0.8,\"#7fbc41\"],[0.9,\"#4d9221\"],[1,\"#276419\"]],\"sequential\":[[0.0,\"#0d0887\"],[0.1111111111111111,\"#46039f\"],[0.2222222222222222,\"#7201a8\"],[0.3333333333333333,\"#9c179e\"],[0.4444444444444444,\"#bd3786\"],[0.5555555555555556,\"#d8576b\"],[0.6666666666666666,\"#ed7953\"],[0.7777777777777778,\"#fb9f3a\"],[0.8888888888888888,\"#fdca26\"],[1.0,\"#f0f921\"]],\"sequentialminus\":[[0.0,\"#0d0887\"],[0.1111111111111111,\"#46039f\"],[0.2222222222222222,\"#7201a8\"],[0.3333333333333333,\"#9c179e\"],[0.4444444444444444,\"#bd3786\"],[0.5555555555555556,\"#d8576b\"],[0.6666666666666666,\"#ed7953\"],[0.7777777777777778,\"#fb9f3a\"],[0.8888888888888888,\"#fdca26\"],[1.0,\"#f0f921\"]]},\"colorway\":[\"#636efa\",\"#EF553B\",\"#00cc96\",\"#ab63fa\",\"#FFA15A\",\"#19d3f3\",\"#FF6692\",\"#B6E880\",\"#FF97FF\",\"#FECB52\"],\"font\":{\"color\":\"#2a3f5f\"},\"geo\":{\"bgcolor\":\"white\",\"lakecolor\":\"white\",\"landcolor\":\"#E5ECF6\",\"showlakes\":true,\"showland\":true,\"subunitcolor\":\"white\"},\"hoverlabel\":{\"align\":\"left\"},\"hovermode\":\"closest\",\"mapbox\":{\"style\":\"light\"},\"paper_bgcolor\":\"white\",\"plot_bgcolor\":\"#E5ECF6\",\"polar\":{\"angularaxis\":{\"gridcolor\":\"white\",\"linecolor\":\"white\",\"ticks\":\"\"},\"bgcolor\":\"#E5ECF6\",\"radialaxis\":{\"gridcolor\":\"white\",\"linecolor\":\"white\",\"ticks\":\"\"}},\"scene\":{\"xaxis\":{\"backgroundcolor\":\"#E5ECF6\",\"gridcolor\":\"white\",\"gridwidth\":2,\"linecolor\":\"white\",\"showbackground\":true,\"ticks\":\"\",\"zerolinecolor\":\"white\"},\"yaxis\":{\"backgroundcolor\":\"#E5ECF6\",\"gridcolor\":\"white\",\"gridwidth\":2,\"linecolor\":\"white\",\"showbackground\":true,\"ticks\":\"\",\"zerolinecolor\":\"white\"},\"zaxis\":{\"backgroundcolor\":\"#E5ECF6\",\"gridcolor\":\"white\",\"gridwidth\":2,\"linecolor\":\"white\",\"showbackground\":true,\"ticks\":\"\",\"zerolinecolor\":\"white\"}},\"shapedefaults\":{\"line\":{\"color\":\"#2a3f5f\"}},\"ternary\":{\"aaxis\":{\"gridcolor\":\"white\",\"linecolor\":\"white\",\"ticks\":\"\"},\"baxis\":{\"gridcolor\":\"white\",\"linecolor\":\"white\",\"ticks\":\"\"},\"bgcolor\":\"#E5ECF6\",\"caxis\":{\"gridcolor\":\"white\",\"linecolor\":\"white\",\"ticks\":\"\"}},\"title\":{\"x\":0.05},\"xaxis\":{\"automargin\":true,\"gridcolor\":\"white\",\"linecolor\":\"white\",\"ticks\":\"\",\"title\":{\"standoff\":15},\"zerolinecolor\":\"white\",\"zerolinewidth\":2},\"yaxis\":{\"automargin\":true,\"gridcolor\":\"white\",\"linecolor\":\"white\",\"ticks\":\"\",\"title\":{\"standoff\":15},\"zerolinecolor\":\"white\",\"zerolinewidth\":2}}},\"xaxis\":{\"anchor\":\"y\",\"domain\":[0.0,1.0],\"range\":[\"2019-11-25T12:00:00\",\"2022-02-05T12:00:00\"],\"type\":\"date\"},\"yaxis\":{\"anchor\":\"x\",\"domain\":[0.575,1.0],\"title\":{\"text\":\"trend\"},\"rangemode\":\"normal\",\"zerolinecolor\":\"#AAA\"},\"xaxis2\":{\"anchor\":\"y2\",\"domain\":[0.0,1.0],\"range\":[\"2016-12-31T16:48:00\",\"2017-01-07T07:12:00\"],\"tickformat\":\"%A\",\"type\":\"date\"},\"yaxis2\":{\"anchor\":\"x2\",\"domain\":[0.0,0.425],\"title\":{\"text\":\"weekly\"},\"zerolinecolor\":\"#AAA\"},\"height\":400,\"showlegend\":false,\"width\":900},                        {\"responsive\": true}                    ).then(function(){\n",
              "                            \n",
              "var gd = document.getElementById('b47442f6-ba51-4237-91b5-766904898ed6');\n",
              "var x = new MutationObserver(function (mutations, observer) {{\n",
              "        var display = window.getComputedStyle(gd).display;\n",
              "        if (!display || display === 'none') {{\n",
              "            console.log([gd, 'removed!']);\n",
              "            Plotly.purge(gd);\n",
              "            observer.disconnect();\n",
              "        }}\n",
              "}});\n",
              "\n",
              "// Listen for the removal of the full notebook cells\n",
              "var notebookContainer = gd.closest('#notebook-container');\n",
              "if (notebookContainer) {{\n",
              "    x.observe(notebookContainer, {childList: true});\n",
              "}}\n",
              "\n",
              "// Listen for the clearing of the current output cell\n",
              "var outputEl = gd.closest('.output');\n",
              "if (outputEl) {{\n",
              "    x.observe(outputEl, {childList: true});\n",
              "}}\n",
              "\n",
              "                        })                };                            </script>        </div>\n",
              "</body>\n",
              "</html>"
            ]
          },
          "metadata": {}
        }
      ]
    },
    {
      "cell_type": "markdown",
      "metadata": {
        "id": "Up6KfKj0RgTU"
      },
      "source": [
        "# Step 11: Identify Change Points"
      ]
    },
    {
      "cell_type": "markdown",
      "metadata": {
        "id": "YzCnUQUyOwgS"
      },
      "source": [
        "In step 11, we will discuss how to identify the change points in the time series trend. \n",
        "\n",
        "Prophet automatically identifies the change points in time series data following the steps below:\n",
        "1. Specify the percentage of data used for identifying change points. The default is 80%.\n",
        "2. Identify a large number of uniformly distributed dates with possible trajectories change. \n",
        "3. Apply a sparse prior on the magnitudes of the change rate, which is similar to L1 regularization.\n",
        "\n",
        "We can list the dates corresponding to the changepoints using `.changepoints`.\n"
      ]
    },
    {
      "cell_type": "code",
      "metadata": {
        "colab": {
          "base_uri": "https://localhost:8080/"
        },
        "id": "p6NjdETYTh9h",
        "outputId": "9954968e-5935-46d0-9d85-8cf7b8c70bfa"
      },
      "source": [
        "# Default change points\n",
        "print(f'There are {len(m.changepoints)} change points. \\nThe change points dates are \\n{df.loc[df[\"ds\"].isin(m.changepoints)]}')"
      ],
      "execution_count": null,
      "outputs": [
        {
          "output_type": "stream",
          "name": "stdout",
          "text": [
            "There are 7 change points. \n",
            "The change points dates are \n",
            "            ds              y\n",
            "80  2020-03-21   10044.095703\n",
            "160 2020-06-09   18493.298828\n",
            "240 2020-08-28   28949.720703\n",
            "319 2020-11-15   33360.113281\n",
            "399 2021-02-03  121010.968750\n",
            "479 2021-04-24  165582.875000\n",
            "559 2021-07-13  144845.437500\n"
          ]
        }
      ]
    },
    {
      "cell_type": "markdown",
      "metadata": {
        "id": "J9dizaQ-q-g2"
      },
      "source": [
        "In the visualization, the red dotted lines represent the changepoints. It does not include all the seven changepoints in the chart. Only the ones with more changes are included."
      ]
    },
    {
      "cell_type": "code",
      "metadata": {
        "colab": {
          "base_uri": "https://localhost:8080/",
          "height": 441
        },
        "id": "sZE5xbRgRnE8",
        "outputId": "67229e9d-8213-4b57-92a1-77728155b1b4"
      },
      "source": [
        "# Change points to plot\n",
        "fig = m.plot(forecast)\n",
        "a = add_changepoints_to_plot(fig.gca(), m, forecast)"
      ],
      "execution_count": null,
      "outputs": [
        {
          "output_type": "display_data",
          "data": {
            "text/plain": [
              "<Figure size 720x432 with 1 Axes>"
            ],
            "image/png": "[encoded data removed]"
          },
          "metadata": {}
        }
      ]
    },
    {
      "cell_type": "markdown",
      "metadata": {
        "id": "HXyKNc5yh77D"
      },
      "source": [
        "# Step 12: Cross Validation"
      ]
    },
    {
      "cell_type": "markdown",
      "metadata": {
        "id": "r7pR5g__sySN"
      },
      "source": [
        "In step 12, we will do cross-validation for the time series model. Prophet has a `cross_validation` function to automate the comparison between the actual and the predicted values.\n",
        "* `m` is the trained model.\n",
        "* `initial='500 days'` means the initial model will be trained on the first 500 days of data.\n",
        "* `period='60 days'` means 60 days will be added to the training dataset for each additional model.\n",
        "* `horizon = '30 days'` means that the model forecasts the next 30 days. When only `horizon` is given, Prophet defaults `initial` to be triple the `horizon`, and `period` to be half of the `horizon`.\n",
        "* `parallel=\"processes\"` enables parallel processing for cross-validation. When the parallel cross-validation can be done on a single machine, \"processes\" provide the highest performance. For larger problems, \"dask\" can be used to do cross-validation on multiple machines. \n",
        "\n",
        "\n"
      ]
    },
    {
      "cell_type": "code",
      "metadata": {
        "colab": {
          "base_uri": "https://localhost:8080/"
        },
        "id": "PuHk74RGiPYm",
        "outputId": "0399182c-3d6b-4ebf-b165-b6717e3105f0"
      },
      "source": [
        "# Cross validation\n",
        "df_cv = cross_validation(m, initial='500 days', period='60 days', horizon = '30 days', parallel=\"processes\")"
      ],
      "execution_count": null,
      "outputs": [
        {
          "output_type": "stream",
          "name": "stderr",
          "text": [
            "16:19:38 - cmdstanpy - INFO - Chain [1] start processing\n",
            "16:19:38 - cmdstanpy - INFO - Chain [1] start processing\n",
            "16:19:38 - cmdstanpy - INFO - Chain [1] done processing\n",
            "16:19:38 - cmdstanpy - INFO - Chain [1] done processing\n",
            "16:19:40 - cmdstanpy - INFO - Chain [1] start processing\n",
            "16:19:40 - cmdstanpy - INFO - Chain [1] done processing\n"
          ]
        }
      ]
    },
    {
      "cell_type": "code",
      "source": [
        "df_cv.tail()"
      ],
      "metadata": {
        "colab": {
          "base_uri": "https://localhost:8080/",
          "height": 206
        },
        "id": "1X3GFL11-WIM",
        "outputId": "091e8b0e-328b-4358-dae8-cdce4a2033a8"
      },
      "execution_count": null,
      "outputs": [
        {
          "output_type": "execute_result",
          "data": {
            "text/plain": [
              "           ds           yhat     yhat_lower     yhat_upper             y  \\\n",
              "85 2021-11-26  289937.324443  241109.889389  338940.957424  302531.81250   \n",
              "86 2021-11-27  290537.851900  244275.302043  336336.106555  307485.53125   \n",
              "87 2021-11-28  291241.486015  243834.574271  337091.176356  322300.65625   \n",
              "88 2021-11-29  291334.022666  248987.647576  341509.443739  333628.03125   \n",
              "89 2021-11-30  291607.583537  245345.184130  336731.028337  347597.81250   \n",
              "\n",
              "       cutoff  \n",
              "85 2021-10-31  \n",
              "86 2021-10-31  \n",
              "87 2021-10-31  \n",
              "88 2021-10-31  \n",
              "89 2021-10-31  "
            ],
            "text/html": [
              "\n",
              "  <div id=\"df-b0c4b676-02c3-4ce2-8b80-2701cdfd4b27\">\n",
              "    <div class=\"colab-df-container\">\n",
              "      <div>\n",
              "<style scoped>\n",
              "    .dataframe tbody tr th:only-of-type {\n",
              "        vertical-align: middle;\n",
              "    }\n",
              "\n",
              "    .dataframe tbody tr th {\n",
              "        vertical-align: top;\n",
              "    }\n",
              "\n",
              "    .dataframe thead th {\n",
              "        text-align: right;\n",
              "    }\n",
              "</style>\n",
              "<table border=\"1\" class=\"dataframe\">\n",
              "  <thead>\n",
              "    <tr style=\"text-align: right;\">\n",
              "      <th></th>\n",
              "      <th>ds</th>\n",
              "      <th>yhat</th>\n",
              "      <th>yhat_lower</th>\n",
              "      <th>yhat_upper</th>\n",
              "      <th>y</th>\n",
              "      <th>cutoff</th>\n",
              "    </tr>\n",
              "  </thead>\n",
              "  <tbody>\n",
              "    <tr>\n",
              "      <th>85</th>\n",
              "      <td>2021-11-26</td>\n",
              "      <td>289937.324443</td>\n",
              "      <td>241109.889389</td>\n",
              "      <td>338940.957424</td>\n",
              "      <td>302531.81250</td>\n",
              "      <td>2021-10-31</td>\n",
              "    </tr>\n",
              "    <tr>\n",
              "      <th>86</th>\n",
              "      <td>2021-11-27</td>\n",
              "      <td>290537.851900</td>\n",
              "      <td>244275.302043</td>\n",
              "      <td>336336.106555</td>\n",
              "      <td>307485.53125</td>\n",
              "      <td>2021-10-31</td>\n",
              "    </tr>\n",
              "    <tr>\n",
              "      <th>87</th>\n",
              "      <td>2021-11-28</td>\n",
              "      <td>291241.486015</td>\n",
              "      <td>243834.574271</td>\n",
              "      <td>337091.176356</td>\n",
              "      <td>322300.65625</td>\n",
              "      <td>2021-10-31</td>\n",
              "    </tr>\n",
              "    <tr>\n",
              "      <th>88</th>\n",
              "      <td>2021-11-29</td>\n",
              "      <td>291334.022666</td>\n",
              "      <td>248987.647576</td>\n",
              "      <td>341509.443739</td>\n",
              "      <td>333628.03125</td>\n",
              "      <td>2021-10-31</td>\n",
              "    </tr>\n",
              "    <tr>\n",
              "      <th>89</th>\n",
              "      <td>2021-11-30</td>\n",
              "      <td>291607.583537</td>\n",
              "      <td>245345.184130</td>\n",
              "      <td>336731.028337</td>\n",
              "      <td>347597.81250</td>\n",
              "      <td>2021-10-31</td>\n",
              "    </tr>\n",
              "  </tbody>\n",
              "</table>\n",
              "</div>\n",
              "      <button class=\"colab-df-convert\" onclick=\"convertToInteractive('df-b0c4b676-02c3-4ce2-8b80-2701cdfd4b27')\"\n",
              "              title=\"Convert this dataframe to an interactive table.\"\n",
              "              style=\"display:none;\">\n",
              "        \n",
              "  <svg xmlns=\"http://www.w3.org/2000/svg\" height=\"24px\"viewBox=\"0 0 24 24\"\n",
              "       width=\"24px\">\n",
              "    <path d=\"M0 0h24v24H0V0z\" fill=\"none\"/>\n",
              "    <path d=\"M18.56 5.44l.94 2.06.94-2.06 2.06-.94-2.06-.94-.94-2.06-.94 2.06-2.06.94zm-11 1L8.5 8.5l.94-2.06 2.06-.94-2.06-.94L8.5 2.5l-.94 2.06-2.06.94zm10 10l.94 2.06.94-2.06 2.06-.94-2.06-.94-.94-2.06-.94 2.06-2.06.94z\"/><path d=\"M17.41 7.96l-1.37-1.37c-.4-.4-.92-.59-1.43-.59-.52 0-1.04.2-1.43.59L10.3 9.45l-7.72 7.72c-.78.78-.78 2.05 0 2.83L4 21.41c.39.39.9.59 1.41.59.51 0 1.02-.2 1.41-.59l7.78-7.78 2.81-2.81c.8-.78.8-2.07 0-2.86zM5.41 20L4 18.59l7.72-7.72 1.47 1.35L5.41 20z\"/>\n",
              "  </svg>\n",
              "      </button>\n",
              "      \n",
              "  <style>\n",
              "    .colab-df-container {\n",
              "      display:flex;\n",
              "      flex-wrap:wrap;\n",
              "      gap: 12px;\n",
              "    }\n",
              "\n",
              "    .colab-df-convert {\n",
              "      background-color: #E8F0FE;\n",
              "      border: none;\n",
              "      border-radius: 50%;\n",
              "      cursor: pointer;\n",
              "      display: none;\n",
              "      fill: #1967D2;\n",
              "      height: 32px;\n",
              "      padding: 0 0 0 0;\n",
              "      width: 32px;\n",
              "    }\n",
              "\n",
              "    .colab-df-convert:hover {\n",
              "      background-color: #E2EBFA;\n",
              "      box-shadow: 0px 1px 2px rgba(60, 64, 67, 0.3), 0px 1px 3px 1px rgba(60, 64, 67, 0.15);\n",
              "      fill: #174EA6;\n",
              "    }\n",
              "\n",
              "    [theme=dark] .colab-df-convert {\n",
              "      background-color: #3B4455;\n",
              "      fill: #D2E3FC;\n",
              "    }\n",
              "\n",
              "    [theme=dark] .colab-df-convert:hover {\n",
              "      background-color: #434B5C;\n",
              "      box-shadow: 0px 1px 3px 1px rgba(0, 0, 0, 0.15);\n",
              "      filter: drop-shadow(0px 1px 2px rgba(0, 0, 0, 0.3));\n",
              "      fill: #FFFFFF;\n",
              "    }\n",
              "  </style>\n",
              "\n",
              "      <script>\n",
              "        const buttonEl =\n",
              "          document.querySelector('#df-b0c4b676-02c3-4ce2-8b80-2701cdfd4b27 button.colab-df-convert');\n",
              "        buttonEl.style.display =\n",
              "          google.colab.kernel.accessAllowed ? 'block' : 'none';\n",
              "\n",
              "        async function convertToInteractive(key) {\n",
              "          const element = document.querySelector('#df-b0c4b676-02c3-4ce2-8b80-2701cdfd4b27');\n",
              "          const dataTable =\n",
              "            await google.colab.kernel.invokeFunction('convertToInteractive',\n",
              "                                                     [key], {});\n",
              "          if (!dataTable) return;\n",
              "\n",
              "          const docLinkHtml = 'Like what you see? Visit the ' +\n",
              "            '<a target=\"_blank\" href=https://colab.research.google.com/notebooks/data_table.ipynb>data table notebook</a>'\n",
              "            + ' to learn more about interactive tables.';\n",
              "          element.innerHTML = '';\n",
              "          dataTable['output_type'] = 'display_data';\n",
              "          await google.colab.output.renderOutput(dataTable, element);\n",
              "          const docLink = document.createElement('div');\n",
              "          docLink.innerHTML = docLinkHtml;\n",
              "          element.appendChild(docLink);\n",
              "        }\n",
              "      </script>\n",
              "    </div>\n",
              "  </div>\n",
              "  "
            ]
          },
          "metadata": {},
          "execution_count": 68
        }
      ]
    },
    {
      "cell_type": "markdown",
      "metadata": {
        "id": "44dR_NFjN67d"
      },
      "source": [
        "There are 731 days in the dataset. Therefore, after setting the 500 days for the initial model training and 60 days period, there are enough data to train three models and forecast the next 30 days. "
      ]
    },
    {
      "cell_type": "markdown",
      "metadata": {
        "id": "J1h6BkhOtF-G"
      },
      "source": [
        "# Step 13: Prophet Model Performance Evaluation"
      ]
    },
    {
      "cell_type": "markdown",
      "metadata": {
        "id": "ZiR4um8bOOD8"
      },
      "source": [
        "Step 13 evaluates the cross-validation model performance. \n",
        "* MSE (Mean Squared Error) sums up the squared difference between actual and prediction and is divided by the number of predictions.\n",
        "* RMSE (Root Mean Square Error) takes the square root of MSE.\n",
        "* MAE (Mean Absolute Error) sums up the absolute difference between actual and prediction and is divided by the number of predictions.\n",
        "* MAPE (Mean Absolute Percentage Error) sums up the absolute percentage difference between actual and prediction and is divided by the number of predictions. MAPE is independent of the magnitude of data, so it can be used to compare different forecasts. But it's undefined when the actual value is zero.\n",
        "* MDAPE (Median Absolute Percentage Error) is similar to MAPE. The difference is that it calculates the median instead of taking the average of the absolute percentage difference.\n",
        "* SMAPE (Symmetric Mean Absolute Percentage Error) is similar to MAPE. The difference is that when calculating absolute percentage error, the denominator is the actual value for MAPE and the average of the actual and predicted value for SMAPE."
      ]
    },
    {
      "cell_type": "code",
      "metadata": {
        "colab": {
          "base_uri": "https://localhost:8080/",
          "height": 206
        },
        "id": "P6VbrwkvkSPr",
        "outputId": "f9db7682-a43b-4499-bd61-48414f91062a"
      },
      "source": [
        "# Model performance metrics\n",
        "df_p = performance_metrics(df_cv)\n",
        "df_p.head()"
      ],
      "execution_count": null,
      "outputs": [
        {
          "output_type": "execute_result",
          "data": {
            "text/plain": [
              "  horizon           mse          rmse           mae      mape     mdape  \\\n",
              "0  3 days  3.881906e+09  62304.944649  60737.774123  0.238831  0.245875   \n",
              "1  4 days  4.230968e+09  65045.890681  63521.253686  0.246504  0.250894   \n",
              "2  5 days  4.113319e+09  64135.163893  62695.801282  0.248128  0.250894   \n",
              "3  6 days  3.697903e+09  60810.381997  59516.903732  0.246806  0.250894   \n",
              "4  7 days  3.470628e+09  58912.033762  58152.259056  0.251958  0.189598   \n",
              "\n",
              "      smape  coverage  \n",
              "0  0.248092  0.000000  \n",
              "1  0.257090  0.000000  \n",
              "2  0.256230  0.000000  \n",
              "3  0.248451  0.111111  \n",
              "4  0.247198  0.111111  "
            ],
            "text/html": [
              "\n",
              "  <div id=\"df-a6bbd7d8-d69e-4ac9-a8e7-a0ecf0d00645\">\n",
              "    <div class=\"colab-df-container\">\n",
              "      <div>\n",
              "<style scoped>\n",
              "    .dataframe tbody tr th:only-of-type {\n",
              "        vertical-align: middle;\n",
              "    }\n",
              "\n",
              "    .dataframe tbody tr th {\n",
              "        vertical-align: top;\n",
              "    }\n",
              "\n",
              "    .dataframe thead th {\n",
              "        text-align: right;\n",
              "    }\n",
              "</style>\n",
              "<table border=\"1\" class=\"dataframe\">\n",
              "  <thead>\n",
              "    <tr style=\"text-align: right;\">\n",
              "      <th></th>\n",
              "      <th>horizon</th>\n",
              "      <th>mse</th>\n",
              "      <th>rmse</th>\n",
              "      <th>mae</th>\n",
              "      <th>mape</th>\n",
              "      <th>mdape</th>\n",
              "      <th>smape</th>\n",
              "      <th>coverage</th>\n",
              "    </tr>\n",
              "  </thead>\n",
              "  <tbody>\n",
              "    <tr>\n",
              "      <th>0</th>\n",
              "      <td>3 days</td>\n",
              "      <td>3.881906e+09</td>\n",
              "      <td>62304.944649</td>\n",
              "      <td>60737.774123</td>\n",
              "      <td>0.238831</td>\n",
              "      <td>0.245875</td>\n",
              "      <td>0.248092</td>\n",
              "      <td>0.000000</td>\n",
              "    </tr>\n",
              "    <tr>\n",
              "      <th>1</th>\n",
              "      <td>4 days</td>\n",
              "      <td>4.230968e+09</td>\n",
              "      <td>65045.890681</td>\n",
              "      <td>63521.253686</td>\n",
              "      <td>0.246504</td>\n",
              "      <td>0.250894</td>\n",
              "      <td>0.257090</td>\n",
              "      <td>0.000000</td>\n",
              "    </tr>\n",
              "    <tr>\n",
              "      <th>2</th>\n",
              "      <td>5 days</td>\n",
              "      <td>4.113319e+09</td>\n",
              "      <td>64135.163893</td>\n",
              "      <td>62695.801282</td>\n",
              "      <td>0.248128</td>\n",
              "      <td>0.250894</td>\n",
              "      <td>0.256230</td>\n",
              "      <td>0.000000</td>\n",
              "    </tr>\n",
              "    <tr>\n",
              "      <th>3</th>\n",
              "      <td>6 days</td>\n",
              "      <td>3.697903e+09</td>\n",
              "      <td>60810.381997</td>\n",
              "      <td>59516.903732</td>\n",
              "      <td>0.246806</td>\n",
              "      <td>0.250894</td>\n",
              "      <td>0.248451</td>\n",
              "      <td>0.111111</td>\n",
              "    </tr>\n",
              "    <tr>\n",
              "      <th>4</th>\n",
              "      <td>7 days</td>\n",
              "      <td>3.470628e+09</td>\n",
              "      <td>58912.033762</td>\n",
              "      <td>58152.259056</td>\n",
              "      <td>0.251958</td>\n",
              "      <td>0.189598</td>\n",
              "      <td>0.247198</td>\n",
              "      <td>0.111111</td>\n",
              "    </tr>\n",
              "  </tbody>\n",
              "</table>\n",
              "</div>\n",
              "      <button class=\"colab-df-convert\" onclick=\"convertToInteractive('df-a6bbd7d8-d69e-4ac9-a8e7-a0ecf0d00645')\"\n",
              "              title=\"Convert this dataframe to an interactive table.\"\n",
              "              style=\"display:none;\">\n",
              "        \n",
              "  <svg xmlns=\"http://www.w3.org/2000/svg\" height=\"24px\"viewBox=\"0 0 24 24\"\n",
              "       width=\"24px\">\n",
              "    <path d=\"M0 0h24v24H0V0z\" fill=\"none\"/>\n",
              "    <path d=\"M18.56 5.44l.94 2.06.94-2.06 2.06-.94-2.06-.94-.94-2.06-.94 2.06-2.06.94zm-11 1L8.5 8.5l.94-2.06 2.06-.94-2.06-.94L8.5 2.5l-.94 2.06-2.06.94zm10 10l.94 2.06.94-2.06 2.06-.94-2.06-.94-.94-2.06-.94 2.06-2.06.94z\"/><path d=\"M17.41 7.96l-1.37-1.37c-.4-.4-.92-.59-1.43-.59-.52 0-1.04.2-1.43.59L10.3 9.45l-7.72 7.72c-.78.78-.78 2.05 0 2.83L4 21.41c.39.39.9.59 1.41.59.51 0 1.02-.2 1.41-.59l7.78-7.78 2.81-2.81c.8-.78.8-2.07 0-2.86zM5.41 20L4 18.59l7.72-7.72 1.47 1.35L5.41 20z\"/>\n",
              "  </svg>\n",
              "      </button>\n",
              "      \n",
              "  <style>\n",
              "    .colab-df-container {\n",
              "      display:flex;\n",
              "      flex-wrap:wrap;\n",
              "      gap: 12px;\n",
              "    }\n",
              "\n",
              "    .colab-df-convert {\n",
              "      background-color: #E8F0FE;\n",
              "      border: none;\n",
              "      border-radius: 50%;\n",
              "      cursor: pointer;\n",
              "      display: none;\n",
              "      fill: #1967D2;\n",
              "      height: 32px;\n",
              "      padding: 0 0 0 0;\n",
              "      width: 32px;\n",
              "    }\n",
              "\n",
              "    .colab-df-convert:hover {\n",
              "      background-color: #E2EBFA;\n",
              "      box-shadow: 0px 1px 2px rgba(60, 64, 67, 0.3), 0px 1px 3px 1px rgba(60, 64, 67, 0.15);\n",
              "      fill: #174EA6;\n",
              "    }\n",
              "\n",
              "    [theme=dark] .colab-df-convert {\n",
              "      background-color: #3B4455;\n",
              "      fill: #D2E3FC;\n",
              "    }\n",
              "\n",
              "    [theme=dark] .colab-df-convert:hover {\n",
              "      background-color: #434B5C;\n",
              "      box-shadow: 0px 1px 3px 1px rgba(0, 0, 0, 0.15);\n",
              "      filter: drop-shadow(0px 1px 2px rgba(0, 0, 0, 0.3));\n",
              "      fill: #FFFFFF;\n",
              "    }\n",
              "  </style>\n",
              "\n",
              "      <script>\n",
              "        const buttonEl =\n",
              "          document.querySelector('#df-a6bbd7d8-d69e-4ac9-a8e7-a0ecf0d00645 button.colab-df-convert');\n",
              "        buttonEl.style.display =\n",
              "          google.colab.kernel.accessAllowed ? 'block' : 'none';\n",
              "\n",
              "        async function convertToInteractive(key) {\n",
              "          const element = document.querySelector('#df-a6bbd7d8-d69e-4ac9-a8e7-a0ecf0d00645');\n",
              "          const dataTable =\n",
              "            await google.colab.kernel.invokeFunction('convertToInteractive',\n",
              "                                                     [key], {});\n",
              "          if (!dataTable) return;\n",
              "\n",
              "          const docLinkHtml = 'Like what you see? Visit the ' +\n",
              "            '<a target=\"_blank\" href=https://colab.research.google.com/notebooks/data_table.ipynb>data table notebook</a>'\n",
              "            + ' to learn more about interactive tables.';\n",
              "          element.innerHTML = '';\n",
              "          dataTable['output_type'] = 'display_data';\n",
              "          await google.colab.output.renderOutput(dataTable, element);\n",
              "          const docLink = document.createElement('div');\n",
              "          docLink.innerHTML = docLinkHtml;\n",
              "          element.appendChild(docLink);\n",
              "        }\n",
              "      </script>\n",
              "    </div>\n",
              "  </div>\n",
              "  "
            ]
          },
          "metadata": {},
          "execution_count": 62
        }
      ]
    },
    {
      "cell_type": "markdown",
      "source": [
        "# Step 13: Visualizing the Performance metrics"
      ],
      "metadata": {
        "id": "k3buAzBIhaMr"
      }
    },
    {
      "cell_type": "markdown",
      "metadata": {
        "id": "-wFUK55WYmg-"
      },
      "source": [
        "`plot_cross_validation_metric` method from Prophet helps us to plot the cross-validation performance results. \n",
        "\n",
        "* The x-axis is the horizon. Because we set the horizon to be 30 days, the x-axis has a value up to 30.\n",
        "* The y-axis is the metric we are interested in. We use `mape` as an example in this visualization. \n",
        "* On each day, we can see three dots. This is because there are three models in the cross-validation, and each dot represents the MAPE from one model.\n",
        "* The line is the aggregated performance across all the models. We can see that MAPE value increases with days, which is expected because time series tend to make better predictions for the near future than the far future."
      ]
    },
    {
      "cell_type": "code",
      "source": [
        "# Visualize the performance metrics\n",
        "fig = plot_cross_validation_metric(df_cv, metric='rmse')"
      ],
      "metadata": {
        "colab": {
          "base_uri": "https://localhost:8080/",
          "height": 527
        },
        "id": "_aQSZnw3pZvQ",
        "outputId": "6926670b-427b-43c8-e759-35a02fe2dc6b"
      },
      "execution_count": null,
      "outputs": [
        {
          "output_type": "stream",
          "name": "stderr",
          "text": [
            "/usr/local/lib/python3.7/dist-packages/prophet/plot.py:544: FutureWarning:\n",
            "\n",
            "casting timedelta64[ns] values to int64 with .astype(...) is deprecated and will raise in a future version. Use .view(...) instead.\n",
            "\n",
            "/usr/local/lib/python3.7/dist-packages/prophet/plot.py:545: FutureWarning:\n",
            "\n",
            "casting timedelta64[ns] values to int64 with .astype(...) is deprecated and will raise in a future version. Use .view(...) instead.\n",
            "\n"
          ]
        },
        {
          "output_type": "display_data",
          "data": {
            "text/plain": [
              "<Figure size 720x432 with 1 Axes>"
            ],
            "image/png": "[encoded data removed]"
          },
          "metadata": {}
        }
      ]
    }
  ]
}